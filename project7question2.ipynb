{
  "nbformat": 4,
  "nbformat_minor": 0,
  "metadata": {
    "colab": {
      "provenance": [],
      "authorship_tag": "ABX9TyOQGQ1kA2YYmsqXWE32Vvvr",
      "include_colab_link": true
    },
    "kernelspec": {
      "name": "python3",
      "display_name": "Python 3"
    },
    "language_info": {
      "name": "python"
    }
  },
  "cells": [
    {
      "cell_type": "markdown",
      "metadata": {
        "id": "view-in-github",
        "colab_type": "text"
      },
      "source": [
        "<a href=\"https://colab.research.google.com/github/kenltho2/Num-Meth23/blob/main/project7question2.ipynb\" target=\"_parent\"><img src=\"https://colab.research.google.com/assets/colab-badge.svg\" alt=\"Open In Colab\"/></a>"
      ]
    },
    {
      "cell_type": "code",
      "execution_count": 32,
      "metadata": {
        "id": "bxWHoxF0wCdl"
      },
      "outputs": [],
      "source": [
        "import math\n",
        "import pandas as pd\n",
        "import numpy as np\n",
        "import matplotlib as plt\n",
        "import scipy"
      ]
    },
    {
      "cell_type": "markdown",
      "source": [
        "**For this portion of the project we will be looking at Simpson's Rule. Simpson's Rule approximates definite integrals by interpolating a polynomial to fit the integrand based on given points and then calculates areas under sections of the integrand based on the interpolation. The formula for Simpson's Rule can be derived from the polynomial to give us an integral estimate of $\n",
        "\\begin{equation*}\n",
        "\\int_{a}^{b}f(x)\\, dx \\approx \\frac{b-a}{6} \\big[f(a) + 4f(\\frac{a+b}{2}) + f(b) \\big]\n",
        "\\end{equation*}\n",
        "$.**"
      ],
      "metadata": {
        "id": "4GVoJt8KwLc6"
      }
    },
    {
      "cell_type": "code",
      "source": [
        "def simpson(a,b,n):\n",
        "  h = (b-a)/(n-1)\n",
        "  x = np.linspace(a,b,n)\n",
        "  f = np.exp(x)\n",
        "  est = ((h/3) * (f[0]+ 4*sum(f[i] for i in range(1,n-1,2)) + 2*sum(f[j] for j in range(0,n-2,2)) + f[n-1]))\n",
        "  return est\n",
        "estimate = simpson(1,3,15)\n",
        "estimate"
      ],
      "metadata": {
        "id": "rzSyoOrAwJjz",
        "colab": {
          "base_uri": "https://localhost:8080/"
        },
        "outputId": "54e7d26c-6f13-49d9-c2f7-8a4e107684c6"
      },
      "execution_count": 39,
      "outputs": [
        {
          "output_type": "execute_result",
          "data": {
            "text/plain": [
              "17.62617916620393"
            ]
          },
          "metadata": {},
          "execution_count": 39
        }
      ]
    },
    {
      "cell_type": "code",
      "source": [
        "def F(x):\n",
        "  return math.exp(x)\n",
        "real = scipy.integrate.quad(F,1,3)\n",
        "real[0]"
      ],
      "metadata": {
        "colab": {
          "base_uri": "https://localhost:8080/"
        },
        "id": "NcbK54vwzpPF",
        "outputId": "993783ee-1ff5-4d6c-e3b9-b5b015afede1"
      },
      "execution_count": 41,
      "outputs": [
        {
          "output_type": "execute_result",
          "data": {
            "text/plain": [
              "17.367255094728623"
            ]
          },
          "metadata": {},
          "execution_count": 41
        }
      ]
    },
    {
      "cell_type": "code",
      "source": [
        "def true_error(true,approx):\n",
        "  return true - approx\n",
        "true_error(real[0],estimate)"
      ],
      "metadata": {
        "colab": {
          "base_uri": "https://localhost:8080/"
        },
        "id": "UmaY7iL8h_h9",
        "outputId": "4c6b7c26-2aa9-48c6-f264-673a6cacade9"
      },
      "execution_count": 47,
      "outputs": [
        {
          "output_type": "execute_result",
          "data": {
            "text/plain": [
              "-0.25892407147530605"
            ]
          },
          "metadata": {},
          "execution_count": 47
        }
      ]
    },
    {
      "cell_type": "code",
      "source": [
        "def rel_true_error(true, approx):\n",
        " E = ((true - approx) / true) * 100\n",
        " return E\n",
        "rel_true_error(real[0],estimate)"
      ],
      "metadata": {
        "colab": {
          "base_uri": "https://localhost:8080/"
        },
        "id": "ykuagJ8WhhbO",
        "outputId": "c8249418-daa8-47c5-eb49-8a28fb46f958"
      },
      "execution_count": 45,
      "outputs": [
        {
          "output_type": "execute_result",
          "data": {
            "text/plain": [
              "-1.4908750407765685"
            ]
          },
          "metadata": {},
          "execution_count": 45
        }
      ]
    },
    {
      "cell_type": "markdown",
      "source": [
        "**Based on the error calculations, Simpson's Rule slightly underestimates the function $e^x$ by about $-1.49\\%$. I would use Simpson's Rule to calculate integrals of a function that undulates such as $sin(x)$ and $cos(x)$ because polynomial interpolation mimics functions that undulate more intuitively and not so much functions that strictly increase like $e^x$, however it still produces a fairly accurate estimate.**"
      ],
      "metadata": {
        "id": "9tlJwo5wi1qW"
      }
    }
  ]
}