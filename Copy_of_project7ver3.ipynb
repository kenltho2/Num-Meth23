{
  "nbformat": 4,
  "nbformat_minor": 0,
  "metadata": {
    "colab": {
      "provenance": [],
      "include_colab_link": true
    },
    "kernelspec": {
      "name": "python3",
      "display_name": "Python 3"
    },
    "language_info": {
      "name": "python"
    }
  },
  "cells": [
    {
      "cell_type": "markdown",
      "metadata": {
        "id": "view-in-github",
        "colab_type": "text"
      },
      "source": [
        "<a href=\"https://colab.research.google.com/github/kenltho2/Num-Meth23/blob/main/Copy_of_project7ver3.ipynb\" target=\"_parent\"><img src=\"https://colab.research.google.com/assets/colab-badge.svg\" alt=\"Open In Colab\"/></a>"
      ]
    },
    {
      "cell_type": "code",
      "execution_count": 1,
      "metadata": {
        "id": "bxWHoxF0wCdl"
      },
      "outputs": [],
      "source": [
        "import math\n",
        "import pandas as pd\n",
        "import numpy as np\n",
        "import matplotlib as plt\n",
        "import scipy\n",
        "from scipy import integrate"
      ]
    },
    {
      "cell_type": "code",
      "source": [
        "from scipy import integrate\n",
        "\n",
        "def f(x):\n",
        "    return x**2\n",
        "\n",
        "result, error = integrate.quad(f, 0, 1)\n",
        "\n",
        "print(\"Result:\", result)\n",
        "print(\"Error:\", error)\n"
      ],
      "metadata": {
        "id": "aTdC9jQrfxjy",
        "outputId": "a3e64783-81b6-4e4f-b576-2d57374ae0e1",
        "colab": {
          "base_uri": "https://localhost:8080/"
        }
      },
      "execution_count": 2,
      "outputs": [
        {
          "output_type": "stream",
          "name": "stdout",
          "text": [
            "Result: 0.33333333333333337\n",
            "Error: 3.700743415417189e-15\n"
          ]
        }
      ]
    },
    {
      "cell_type": "code",
      "source": [
        "# create a NumPy array\n",
        "x = np.array([1, 2, 3, 4, 5])\n",
        "\n",
        "# try to pass the entire array to a function that expects a scalar\n",
        "result = 2 * x\n",
        "\n",
        "# modify the code to extract a scalar value from the array\n",
        "result = 2 * x[0]   # use indexing to extract the first element of the array\n",
        "result = 2 * x[-1]  # use negative indexing to extract the last element of the array\n",
        "result = 2 * x[1:3] # use slicing to extract a subset of the array, and then perform the operation"
      ],
      "metadata": {
        "id": "OPhf8KrAgBX3"
      },
      "execution_count": 3,
      "outputs": []
    },
    {
      "cell_type": "code",
      "source": [
        "from scipy.integrate import quad\n",
        "\n",
        "# Define the function\n",
        "def f(x):\n",
        "    return math.exp(x)\n",
        "\n",
        "# Set the interval\n",
        "a = 0\n",
        "b = 2\n",
        "\n",
        "# Calculate the signed area using calculus\n",
        "area = quad(f, a, b)[0]\n",
        "print(\"Signed area under the curve:\", area)\n",
        "\n",
        "# Graph the function over the interval\n",
        "x = np.linspace(a, b, 1000)\n",
        "y = f(x)\n",
        "plt.plot(x, y)\n",
        "plt.fill_between(x, y, 0, where=(x>=a)&(x<=b))\n",
        "plt.show()\n",
        "\n",
        "# Program an algorithm to compute the Riemann sum\n",
        "def riemann_sum(f, a, b, n, method='left'):\n",
        "    dx = (b - a) / n\n",
        "    x = np.linspace(a, b, n+1)\n",
        "    y = f(x)\n",
        "    if method == 'left':\n",
        "        y = y[:-1]\n",
        "    elif method == 'right':\n",
        "        y = y[1:]\n",
        "    elif method == 'center':\n",
        "        y = (y[:-1] + y[1:]) / 2\n",
        "    else:\n",
        "        raise ValueError(\"Invalid method\")\n",
        "    return np.sum(y * dx)\n",
        "\n",
        "# Compute the Riemann sum with various numbers of rectangles and methods\n",
        "methods = ['left', 'right', 'center']\n",
        "ns = [10, 50, 100, 500, 1000]\n",
        "for method in methods:\n",
        "    print(\"Method:\", method)\n",
        "    for n in ns:\n",
        "        riemann = riemann_sum(f, a, b, n, method)\n",
        "        error = abs(riemann - area)\n",
        "        print(\"Rectangles:\", n, \"Riemann sum:\", riemann, \"Error:\", error)\n"
      ],
      "metadata": {
        "id": "g0M-8twjhOgX",
        "outputId": "5e56d3b7-69df-455d-edd7-4f706ff8e712",
        "colab": {
          "base_uri": "https://localhost:8080/",
          "height": 373
        }
      },
      "execution_count": 4,
      "outputs": [
        {
          "output_type": "stream",
          "name": "stdout",
          "text": [
            "Signed area under the curve: 6.3890560989306495\n"
          ]
        },
        {
          "output_type": "error",
          "ename": "TypeError",
          "evalue": "ignored",
          "traceback": [
            "\u001b[0;31m---------------------------------------------------------------------------\u001b[0m",
            "\u001b[0;31mTypeError\u001b[0m                                 Traceback (most recent call last)",
            "\u001b[0;32m<ipython-input-4-eb670dbc5415>\u001b[0m in \u001b[0;36m<cell line: 17>\u001b[0;34m()\u001b[0m\n\u001b[1;32m     15\u001b[0m \u001b[0;31m# Graph the function over the interval\u001b[0m\u001b[0;34m\u001b[0m\u001b[0;34m\u001b[0m\u001b[0m\n\u001b[1;32m     16\u001b[0m \u001b[0mx\u001b[0m \u001b[0;34m=\u001b[0m \u001b[0mnp\u001b[0m\u001b[0;34m.\u001b[0m\u001b[0mlinspace\u001b[0m\u001b[0;34m(\u001b[0m\u001b[0ma\u001b[0m\u001b[0;34m,\u001b[0m \u001b[0mb\u001b[0m\u001b[0;34m,\u001b[0m \u001b[0;36m1000\u001b[0m\u001b[0;34m)\u001b[0m\u001b[0;34m\u001b[0m\u001b[0;34m\u001b[0m\u001b[0m\n\u001b[0;32m---> 17\u001b[0;31m \u001b[0my\u001b[0m \u001b[0;34m=\u001b[0m \u001b[0mf\u001b[0m\u001b[0;34m(\u001b[0m\u001b[0mx\u001b[0m\u001b[0;34m)\u001b[0m\u001b[0;34m\u001b[0m\u001b[0;34m\u001b[0m\u001b[0m\n\u001b[0m\u001b[1;32m     18\u001b[0m \u001b[0mplt\u001b[0m\u001b[0;34m.\u001b[0m\u001b[0mplot\u001b[0m\u001b[0;34m(\u001b[0m\u001b[0mx\u001b[0m\u001b[0;34m,\u001b[0m \u001b[0my\u001b[0m\u001b[0;34m)\u001b[0m\u001b[0;34m\u001b[0m\u001b[0;34m\u001b[0m\u001b[0m\n\u001b[1;32m     19\u001b[0m \u001b[0mplt\u001b[0m\u001b[0;34m.\u001b[0m\u001b[0mfill_between\u001b[0m\u001b[0;34m(\u001b[0m\u001b[0mx\u001b[0m\u001b[0;34m,\u001b[0m \u001b[0my\u001b[0m\u001b[0;34m,\u001b[0m \u001b[0;36m0\u001b[0m\u001b[0;34m,\u001b[0m \u001b[0mwhere\u001b[0m\u001b[0;34m=\u001b[0m\u001b[0;34m(\u001b[0m\u001b[0mx\u001b[0m\u001b[0;34m>=\u001b[0m\u001b[0ma\u001b[0m\u001b[0;34m)\u001b[0m\u001b[0;34m&\u001b[0m\u001b[0;34m(\u001b[0m\u001b[0mx\u001b[0m\u001b[0;34m<=\u001b[0m\u001b[0mb\u001b[0m\u001b[0;34m)\u001b[0m\u001b[0;34m)\u001b[0m\u001b[0;34m\u001b[0m\u001b[0;34m\u001b[0m\u001b[0m\n",
            "\u001b[0;32m<ipython-input-4-eb670dbc5415>\u001b[0m in \u001b[0;36mf\u001b[0;34m(x)\u001b[0m\n\u001b[1;32m      3\u001b[0m \u001b[0;31m# Define the function\u001b[0m\u001b[0;34m\u001b[0m\u001b[0;34m\u001b[0m\u001b[0m\n\u001b[1;32m      4\u001b[0m \u001b[0;32mdef\u001b[0m \u001b[0mf\u001b[0m\u001b[0;34m(\u001b[0m\u001b[0mx\u001b[0m\u001b[0;34m)\u001b[0m\u001b[0;34m:\u001b[0m\u001b[0;34m\u001b[0m\u001b[0;34m\u001b[0m\u001b[0m\n\u001b[0;32m----> 5\u001b[0;31m     \u001b[0;32mreturn\u001b[0m \u001b[0mmath\u001b[0m\u001b[0;34m.\u001b[0m\u001b[0mexp\u001b[0m\u001b[0;34m(\u001b[0m\u001b[0mx\u001b[0m\u001b[0;34m)\u001b[0m\u001b[0;34m\u001b[0m\u001b[0;34m\u001b[0m\u001b[0m\n\u001b[0m\u001b[1;32m      6\u001b[0m \u001b[0;34m\u001b[0m\u001b[0m\n\u001b[1;32m      7\u001b[0m \u001b[0;31m# Set the interval\u001b[0m\u001b[0;34m\u001b[0m\u001b[0;34m\u001b[0m\u001b[0m\n",
            "\u001b[0;31mTypeError\u001b[0m: only size-1 arrays can be converted to Python scalars"
          ]
        }
      ]
    },
    {
      "cell_type": "markdown",
      "source": [
        "**For this portion of the project we will be looking at Simpson's Rule. Simpson's Rule approximates definite integrals by interpolating a polynomial to fit the integrand based on given points and then calculates areas under sections of the integrand based on the interpolation. The formula for Simpson's Rule can be derived from the polynomial to give us an integral estimate of $\n",
        "\\begin{equation*}\n",
        "\\int_{a}^{b}f(x)\\, dx \\approx \\frac{b-a}{6} \\big[f(a) + 4f(\\frac{a+b}{2}) + f(b) \\big]\n",
        "\\end{equation*}\n",
        "$.**"
      ],
      "metadata": {
        "id": "4GVoJt8KwLc6"
      }
    },
    {
      "cell_type": "code",
      "source": [
        "def simpson(a,b,n):\n",
        "  h = (b-a)/(n-1)\n",
        "  x = np.linspace(a,b,n)\n",
        "  f = np.exp(x)\n",
        "  est = ((h/3) * (f[0]+ 4*sum(f[i] for i in range(1,n-1,2)) + 2*sum(f[j] for j in range(0,n-2,2)) + f[n-1]))\n",
        "  return est\n",
        "estimate = simpson(1,3,15)\n",
        "estimate"
      ],
      "metadata": {
        "id": "rzSyoOrAwJjz",
        "colab": {
          "base_uri": "https://localhost:8080/"
        },
        "outputId": "a3ac10c1-6cfe-468b-d8bc-62411111a871"
      },
      "execution_count": null,
      "outputs": [
        {
          "output_type": "execute_result",
          "data": {
            "text/plain": [
              "17.62617916620393"
            ]
          },
          "metadata": {},
          "execution_count": 5
        }
      ]
    },
    {
      "cell_type": "code",
      "source": [
        "def F(x):\n",
        "  return math.exp(x)\n",
        "real = scipy.integrate.quad(F,1,3)\n",
        "real[0]"
      ],
      "metadata": {
        "colab": {
          "base_uri": "https://localhost:8080/"
        },
        "id": "NcbK54vwzpPF",
        "outputId": "a57520a5-a424-4386-f312-9cc30a1fcfc9"
      },
      "execution_count": null,
      "outputs": [
        {
          "output_type": "execute_result",
          "data": {
            "text/plain": [
              "17.367255094728623"
            ]
          },
          "metadata": {},
          "execution_count": 7
        }
      ]
    },
    {
      "cell_type": "code",
      "source": [
        "def true_error(true,approx):\n",
        "  return true - approx\n",
        "true_error(real[0],estimate)"
      ],
      "metadata": {
        "colab": {
          "base_uri": "https://localhost:8080/"
        },
        "id": "UmaY7iL8h_h9",
        "outputId": "3c9d34eb-7e92-4a46-f418-3d592e316e00"
      },
      "execution_count": null,
      "outputs": [
        {
          "output_type": "execute_result",
          "data": {
            "text/plain": [
              "-0.25892407147530605"
            ]
          },
          "metadata": {},
          "execution_count": 8
        }
      ]
    },
    {
      "cell_type": "code",
      "source": [
        "def rel_true_error(true, approx):\n",
        " E = ((true - approx) / true) * 100\n",
        " return E\n",
        "rel_true_error(real[0],estimate)"
      ],
      "metadata": {
        "colab": {
          "base_uri": "https://localhost:8080/"
        },
        "id": "ykuagJ8WhhbO",
        "outputId": "59745cbc-44f9-4c73-8ecd-81a2c75a3ee4"
      },
      "execution_count": null,
      "outputs": [
        {
          "output_type": "execute_result",
          "data": {
            "text/plain": [
              "-1.4908750407765685"
            ]
          },
          "metadata": {},
          "execution_count": 9
        }
      ]
    },
    {
      "cell_type": "markdown",
      "source": [
        "**Based on the error calculations, Simpson's Rule slightly underestimates the function $e^x$ by about $-1.49\\%$. I would use Simpson's Rule to calculate integrals of a function that undulates such as $sin(x)$ and $cos(x)$ because polynomial interpolation mimics functions that undulate more intuitively and not so much functions that strictly increase like $e^x$, however it still produces a fairly accurate estimate.**"
      ],
      "metadata": {
        "id": "9tlJwo5wi1qW"
      }
    }
  ]
}