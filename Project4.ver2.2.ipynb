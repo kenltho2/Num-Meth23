{
 "cells": [
  {
   "cell_type": "markdown",
   "id": "42144b8c",
   "metadata": {},
   "source": [
    "#### <div align=\"right\"> April 9 2023 -- CPSMA 4413 -- Dr. Jacob </div>"
   ]
  },
  {
   "attachments": {},
   "cell_type": "markdown",
   "id": "1375bd87",
   "metadata": {},
   "source": [
    "# Project 4 \n",
    "\n",
    "## Aaron Arias Vales, Kennedy Thomas"
   ]
  },
  {
   "cell_type": "markdown",
   "id": "b0c8738f",
   "metadata": {},
   "source": [
    "**We begin our project for creating functions for the elementary row operations on matrices. The `swap(a,b)` function swaps rows $R_{a}$ and $R_{b}$ of our matrix $A$. The `k(a,k)` function returns $kR_{a}$ for row $R_{a}$ in $A$. Lastly, the `multiple(k,row_to_multiply,new_row)` function returns $kR_{a} + R_{b}$ for $R_{b}$ in $A$ where `a = row_to_multiply` and `b = new_row`.**"
   ]
  },
  {
   "cell_type": "code",
   "execution_count": 2,
   "id": "1fd53a2b",
   "metadata": {},
   "outputs": [],
   "source": [
    "import numpy as np\n",
    "#solving systems of equations\n",
    "\n",
    "#function to create an augmented matrix\n",
    "#n = number of unknowns\n",
    "#np.zeros((3,4)) creates a 3 x 4 array of 0s to start out\n",
    "A = np.zeros((3,4))\n",
    "\n",
    "def create_augmented_matrix(matrix_skeleton):\n",
    "    n = len(matrix_skeleton)\n",
    "    #loop to input individual values for each unknown coefficient, returning the complete initial augmented matrix\n",
    "    #row count\n",
    "    for i in range (n):\n",
    "        \n",
    "        #column count, 1 extra because this is an augmented matrix; col4 = result\n",
    "        for j in range(n+1):\n",
    "            matrix_skeleton[i][j] = float(input(str(matrix_skeleton)+'['+str(i+1)+']['+str(j+1)+'] = '))"
   ]
  },
  {
   "cell_type": "markdown",
   "id": "4ac30f5a",
   "metadata": {},
   "source": [
    "**We then test our EROs with a sample system of equations. I have chosen a homogenous system to perform Gauss-Jordan elimination upon, and will reduce the matrix to Reduced Row Echelon Form. The equations in our system are:**"
   ]
  },
  {
   "cell_type": "markdown",
   "id": "f4b81ce6",
   "metadata": {},
   "source": [
    "**$\\begin{cases} 2x-y-3z=0 \\\\\n",
    "               -x+2y-3z=0 \\\\\n",
    "               x+y+4z=0 \\end{cases}$**"
   ]
  },
  {
   "cell_type": "markdown",
   "id": "e2f1620c",
   "metadata": {},
   "source": [
    "**We can describe this system with matrices as follows:**"
   ]
  },
  {
   "cell_type": "markdown",
   "id": "5f914fa2",
   "metadata": {},
   "source": [
    "$\\begin{bmatrix} 2 & -1 & -3 \\\\\n",
    "                -1 &  2 & -3 \\\\\n",
    "                1  &  1 &  4 \\end{bmatrix}\n",
    " \\begin{bmatrix} x \\\\\n",
    "                 y \\\\\n",
    "                 z \\end{bmatrix} = \\begin{bmatrix} 0 \\\\\n",
    "                                                   0 \\\\\n",
    "                                                   0 \\end{bmatrix}$"
   ]
  },
  {
   "cell_type": "markdown",
   "id": "6bc8dbbc",
   "metadata": {},
   "source": [
    "**For Gauss-Jordan elimination, we need to convert these matrices to one augmented matrix. We convert to the augmented matrix below and begin to solve our equation with our ERO functions.**"
   ]
  },
  {
   "cell_type": "markdown",
   "id": "be5b604f",
   "metadata": {},
   "source": [
    "$\\left[\\begin{array}{ccc|c}\n",
    "2 & -1 & -3 & 0 \\\\\n",
    "-1 & 2 & -3 & 0 \\\\\n",
    "1  & 1  &  4 & 0 \\end{array}\\right]\n",
    "$"
   ]
  },
  {
   "cell_type": "code",
   "execution_count": 141,
   "id": "0ea0ef41",
   "metadata": {},
   "outputs": [
    {
     "name": "stdout",
     "output_type": "stream",
     "text": [
      "A[1][1] = 2\n",
      "A[1][2] = -1\n",
      "A[1][3] = -3\n",
      "A[1][4] = 0\n",
      "A[2][1] = -1\n",
      "A[2][2] = 2\n",
      "A[2][3] = -3\n",
      "A[2][4] = 0\n",
      "A[3][1] = 1\n",
      "A[3][2] = 1\n",
      "A[3][3] = 4\n",
      "A[3][4] = 0\n"
     ]
    }
   ],
   "source": [
    "create_augmented_matrix()"
   ]
  },
  {
   "cell_type": "code",
   "execution_count": 3,
   "id": "7ed5b489",
   "metadata": {},
   "outputs": [],
   "source": [
    "#function for swapping rows\n",
    "def swap(matrix,a,b):\n",
    "    matrix[[a-1,b-1]] = matrix[[b-1,a-1]]\n",
    "    return matrix"
   ]
  },
  {
   "cell_type": "code",
   "execution_count": 4,
   "id": "c166336c",
   "metadata": {},
   "outputs": [],
   "source": [
    "#function for multiplying by a constant\n",
    "def k(matrix,a,k):\n",
    "    matrix[a-1] = k*matrix[a-1]\n",
    "    return matrix"
   ]
  },
  {
   "cell_type": "code",
   "execution_count": 5,
   "id": "bd56950a",
   "metadata": {},
   "outputs": [],
   "source": [
    "#function for adding multiple of other row\n",
    "def multiple(matrix,k,row_to_multiply,new_row):\n",
    "    a = row_to_multiply\n",
    "    b = new_row\n",
    "    matrix[b-1] = k*matrix[a-1] + matrix[b-1] \n",
    "    return matrix"
   ]
  },
  {
   "cell_type": "code",
   "execution_count": 142,
   "id": "a9099778",
   "metadata": {},
   "outputs": [
    {
     "data": {
      "text/plain": [
       "array([[ 2., -1., -3.,  0.],\n",
       "       [-1.,  2., -3.,  0.],\n",
       "       [ 1.,  1.,  4.,  0.]])"
      ]
     },
     "execution_count": 142,
     "metadata": {},
     "output_type": "execute_result"
    }
   ],
   "source": [
    "A"
   ]
  },
  {
   "cell_type": "markdown",
   "id": "f5ada855",
   "metadata": {},
   "source": [
    "**$R_{1} \\leftrightarrow R_{3}$**"
   ]
  },
  {
   "cell_type": "code",
   "execution_count": 143,
   "id": "7da29448",
   "metadata": {},
   "outputs": [
    {
     "data": {
      "text/plain": [
       "array([[ 1.,  1.,  4.,  0.],\n",
       "       [-1.,  2., -3.,  0.],\n",
       "       [ 2., -1., -3.,  0.]])"
      ]
     },
     "execution_count": 143,
     "metadata": {},
     "output_type": "execute_result"
    }
   ],
   "source": [
    "swap(1,3)"
   ]
  },
  {
   "cell_type": "markdown",
   "id": "d34e62c6",
   "metadata": {},
   "source": [
    "**$R_{2} + R_{1}$**"
   ]
  },
  {
   "cell_type": "code",
   "execution_count": 144,
   "id": "2634bb4a",
   "metadata": {},
   "outputs": [
    {
     "data": {
      "text/plain": [
       "array([[ 1.,  1.,  4.,  0.],\n",
       "       [ 0.,  3.,  1.,  0.],\n",
       "       [ 2., -1., -3.,  0.]])"
      ]
     },
     "execution_count": 144,
     "metadata": {},
     "output_type": "execute_result"
    }
   ],
   "source": [
    "multiple(1,1,2)"
   ]
  },
  {
   "cell_type": "markdown",
   "id": "8dc5d7c4",
   "metadata": {},
   "source": [
    "**$-2R_{1} + R_{3}$**"
   ]
  },
  {
   "cell_type": "code",
   "execution_count": 145,
   "id": "7375da6d",
   "metadata": {},
   "outputs": [
    {
     "data": {
      "text/plain": [
       "array([[  1.,   1.,   4.,   0.],\n",
       "       [  0.,   3.,   1.,   0.],\n",
       "       [  0.,  -3., -11.,   0.]])"
      ]
     },
     "execution_count": 145,
     "metadata": {},
     "output_type": "execute_result"
    }
   ],
   "source": [
    "multiple(-2,1,3)"
   ]
  },
  {
   "cell_type": "markdown",
   "id": "32e4a7d1",
   "metadata": {},
   "source": [
    "**$R_{2} + R_{3}$**"
   ]
  },
  {
   "cell_type": "code",
   "execution_count": 146,
   "id": "755e064b",
   "metadata": {},
   "outputs": [
    {
     "data": {
      "text/plain": [
       "array([[  1.,   1.,   4.,   0.],\n",
       "       [  0.,   3.,   1.,   0.],\n",
       "       [  0.,   0., -10.,   0.]])"
      ]
     },
     "execution_count": 146,
     "metadata": {},
     "output_type": "execute_result"
    }
   ],
   "source": [
    "multiple(1,2,3)"
   ]
  },
  {
   "cell_type": "markdown",
   "id": "5ff39486",
   "metadata": {},
   "source": [
    "**$\\frac{1}{3}R_{2}$**"
   ]
  },
  {
   "cell_type": "code",
   "execution_count": 147,
   "id": "783ad9dc",
   "metadata": {},
   "outputs": [
    {
     "data": {
      "text/plain": [
       "array([[  1.        ,   1.        ,   4.        ,   0.        ],\n",
       "       [  0.        ,   1.        ,   0.33333333,   0.        ],\n",
       "       [  0.        ,   0.        , -10.        ,   0.        ]])"
      ]
     },
     "execution_count": 147,
     "metadata": {},
     "output_type": "execute_result"
    }
   ],
   "source": [
    "k(2,1/3)"
   ]
  },
  {
   "cell_type": "markdown",
   "id": "7a128cc0",
   "metadata": {},
   "source": [
    "**$-\\frac{1}{10}R_{3}$**"
   ]
  },
  {
   "cell_type": "code",
   "execution_count": 151,
   "id": "4806fb00",
   "metadata": {},
   "outputs": [
    {
     "data": {
      "text/plain": [
       "array([[ 1.        ,  1.        ,  4.        ,  0.        ],\n",
       "       [ 0.        ,  1.        ,  0.33333333,  0.        ],\n",
       "       [-0.        , -0.        ,  1.        , -0.        ]])"
      ]
     },
     "execution_count": 151,
     "metadata": {},
     "output_type": "execute_result"
    }
   ],
   "source": [
    "k(3,-1/10)"
   ]
  },
  {
   "cell_type": "markdown",
   "id": "c0ec770c",
   "metadata": {},
   "source": [
    "**$R_{2}-\\frac{1}{3}R_{3}$**"
   ]
  },
  {
   "cell_type": "code",
   "execution_count": 153,
   "id": "9d76d405",
   "metadata": {},
   "outputs": [
    {
     "data": {
      "text/plain": [
       "array([[ 1.,  1.,  4.,  0.],\n",
       "       [ 0.,  1.,  0.,  0.],\n",
       "       [-0., -0.,  1., -0.]])"
      ]
     },
     "execution_count": 153,
     "metadata": {},
     "output_type": "execute_result"
    }
   ],
   "source": [
    "multiple(-1/3,3,2)"
   ]
  },
  {
   "cell_type": "markdown",
   "id": "88f09ba3",
   "metadata": {},
   "source": [
    "**$R_{1}-4R_{3}$**"
   ]
  },
  {
   "cell_type": "code",
   "execution_count": 154,
   "id": "d6aa1a7e",
   "metadata": {},
   "outputs": [
    {
     "data": {
      "text/plain": [
       "array([[ 1.,  1.,  0.,  0.],\n",
       "       [ 0.,  1.,  0.,  0.],\n",
       "       [-0., -0.,  1., -0.]])"
      ]
     },
     "execution_count": 154,
     "metadata": {},
     "output_type": "execute_result"
    }
   ],
   "source": [
    "multiple(-4,3,1)"
   ]
  },
  {
   "cell_type": "markdown",
   "id": "20c3b697",
   "metadata": {},
   "source": [
    "**$R_{1}-R_{2}$**"
   ]
  },
  {
   "cell_type": "code",
   "execution_count": 155,
   "id": "c5995d16",
   "metadata": {},
   "outputs": [
    {
     "data": {
      "text/plain": [
       "array([[ 1.,  0.,  0.,  0.],\n",
       "       [ 0.,  1.,  0.,  0.],\n",
       "       [-0., -0.,  1., -0.]])"
      ]
     },
     "execution_count": 155,
     "metadata": {},
     "output_type": "execute_result"
    }
   ],
   "source": [
    "multiple(-1,2,1)"
   ]
  },
  {
   "cell_type": "markdown",
   "id": "a3784745",
   "metadata": {},
   "source": [
    "**We have reduced our matrix to RREF.**"
   ]
  },
  {
   "cell_type": "markdown",
   "id": "749e714f",
   "metadata": {},
   "source": [
    "**The only solution for this homogenous system is the trivial solution, where $\n",
    "\\begin{bmatrix} x \\\\ y \\\\ z \\end{bmatrix} = \\begin{bmatrix} 0 \\\\ 0 \\\\ 0 \\end{bmatrix}$**"
   ]
  },
  {
   "cell_type": "code",
   "execution_count": null,
   "id": "b4ade7bd",
   "metadata": {},
   "outputs": [],
   "source": [
    "import numpy as np\n",
    "\n",
    "# Define the Gauss-Jordan elimination function\n",
    "def gauss_jordan_elimination(A):\n",
    "    n = A.shape[0]\n",
    "    for i in range(n):\n",
    "        # Find the row with the maximum absolute value in the current column\n",
    "        max_row = i\n",
    "        for j in range(i+1, n):\n",
    "            if abs(A[j,i]) > abs(A[max_row,i]):\n",
    "                max_row = j\n",
    "        \n",
    "        # Swap the current row with the row with maximum absolute value\n",
    "        A[[i,max_row]] = A[[max_row,i]]\n",
    "        \n",
    "        # Normalize the current row\n",
    "        A[i] = A[i] / A[i,i]\n",
    "        \n",
    "        # Eliminate the current column in the other rows\n",
    "        for j in range(n):\n",
    "            if j != i:\n",
    "                A[j] = A[j] - A[j,i] * A[i]\n",
    "    \n",
    "    # Extract the solution\n",
    "    solution = A[:,n]\n",
    "    \n",
    "    return solution\n",
    "\n",
    "# Define the matrix A\n",
    "A = np.array([[2, -1, -3, 0], [-1, 2, -3, 0], [1, 1, 4, 0]])\n",
    "\n",
    "# Apply the operations to the matrix A\n",
    "operations = [(\"swap\", 1, 3), (\"multiple\", -2, 1, 3), (\"multiple\", 1, 2, 3), \n",
    "              (\"k\", 2, 1//3), (\"k\", 3, -1//10), (\"multiple\", -1/3, 3, 2), \n",
    "              (\"multiple\", -4, 3, 1), (\"multiple\", -1, 2, 1)]\n",
    "for op, *args in operations:\n",
    "    if op == \"swap\":\n",
    "        i, j = args\n",
    "        A[[i-1, j-1]] = A[[j-1, i-1]]\n",
    "    elif op == \"multiple\":\n",
    "        k, i, j = args\n",
    "        A[i-1] = k * A[j-1] + A[i-1]\n",
    "    elif op == \"k\":\n",
    "        k, i = args\n",
    "        A[i-1] = k * A[i-1]\n",
    "\n",
    "# Print the result\n",
    "print(A)\n",
    "\n",
    "# Solve the system of equations using Gauss-Jordan elimination\n",
    "solution = gauss_jordan_elimination(np.hstack((A, np.array([[4], [0], [0]]))))\n",
    "print(solution)"
   ]
  },
  {
   "attachments": {},
   "cell_type": "markdown",
   "id": "e70c215a",
   "metadata": {},
   "source": [
    "##2 The Explanations\n",
    "##a)\n",
    " The Gauss-Jordan elimination method is a powerful technique for solving systems of equations. It works by transforming the augmented matrix representing the system into its reduced row echelon form, which makes it easy to read off the solutions. In this report, we defined functions for swapping rows, adding rows, and multiplying by a constant, and used these functions to perform the Gauss-Jordan process on a system of equations. We also created an algorithm that can be used to solve systems of equations using the Gauss-Jordan method.\n",
    "\n",
    "##b)\n",
    "The Gauss-Jordan elimination method can be computationallyh expensive for very large system of equations. The fault lies when a when a matrix contains a row of zeros. One way to fix this is when you locate a row of zeros is to swap them with non-zero rows below them. In closing the Gauss-Jordan elimination method is a poweerful technique for solving systems of equations it does have limitations that should be taken into account, and additional steps may be needed to ensure it's applicability. "
   ]
  }
 ],
 "metadata": {
  "kernelspec": {
   "display_name": "Python 3 (ipykernel)",
   "language": "python",
   "name": "python3"
  },
  "language_info": {
   "codemirror_mode": {
    "name": "ipython",
    "version": 3
   },
   "file_extension": ".py",
   "mimetype": "text/x-python",
   "name": "python",
   "nbconvert_exporter": "python",
   "pygments_lexer": "ipython3",
   "version": "3.9.13"
  }
 },
 "nbformat": 4,
 "nbformat_minor": 5
}
