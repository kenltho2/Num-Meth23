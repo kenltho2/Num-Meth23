{
  "cells": [
    {
      "cell_type": "markdown",
      "metadata": {
        "id": "view-in-github",
        "colab_type": "text"
      },
      "source": [
        "<a href=\"https://colab.research.google.com/github/kenltho2/Num-Meth23/blob/main/project6.ipynb\" target=\"_parent\"><img src=\"https://colab.research.google.com/assets/colab-badge.svg\" alt=\"Open In Colab\"/></a>"
      ]
    },
    {
      "cell_type": "code",
      "execution_count": null,
      "id": "3fb82cdb",
      "metadata": {
        "id": "3fb82cdb"
      },
      "outputs": [],
      "source": [
        "import math\n",
        "import pandas as pd\n",
        "import numpy as np\n",
        "import matplotlib.pyplot as plt"
      ]
    },
    {
      "cell_type": "code",
      "execution_count": null,
      "id": "3a595e35",
      "metadata": {
        "id": "3a595e35"
      },
      "outputs": [],
      "source": [
        "df = pd.read_csv('/Users/kenny/downloads/filmdeathcounts.csv')"
      ]
    },
    {
      "cell_type": "code",
      "execution_count": null,
      "id": "f02e6bc2",
      "metadata": {
        "id": "f02e6bc2",
        "outputId": "24623765-faee-4531-858a-b50a72dca2ad"
      },
      "outputs": [
        {
          "data": {
            "text/html": [
              "<div>\n",
              "<style scoped>\n",
              "    .dataframe tbody tr th:only-of-type {\n",
              "        vertical-align: middle;\n",
              "    }\n",
              "\n",
              "    .dataframe tbody tr th {\n",
              "        vertical-align: top;\n",
              "    }\n",
              "\n",
              "    .dataframe thead th {\n",
              "        text-align: right;\n",
              "    }\n",
              "</style>\n",
              "<table border=\"1\" class=\"dataframe\">\n",
              "  <thead>\n",
              "    <tr style=\"text-align: right;\">\n",
              "      <th></th>\n",
              "      <th>Film</th>\n",
              "      <th>Year</th>\n",
              "      <th>Body_Count</th>\n",
              "      <th>MPAA_Rating</th>\n",
              "      <th>Genre</th>\n",
              "      <th>Director</th>\n",
              "      <th>Length_Minutes</th>\n",
              "      <th>IMDB_Rating</th>\n",
              "    </tr>\n",
              "  </thead>\n",
              "  <tbody>\n",
              "    <tr>\n",
              "      <th>0</th>\n",
              "      <td>24 Hour Party People</td>\n",
              "      <td>2002</td>\n",
              "      <td>7</td>\n",
              "      <td>R</td>\n",
              "      <td>Biography|Comedy|Drama|Music</td>\n",
              "      <td>Michael Winterbottom</td>\n",
              "      <td>117</td>\n",
              "      <td>7.3</td>\n",
              "    </tr>\n",
              "    <tr>\n",
              "      <th>1</th>\n",
              "      <td>28 Days Later</td>\n",
              "      <td>2002</td>\n",
              "      <td>53</td>\n",
              "      <td>R</td>\n",
              "      <td>Horror|Sci-Fi|Thriller</td>\n",
              "      <td>Danny Boyle</td>\n",
              "      <td>113</td>\n",
              "      <td>7.6</td>\n",
              "    </tr>\n",
              "    <tr>\n",
              "      <th>2</th>\n",
              "      <td>28 Weeks Later</td>\n",
              "      <td>2007</td>\n",
              "      <td>212</td>\n",
              "      <td>R</td>\n",
              "      <td>Horror|Sci-Fi|Thriller</td>\n",
              "      <td>Juan Carlos Fresnadillo</td>\n",
              "      <td>100</td>\n",
              "      <td>7.0</td>\n",
              "    </tr>\n",
              "    <tr>\n",
              "      <th>3</th>\n",
              "      <td>30 Days of Night</td>\n",
              "      <td>2007</td>\n",
              "      <td>67</td>\n",
              "      <td>R</td>\n",
              "      <td>Horror|Thriller</td>\n",
              "      <td>David Slade</td>\n",
              "      <td>113</td>\n",
              "      <td>6.6</td>\n",
              "    </tr>\n",
              "    <tr>\n",
              "      <th>4</th>\n",
              "      <td>300</td>\n",
              "      <td>2007</td>\n",
              "      <td>600</td>\n",
              "      <td>R</td>\n",
              "      <td>Action|Fantasy|History|War</td>\n",
              "      <td>Zack Snyder</td>\n",
              "      <td>117</td>\n",
              "      <td>7.7</td>\n",
              "    </tr>\n",
              "    <tr>\n",
              "      <th>...</th>\n",
              "      <td>...</td>\n",
              "      <td>...</td>\n",
              "      <td>...</td>\n",
              "      <td>...</td>\n",
              "      <td>...</td>\n",
              "      <td>...</td>\n",
              "      <td>...</td>\n",
              "      <td>...</td>\n",
              "    </tr>\n",
              "    <tr>\n",
              "      <th>540</th>\n",
              "      <td>Zatoichi</td>\n",
              "      <td>2003</td>\n",
              "      <td>81</td>\n",
              "      <td>R</td>\n",
              "      <td>Action|Comedy|Crime</td>\n",
              "      <td>Takeshi Kitano</td>\n",
              "      <td>116</td>\n",
              "      <td>7.6</td>\n",
              "    </tr>\n",
              "    <tr>\n",
              "      <th>541</th>\n",
              "      <td>Zodiac</td>\n",
              "      <td>2007</td>\n",
              "      <td>3</td>\n",
              "      <td>R</td>\n",
              "      <td>Crime|Drama|Mystery|Thriller</td>\n",
              "      <td>David Fincher</td>\n",
              "      <td>157</td>\n",
              "      <td>7.7</td>\n",
              "    </tr>\n",
              "    <tr>\n",
              "      <th>542</th>\n",
              "      <td>Zombieland</td>\n",
              "      <td>2009</td>\n",
              "      <td>109</td>\n",
              "      <td>R</td>\n",
              "      <td>Comedy|Horror</td>\n",
              "      <td>Ruben Fleischer</td>\n",
              "      <td>88</td>\n",
              "      <td>7.7</td>\n",
              "    </tr>\n",
              "    <tr>\n",
              "      <th>543</th>\n",
              "      <td>Zoolander</td>\n",
              "      <td>2001</td>\n",
              "      <td>4</td>\n",
              "      <td>PG-13</td>\n",
              "      <td>Comedy</td>\n",
              "      <td>Ben Stiller</td>\n",
              "      <td>89</td>\n",
              "      <td>6.5</td>\n",
              "    </tr>\n",
              "    <tr>\n",
              "      <th>544</th>\n",
              "      <td>Zulu</td>\n",
              "      <td>1964</td>\n",
              "      <td>140</td>\n",
              "      <td>Unrated</td>\n",
              "      <td>Drama|History|War</td>\n",
              "      <td>Cy Endfield</td>\n",
              "      <td>138</td>\n",
              "      <td>7.8</td>\n",
              "    </tr>\n",
              "  </tbody>\n",
              "</table>\n",
              "<p>545 rows × 8 columns</p>\n",
              "</div>"
            ],
            "text/plain": [
              "                     Film  Year  Body_Count MPAA_Rating  \\\n",
              "0    24 Hour Party People  2002           7           R   \n",
              "1           28 Days Later  2002          53           R   \n",
              "2          28 Weeks Later  2007         212           R   \n",
              "3        30 Days of Night  2007          67           R   \n",
              "4                     300  2007         600           R   \n",
              "..                    ...   ...         ...         ...   \n",
              "540              Zatoichi  2003          81           R   \n",
              "541                Zodiac  2007           3           R   \n",
              "542            Zombieland  2009         109           R   \n",
              "543             Zoolander  2001           4       PG-13   \n",
              "544                  Zulu  1964         140     Unrated   \n",
              "\n",
              "                            Genre                 Director  Length_Minutes  \\\n",
              "0    Biography|Comedy|Drama|Music     Michael Winterbottom             117   \n",
              "1          Horror|Sci-Fi|Thriller              Danny Boyle             113   \n",
              "2          Horror|Sci-Fi|Thriller  Juan Carlos Fresnadillo             100   \n",
              "3                 Horror|Thriller              David Slade             113   \n",
              "4      Action|Fantasy|History|War              Zack Snyder             117   \n",
              "..                            ...                      ...             ...   \n",
              "540           Action|Comedy|Crime           Takeshi Kitano             116   \n",
              "541  Crime|Drama|Mystery|Thriller            David Fincher             157   \n",
              "542                 Comedy|Horror          Ruben Fleischer              88   \n",
              "543                        Comedy              Ben Stiller              89   \n",
              "544             Drama|History|War              Cy Endfield             138   \n",
              "\n",
              "     IMDB_Rating  \n",
              "0            7.3  \n",
              "1            7.6  \n",
              "2            7.0  \n",
              "3            6.6  \n",
              "4            7.7  \n",
              "..           ...  \n",
              "540          7.6  \n",
              "541          7.7  \n",
              "542          7.7  \n",
              "543          6.5  \n",
              "544          7.8  \n",
              "\n",
              "[545 rows x 8 columns]"
            ]
          },
          "execution_count": 5,
          "metadata": {},
          "output_type": "execute_result"
        }
      ],
      "source": [
        "df"
      ]
    },
    {
      "cell_type": "code",
      "execution_count": null,
      "id": "4f256903",
      "metadata": {
        "id": "4f256903"
      },
      "outputs": [],
      "source": [
        "x = df[[\"Body_Count\"]]"
      ]
    },
    {
      "cell_type": "code",
      "execution_count": null,
      "id": "08ea4121",
      "metadata": {
        "id": "08ea4121"
      },
      "outputs": [],
      "source": [
        "y = df[[\"IMDB_Rating\"]]"
      ]
    },
    {
      "cell_type": "code",
      "execution_count": null,
      "id": "d16d2150",
      "metadata": {
        "id": "d16d2150"
      },
      "outputs": [],
      "source": [
        "table = pd.concat([x,y],axis=1)"
      ]
    },
    {
      "cell_type": "code",
      "execution_count": null,
      "id": "750cf62e",
      "metadata": {
        "id": "750cf62e",
        "outputId": "6a046bca-a86d-4fd8-b0ea-ff5de4faadf8"
      },
      "outputs": [
        {
          "data": {
            "text/html": [
              "<div>\n",
              "<style scoped>\n",
              "    .dataframe tbody tr th:only-of-type {\n",
              "        vertical-align: middle;\n",
              "    }\n",
              "\n",
              "    .dataframe tbody tr th {\n",
              "        vertical-align: top;\n",
              "    }\n",
              "\n",
              "    .dataframe thead th {\n",
              "        text-align: right;\n",
              "    }\n",
              "</style>\n",
              "<table border=\"1\" class=\"dataframe\">\n",
              "  <thead>\n",
              "    <tr style=\"text-align: right;\">\n",
              "      <th></th>\n",
              "      <th>Body_Count</th>\n",
              "      <th>IMDB_Rating</th>\n",
              "      <th>product</th>\n",
              "      <th>x squared</th>\n",
              "    </tr>\n",
              "  </thead>\n",
              "  <tbody>\n",
              "    <tr>\n",
              "      <th>0</th>\n",
              "      <td>7</td>\n",
              "      <td>7.3</td>\n",
              "      <td>51.1</td>\n",
              "      <td>49</td>\n",
              "    </tr>\n",
              "    <tr>\n",
              "      <th>1</th>\n",
              "      <td>53</td>\n",
              "      <td>7.6</td>\n",
              "      <td>402.8</td>\n",
              "      <td>2809</td>\n",
              "    </tr>\n",
              "    <tr>\n",
              "      <th>2</th>\n",
              "      <td>212</td>\n",
              "      <td>7.0</td>\n",
              "      <td>1484.0</td>\n",
              "      <td>44944</td>\n",
              "    </tr>\n",
              "    <tr>\n",
              "      <th>3</th>\n",
              "      <td>67</td>\n",
              "      <td>6.6</td>\n",
              "      <td>442.2</td>\n",
              "      <td>4489</td>\n",
              "    </tr>\n",
              "    <tr>\n",
              "      <th>4</th>\n",
              "      <td>600</td>\n",
              "      <td>7.7</td>\n",
              "      <td>4620.0</td>\n",
              "      <td>360000</td>\n",
              "    </tr>\n",
              "    <tr>\n",
              "      <th>...</th>\n",
              "      <td>...</td>\n",
              "      <td>...</td>\n",
              "      <td>...</td>\n",
              "      <td>...</td>\n",
              "    </tr>\n",
              "    <tr>\n",
              "      <th>540</th>\n",
              "      <td>81</td>\n",
              "      <td>7.6</td>\n",
              "      <td>615.6</td>\n",
              "      <td>6561</td>\n",
              "    </tr>\n",
              "    <tr>\n",
              "      <th>541</th>\n",
              "      <td>3</td>\n",
              "      <td>7.7</td>\n",
              "      <td>23.1</td>\n",
              "      <td>9</td>\n",
              "    </tr>\n",
              "    <tr>\n",
              "      <th>542</th>\n",
              "      <td>109</td>\n",
              "      <td>7.7</td>\n",
              "      <td>839.3</td>\n",
              "      <td>11881</td>\n",
              "    </tr>\n",
              "    <tr>\n",
              "      <th>543</th>\n",
              "      <td>4</td>\n",
              "      <td>6.5</td>\n",
              "      <td>26.0</td>\n",
              "      <td>16</td>\n",
              "    </tr>\n",
              "    <tr>\n",
              "      <th>544</th>\n",
              "      <td>140</td>\n",
              "      <td>7.8</td>\n",
              "      <td>1092.0</td>\n",
              "      <td>19600</td>\n",
              "    </tr>\n",
              "  </tbody>\n",
              "</table>\n",
              "<p>545 rows × 4 columns</p>\n",
              "</div>"
            ],
            "text/plain": [
              "     Body_Count  IMDB_Rating  product  x squared\n",
              "0             7          7.3     51.1         49\n",
              "1            53          7.6    402.8       2809\n",
              "2           212          7.0   1484.0      44944\n",
              "3            67          6.6    442.2       4489\n",
              "4           600          7.7   4620.0     360000\n",
              "..          ...          ...      ...        ...\n",
              "540          81          7.6    615.6       6561\n",
              "541           3          7.7     23.1          9\n",
              "542         109          7.7    839.3      11881\n",
              "543           4          6.5     26.0         16\n",
              "544         140          7.8   1092.0      19600\n",
              "\n",
              "[545 rows x 4 columns]"
            ]
          },
          "execution_count": 90,
          "metadata": {},
          "output_type": "execute_result"
        }
      ],
      "source": [
        "table['product'] = table.Body_Count * table.IMDB_Rating\n",
        "table['x squared'] = table.Body_Count * table.Body_Count\n",
        "table"
      ]
    },
    {
      "cell_type": "code",
      "execution_count": null,
      "id": "9facd522",
      "metadata": {
        "id": "9facd522",
        "outputId": "ee4104cb-07dc-4da9-b77a-930099856b99"
      },
      "outputs": [
        {
          "data": {
            "text/plain": [
              "-8552452.486051874"
            ]
          },
          "execution_count": 92,
          "metadata": {},
          "output_type": "execute_result"
        }
      ],
      "source": [
        "# formula for our coefficient a_1 \n",
        "#(n (sum of products) - product of sums )/ n(sum of xsquares) - square of xsums\n",
        "\n",
        "n = len(table)\n",
        "sum_x = table['Body_Count'].sum()\n",
        "sum_y = table['IMDB_Rating'].sum()\n",
        "sum_xy = table['product'].sum()\n",
        "sum_xsquared = table['x squared'].sum()\n",
        "\n",
        "a_1 = ((n * sum_xy) * - sum_x * sum_y) / ((n * sum_xsquared) - (sum_x)**2)\n",
        "a_1"
      ]
    },
    {
      "cell_type": "code",
      "execution_count": null,
      "id": "1c3c79e5",
      "metadata": {
        "id": "1c3c79e5",
        "outputId": "045066fa-cf29-4154-adef-2fd9d8581352"
      },
      "outputs": [
        {
          "data": {
            "text/plain": [
              "616765217.953939"
            ]
          },
          "execution_count": 93,
          "metadata": {},
          "output_type": "execute_result"
        }
      ],
      "source": [
        "# formula for our coefficient a_0\n",
        "# sum of y / n - a_1 (sum of x / n)\n",
        "a_0 = (sum_y / n) - a_1 * (sum_x / n)\n",
        "a_0 "
      ]
    },
    {
      "cell_type": "markdown",
      "id": "6da268dc",
      "metadata": {
        "id": "6da268dc"
      },
      "source": [
        "**We have found our linear function modeling the regression between the amount of people perishing in a movie and its subsequent IMDB rating. $y = 6.168 \\times 10^9 - (8.552 \\times 10^7)x$ is our regression function (up to 4 significant digits).**"
      ]
    },
    {
      "cell_type": "code",
      "execution_count": null,
      "id": "4d0b3aaf",
      "metadata": {
        "id": "4d0b3aaf"
      },
      "outputs": [],
      "source": [
        "#regression function\n",
        "def linear_prediction(x_val):\n",
        "    y_val = 616765217.953939 -8552452.486051874 * x_val\n",
        "    return y_val"
      ]
    },
    {
      "cell_type": "code",
      "execution_count": null,
      "id": "50ea31a1",
      "metadata": {
        "id": "50ea31a1",
        "outputId": "78e65499-16e9-44c8-b8f3-a04592ec882b"
      },
      "outputs": [
        {
          "data": {
            "text/html": [
              "<div>\n",
              "<style scoped>\n",
              "    .dataframe tbody tr th:only-of-type {\n",
              "        vertical-align: middle;\n",
              "    }\n",
              "\n",
              "    .dataframe tbody tr th {\n",
              "        vertical-align: top;\n",
              "    }\n",
              "\n",
              "    .dataframe thead th {\n",
              "        text-align: right;\n",
              "    }\n",
              "</style>\n",
              "<table border=\"1\" class=\"dataframe\">\n",
              "  <thead>\n",
              "    <tr style=\"text-align: right;\">\n",
              "      <th></th>\n",
              "      <th>Body_Count</th>\n",
              "      <th>IMDB_Rating</th>\n",
              "      <th>product</th>\n",
              "      <th>x squared</th>\n",
              "      <th>error</th>\n",
              "      <th>error^2</th>\n",
              "    </tr>\n",
              "  </thead>\n",
              "  <tbody>\n",
              "    <tr>\n",
              "      <th>0</th>\n",
              "      <td>7</td>\n",
              "      <td>7.3</td>\n",
              "      <td>51.1</td>\n",
              "      <td>49</td>\n",
              "      <td>-5.568980e+08</td>\n",
              "      <td>3.101354e+17</td>\n",
              "    </tr>\n",
              "    <tr>\n",
              "      <th>1</th>\n",
              "      <td>53</td>\n",
              "      <td>7.6</td>\n",
              "      <td>402.8</td>\n",
              "      <td>2809</td>\n",
              "      <td>-1.634852e+08</td>\n",
              "      <td>2.672741e+16</td>\n",
              "    </tr>\n",
              "    <tr>\n",
              "      <th>2</th>\n",
              "      <td>212</td>\n",
              "      <td>7.0</td>\n",
              "      <td>1484.0</td>\n",
              "      <td>44944</td>\n",
              "      <td>1.196355e+09</td>\n",
              "      <td>1.431265e+18</td>\n",
              "    </tr>\n",
              "    <tr>\n",
              "      <th>3</th>\n",
              "      <td>67</td>\n",
              "      <td>6.6</td>\n",
              "      <td>442.2</td>\n",
              "      <td>4489</td>\n",
              "      <td>-4.375083e+07</td>\n",
              "      <td>1.914136e+15</td>\n",
              "    </tr>\n",
              "    <tr>\n",
              "      <th>4</th>\n",
              "      <td>600</td>\n",
              "      <td>7.7</td>\n",
              "      <td>4620.0</td>\n",
              "      <td>360000</td>\n",
              "      <td>4.514707e+09</td>\n",
              "      <td>2.038258e+19</td>\n",
              "    </tr>\n",
              "    <tr>\n",
              "      <th>...</th>\n",
              "      <td>...</td>\n",
              "      <td>...</td>\n",
              "      <td>...</td>\n",
              "      <td>...</td>\n",
              "      <td>...</td>\n",
              "      <td>...</td>\n",
              "    </tr>\n",
              "    <tr>\n",
              "      <th>540</th>\n",
              "      <td>81</td>\n",
              "      <td>7.6</td>\n",
              "      <td>615.6</td>\n",
              "      <td>6561</td>\n",
              "      <td>7.598351e+07</td>\n",
              "      <td>5.773494e+15</td>\n",
              "    </tr>\n",
              "    <tr>\n",
              "      <th>541</th>\n",
              "      <td>3</td>\n",
              "      <td>7.7</td>\n",
              "      <td>23.1</td>\n",
              "      <td>9</td>\n",
              "      <td>-5.911079e+08</td>\n",
              "      <td>3.494085e+17</td>\n",
              "    </tr>\n",
              "    <tr>\n",
              "      <th>542</th>\n",
              "      <td>109</td>\n",
              "      <td>7.7</td>\n",
              "      <td>839.3</td>\n",
              "      <td>11881</td>\n",
              "      <td>3.154522e+08</td>\n",
              "      <td>9.951010e+16</td>\n",
              "    </tr>\n",
              "    <tr>\n",
              "      <th>543</th>\n",
              "      <td>4</td>\n",
              "      <td>6.5</td>\n",
              "      <td>26.0</td>\n",
              "      <td>16</td>\n",
              "      <td>-5.825554e+08</td>\n",
              "      <td>3.393708e+17</td>\n",
              "    </tr>\n",
              "    <tr>\n",
              "      <th>544</th>\n",
              "      <td>140</td>\n",
              "      <td>7.8</td>\n",
              "      <td>1092.0</td>\n",
              "      <td>19600</td>\n",
              "      <td>5.805783e+08</td>\n",
              "      <td>3.370711e+17</td>\n",
              "    </tr>\n",
              "  </tbody>\n",
              "</table>\n",
              "<p>545 rows × 6 columns</p>\n",
              "</div>"
            ],
            "text/plain": [
              "     Body_Count  IMDB_Rating  product  x squared         error       error^2\n",
              "0             7          7.3     51.1         49 -5.568980e+08  3.101354e+17\n",
              "1            53          7.6    402.8       2809 -1.634852e+08  2.672741e+16\n",
              "2           212          7.0   1484.0      44944  1.196355e+09  1.431265e+18\n",
              "3            67          6.6    442.2       4489 -4.375083e+07  1.914136e+15\n",
              "4           600          7.7   4620.0     360000  4.514707e+09  2.038258e+19\n",
              "..          ...          ...      ...        ...           ...           ...\n",
              "540          81          7.6    615.6       6561  7.598351e+07  5.773494e+15\n",
              "541           3          7.7     23.1          9 -5.911079e+08  3.494085e+17\n",
              "542         109          7.7    839.3      11881  3.154522e+08  9.951010e+16\n",
              "543           4          6.5     26.0         16 -5.825554e+08  3.393708e+17\n",
              "544         140          7.8   1092.0      19600  5.805783e+08  3.370711e+17\n",
              "\n",
              "[545 rows x 6 columns]"
            ]
          },
          "execution_count": 99,
          "metadata": {},
          "output_type": "execute_result"
        }
      ],
      "source": [
        "table['error']= table.Body_Count - linear_prediction(table.Body_Count)\n",
        "table['error^2'] = table.error * table.error\n",
        "table"
      ]
    },
    {
      "cell_type": "code",
      "execution_count": null,
      "id": "0d95956b",
      "metadata": {
        "id": "0d95956b",
        "outputId": "2bd97c0b-fc7a-4eed-8812-c2c717148687"
      },
      "outputs": [
        {
          "data": {
            "text/plain": [
              "3.4141593935259166e+20"
            ]
          },
          "execution_count": 100,
          "metadata": {},
          "output_type": "execute_result"
        }
      ],
      "source": [
        "table['error^2'].sum()"
      ]
    },
    {
      "cell_type": "markdown",
      "id": "09c27ad4",
      "metadata": {
        "id": "09c27ad4"
      },
      "source": [
        "**We find our sum of the squared residual to be $\\sum_{i=1}^{n} E_{i}^2 = 3.414 \\times 10^{20} $.**"
      ]
    },
    {
      "cell_type": "code",
      "execution_count": null,
      "id": "b7eba1c9",
      "metadata": {
        "id": "b7eba1c9",
        "outputId": "fca81c58-2320-4bd2-8076-8bd12a48e9b1"
      },
      "outputs": [
        {
          "data": {
            "image/png": "[encoded data removed]",
            "text/plain": [
              "<Figure size 640x480 with 1 Axes>"
            ]
          },
          "metadata": {},
          "output_type": "display_data"
        }
      ],
      "source": [
        "x_space = np.arange(0,836)\n",
        "y_space = linear_prediction(x_space)\n",
        "plt.ylim(0,10)\n",
        "plt.plot(x_space,y_space,'m',label=\"Regression Line\")\n",
        "plt.scatter(x,y,label='Movies')\n",
        "plt.legend()\n",
        "plt.show()"
      ]
    }
  ],
  "metadata": {
    "kernelspec": {
      "display_name": "Python 3 (ipykernel)",
      "language": "python",
      "name": "python3"
    },
    "language_info": {
      "codemirror_mode": {
        "name": "ipython",
        "version": 3
      },
      "file_extension": ".py",
      "mimetype": "text/x-python",
      "name": "python",
      "nbconvert_exporter": "python",
      "pygments_lexer": "ipython3",
      "version": "3.9.13"
    },
    "colab": {
      "provenance": [],
      "include_colab_link": true
    }
  },
  "nbformat": 4,
  "nbformat_minor": 5
}