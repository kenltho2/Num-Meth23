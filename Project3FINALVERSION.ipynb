{
  "cells": [
    {
      "cell_type": "markdown",
      "metadata": {
        "id": "view-in-github",
        "colab_type": "text"
      },
      "source": [
        "<a href=\"https://colab.research.google.com/github/kenltho2/Num-Meth23/blob/main/Project3FINALVERSION.ipynb\" target=\"_parent\"><img src=\"https://colab.research.google.com/assets/colab-badge.svg\" alt=\"Open In Colab\"/></a>"
      ]
    },
    {
      "cell_type": "markdown",
      "metadata": {
        "id": "5xhZg7FXkpdI"
      },
      "source": [
        "**<div align=\"right\"> April 2, 2023 </div>**"
      ]
    },
    {
      "cell_type": "markdown",
      "metadata": {
        "id": "xr8XqBIxkpdK"
      },
      "source": [
        "# Project 3: Solving Non-Linear Equations"
      ]
    },
    {
      "cell_type": "markdown",
      "metadata": {
        "id": "Gi2gbxT2kpdK"
      },
      "source": [
        "## Aaron Arias Vales, Kennedy Thomas\n",
        "#### CPSMA 4413 -- Dr. Jacob"
      ]
    },
    {
      "cell_type": "code",
      "execution_count": null,
      "metadata": {
        "id": "jz1kwKr_EkBh"
      },
      "outputs": [],
      "source": [
        "import math\n",
        "import pandas as pd\n",
        "import numpy as np\n",
        "import matplotlib.pyplot as plt"
      ]
    },
    {
      "cell_type": "markdown",
      "metadata": {
        "id": "n8z4FKsSkpdL"
      },
      "source": [
        "### *Part 1: Newton-Raphson Method*"
      ]
    },
    {
      "cell_type": "markdown",
      "metadata": {
        "id": "p6Po6wthkpdL"
      },
      "source": [
        "**We begin by creating a function with a degree $n>2$. The function we have chosen is $f(x) = 3x^4+7x^3-17$.   \n",
        "The Newton Raphson Method requires that we also have the derivative of our function, so we find $f'(x) = 12x^3+21x^2$.**"
      ]
    },
    {
      "cell_type": "markdown",
      "metadata": {
        "id": "8FQLNiyQkpdL"
      },
      "source": [
        "#### FUNCTION DEFINITIONS "
      ]
    },
    {
      "cell_type": "code",
      "execution_count": null,
      "metadata": {
        "id": "2vJ2GFa8Eo8q"
      },
      "outputs": [],
      "source": [
        "def f(x):\n",
        "    y = 3*x**4 + 7*x**3 - 17 \n",
        "    return y\n",
        "\n",
        "def fprime(x):\n",
        "    yprime = 12*x**3 + 21*x**2\n",
        "    return yprime\n",
        "\n",
        "def absolute_relative_error(x,x_1):\n",
        "    epsilon = abs((x_1 - x) / x_1) \n",
        "    return epsilon"
      ]
    },
    {
      "cell_type": "markdown",
      "metadata": {
        "id": "6NE-TVxlkpdL"
      },
      "source": [
        "**The Newton-Raphson Method of finding roots of a polynomial is defined as**\n",
        "\n",
        "\n",
        "\\begin{equation*}\n",
        "x_{i+1} = x_{i} - \\frac{f(x_{i})}{f'(x_{i})}\n",
        "\\end{equation*}\n",
        "\n",
        "**where $x_{i}$ is our initial guess for the root of $f(x)$ at $f(x_{i})$. Our goal is to get within $.01\\%$ of our true $x$ value where $f(x)=0$. We use the absolute relative error formula,**\n",
        "\n",
        "\\begin{equation*}\n",
        "|\\epsilon_{a}|= \\Big|\\frac{x_{i+1}-x_{i}}{x_{i+1}}\\Big|\n",
        "\\end{equation*}\n",
        "\n",
        "**to check our error after each iteration.**"
      ]
    },
    {
      "cell_type": "code",
      "execution_count": null,
      "metadata": {
        "id": "GZ-bOYl-FYLd"
      },
      "outputs": [],
      "source": [
        "#performs actual calculation inside newton raphson method function when called\n",
        "def datapoint(x_0):\n",
        "    x_1 = x_0 - (f(x_0) / fprime(x_0))\n",
        "    return x_1"
      ]
    },
    {
      "cell_type": "code",
      "execution_count": null,
      "metadata": {
        "id": "0u99GD49FazN"
      },
      "outputs": [],
      "source": [
        "#newton raphson method; n will always be 0, it is our counter for iterations\n",
        "def newton_raphson(x_0,tol,n):\n",
        "    x_1 = datapoint(x_0)\n",
        "    error = absolute_relative_error(x_0,x_1)\n",
        "    if error <= tol:\n",
        "        return x_1\n",
        "    else:\n",
        "        n+=1\n",
        "        return newton_raphson(datapoint(x_0),tol,n)"
      ]
    },
    {
      "cell_type": "code",
      "execution_count": null,
      "metadata": {
        "id": "gKvWWzfNFgHH"
      },
      "outputs": [],
      "source": [
        "#returns number of iterations, essentially the same as our N.R. func but returns value for n when complete\n",
        "def iterations(x_0,tol,n):\n",
        "    x_1 = datapoint(x_0)\n",
        "    error = absolute_relative_error(x_0,x_1)\n",
        "    if error <= tol:\n",
        "        return n\n",
        "    else:\n",
        "        n+=1\n",
        "        return iterations(datapoint(x_0),tol,n)"
      ]
    },
    {
      "cell_type": "markdown",
      "metadata": {
        "id": "gjEn6zeAkpdM"
      },
      "source": [
        "**Now that we have the algorithm created, we can start storing some data in tables. Below I have graphed our function and tables storing data describing the efficacy of our algorithm.**"
      ]
    },
    {
      "cell_type": "code",
      "execution_count": null,
      "metadata": {
        "id": "omJdDZdMkpdM",
        "outputId": "93da18b3-99dc-4ee2-af9e-c29f5453ffa4"
      },
      "outputs": [
        {
          "data": {
            "image/png": "[encoded data removed]",
            "text/plain": [
              "<Figure size 640x480 with 1 Axes>"
            ]
          },
          "metadata": {},
          "output_type": "display_data"
        }
      ],
      "source": [
        "xf = np.linspace(-3, 2, 1000)\n",
        "yf = f(xf)\n",
        "plt.plot(xf,yf,'m',label='f(x)')\n",
        "plt.plot(xf[70],yf[70],'ro',label='roots')\n",
        "plt.plot(xf[840],yf[840],'ro')\n",
        "plt.legend()\n",
        "plt.show()"
      ]
    },
    {
      "cell_type": "markdown",
      "metadata": {
        "id": "v4baeKVlkpdM"
      },
      "source": [
        "#      $f(x)=3x^4+7x^3-17$ for $ x \\in [-3,2]$"
      ]
    },
    {
      "cell_type": "markdown",
      "metadata": {
        "id": "6LpCEz88kpdN"
      },
      "source": [
        "# Negative Root Estimations"
      ]
    },
    {
      "cell_type": "markdown",
      "metadata": {
        "id": "7fZNqhckkpdN"
      },
      "source": [
        "**This table describes the number of iterations at a given initial estimate $x_{0}$ where $x < 0$ for $f(x)=0$.**"
      ]
    },
    {
      "cell_type": "code",
      "execution_count": null,
      "metadata": {
        "colab": {
          "base_uri": "https://localhost:8080/",
          "height": 332
        },
        "id": "QYKKwNjnEtwe",
        "outputId": "3ba6fec1-7516-4217-dcdf-d2976047d2cf"
      },
      "outputs": [
        {
          "data": {
            "text/html": [
              "<div>\n",
              "<style scoped>\n",
              "    .dataframe tbody tr th:only-of-type {\n",
              "        vertical-align: middle;\n",
              "    }\n",
              "\n",
              "    .dataframe tbody tr th {\n",
              "        vertical-align: top;\n",
              "    }\n",
              "\n",
              "    .dataframe thead th {\n",
              "        text-align: right;\n",
              "    }\n",
              "</style>\n",
              "<table border=\"1\" class=\"dataframe\">\n",
              "  <thead>\n",
              "    <tr style=\"text-align: right;\">\n",
              "      <th></th>\n",
              "      <th>root</th>\n",
              "      <th>x_0</th>\n",
              "      <th>iteration count</th>\n",
              "    </tr>\n",
              "  </thead>\n",
              "  <tbody>\n",
              "    <tr>\n",
              "      <th>0</th>\n",
              "      <td>-2.64097</td>\n",
              "      <td>-11</td>\n",
              "      <td>9</td>\n",
              "    </tr>\n",
              "    <tr>\n",
              "      <th>1</th>\n",
              "      <td>-2.64097</td>\n",
              "      <td>-10</td>\n",
              "      <td>9</td>\n",
              "    </tr>\n",
              "    <tr>\n",
              "      <th>2</th>\n",
              "      <td>-2.64097</td>\n",
              "      <td>-9</td>\n",
              "      <td>8</td>\n",
              "    </tr>\n",
              "    <tr>\n",
              "      <th>3</th>\n",
              "      <td>-2.64097</td>\n",
              "      <td>-8</td>\n",
              "      <td>8</td>\n",
              "    </tr>\n",
              "    <tr>\n",
              "      <th>4</th>\n",
              "      <td>-2.64097</td>\n",
              "      <td>-7</td>\n",
              "      <td>7</td>\n",
              "    </tr>\n",
              "    <tr>\n",
              "      <th>5</th>\n",
              "      <td>-2.64097</td>\n",
              "      <td>-6</td>\n",
              "      <td>7</td>\n",
              "    </tr>\n",
              "    <tr>\n",
              "      <th>6</th>\n",
              "      <td>-2.64097</td>\n",
              "      <td>-5</td>\n",
              "      <td>6</td>\n",
              "    </tr>\n",
              "    <tr>\n",
              "      <th>7</th>\n",
              "      <td>-2.64097</td>\n",
              "      <td>-4</td>\n",
              "      <td>5</td>\n",
              "    </tr>\n",
              "    <tr>\n",
              "      <th>8</th>\n",
              "      <td>-2.64097</td>\n",
              "      <td>-3</td>\n",
              "      <td>3</td>\n",
              "    </tr>\n",
              "    <tr>\n",
              "      <th>9</th>\n",
              "      <td>-2.64097</td>\n",
              "      <td>-2</td>\n",
              "      <td>6</td>\n",
              "    </tr>\n",
              "  </tbody>\n",
              "</table>\n",
              "</div>"
            ],
            "text/plain": [
              "      root  x_0  iteration count\n",
              "0 -2.64097  -11                9\n",
              "1 -2.64097  -10                9\n",
              "2 -2.64097   -9                8\n",
              "3 -2.64097   -8                8\n",
              "4 -2.64097   -7                7\n",
              "5 -2.64097   -6                7\n",
              "6 -2.64097   -5                6\n",
              "7 -2.64097   -4                5\n",
              "8 -2.64097   -3                3\n",
              "9 -2.64097   -2                6"
            ]
          },
          "execution_count": 100,
          "metadata": {},
          "output_type": "execute_result"
        }
      ],
      "source": [
        "xineg = pd.DataFrame({'root':[newton_raphson(i,.0001,0) for i in range(-11,-1)]})\n",
        "x0neg = pd.DataFrame({'x_0':[i for i in range(-11,-1)]})\n",
        "iteration = pd.DataFrame({'iteration count': [iterations(i,.0001,0) for i in range(-11,-1)]})\n",
        "pd.concat([xineg,x0neg,iteration],axis=1)"
      ]
    },
    {
      "cell_type": "markdown",
      "metadata": {
        "id": "VTWuTKV5kpdN"
      },
      "source": [
        "# Positive Root Estimations"
      ]
    },
    {
      "cell_type": "markdown",
      "metadata": {
        "id": "Z0pGV0gakpdN"
      },
      "source": [
        "**This table describes the number of iterations at a given initial estimate $x_{0}$ where $x > 0$ for $f(x)=0$.**"
      ]
    },
    {
      "cell_type": "code",
      "execution_count": null,
      "metadata": {
        "id": "s1VK5JWlkpdN",
        "outputId": "8f8c9351-d07e-404c-8c58-989f4e86bf17"
      },
      "outputs": [
        {
          "data": {
            "text/html": [
              "<div>\n",
              "<style scoped>\n",
              "    .dataframe tbody tr th:only-of-type {\n",
              "        vertical-align: middle;\n",
              "    }\n",
              "\n",
              "    .dataframe tbody tr th {\n",
              "        vertical-align: top;\n",
              "    }\n",
              "\n",
              "    .dataframe thead th {\n",
              "        text-align: right;\n",
              "    }\n",
              "</style>\n",
              "<table border=\"1\" class=\"dataframe\">\n",
              "  <thead>\n",
              "    <tr style=\"text-align: right;\">\n",
              "      <th></th>\n",
              "      <th>root</th>\n",
              "      <th>x_0</th>\n",
              "      <th>iteration count</th>\n",
              "    </tr>\n",
              "  </thead>\n",
              "  <tbody>\n",
              "    <tr>\n",
              "      <th>0</th>\n",
              "      <td>1.17347</td>\n",
              "      <td>1</td>\n",
              "      <td>3</td>\n",
              "    </tr>\n",
              "    <tr>\n",
              "      <th>1</th>\n",
              "      <td>1.17347</td>\n",
              "      <td>2</td>\n",
              "      <td>4</td>\n",
              "    </tr>\n",
              "    <tr>\n",
              "      <th>2</th>\n",
              "      <td>1.17347</td>\n",
              "      <td>3</td>\n",
              "      <td>6</td>\n",
              "    </tr>\n",
              "    <tr>\n",
              "      <th>3</th>\n",
              "      <td>1.17347</td>\n",
              "      <td>4</td>\n",
              "      <td>7</td>\n",
              "    </tr>\n",
              "    <tr>\n",
              "      <th>4</th>\n",
              "      <td>1.17347</td>\n",
              "      <td>5</td>\n",
              "      <td>7</td>\n",
              "    </tr>\n",
              "    <tr>\n",
              "      <th>5</th>\n",
              "      <td>1.17347</td>\n",
              "      <td>6</td>\n",
              "      <td>8</td>\n",
              "    </tr>\n",
              "    <tr>\n",
              "      <th>6</th>\n",
              "      <td>1.17347</td>\n",
              "      <td>7</td>\n",
              "      <td>8</td>\n",
              "    </tr>\n",
              "    <tr>\n",
              "      <th>7</th>\n",
              "      <td>1.17347</td>\n",
              "      <td>8</td>\n",
              "      <td>9</td>\n",
              "    </tr>\n",
              "    <tr>\n",
              "      <th>8</th>\n",
              "      <td>1.17347</td>\n",
              "      <td>9</td>\n",
              "      <td>9</td>\n",
              "    </tr>\n",
              "    <tr>\n",
              "      <th>9</th>\n",
              "      <td>1.17347</td>\n",
              "      <td>10</td>\n",
              "      <td>10</td>\n",
              "    </tr>\n",
              "  </tbody>\n",
              "</table>\n",
              "</div>"
            ],
            "text/plain": [
              "      root  x_0  iteration count\n",
              "0  1.17347    1                3\n",
              "1  1.17347    2                4\n",
              "2  1.17347    3                6\n",
              "3  1.17347    4                7\n",
              "4  1.17347    5                7\n",
              "5  1.17347    6                8\n",
              "6  1.17347    7                8\n",
              "7  1.17347    8                9\n",
              "8  1.17347    9                9\n",
              "9  1.17347   10               10"
            ]
          },
          "execution_count": 101,
          "metadata": {},
          "output_type": "execute_result"
        }
      ],
      "source": [
        "xipos = pd.DataFrame({'root':[newton_raphson(i,.0001,0) for i in range(1,11)]})\n",
        "x0pos = pd.DataFrame({'x_0':[i for i in range(1,11)]})\n",
        "p_iteration = pd.DataFrame({'iteration count': [iterations(i,.0001,0) for i in range(1,11)]})\n",
        "pd.concat([xipos,x0pos,p_iteration],axis=1)"
      ]
    },
    {
      "cell_type": "markdown",
      "metadata": {
        "id": "Qux0HZsckpdN"
      },
      "source": [
        "**From our tables, we can see that as our $x_{0}$ strays from the true root value, it takes more iterations of the algorithm to reach an accurate estimation. This method has its flaws, it would not work well with a non-polynomial function such as $e^x$, whose derivative is itself. However, if we are working with a non-quadratic polynomial function, this method requires less iterations to acquire a guess of the same accuracy than that of the secant method, and only 1 initial seed compared to the secant method's 2 initial seeds.**"
      ]
    },
    {
      "cell_type": "markdown",
      "metadata": {
        "id": "udGANSUJkpdN"
      },
      "source": [
        "### *Part 2: The Secant Method*"
      ]
    },
    {
      "cell_type": "markdown",
      "metadata": {
        "id": "mM9E8UEg0-JB"
      },
      "source": [
        "**Here we are using the secant method.  the Lagrange interpolation function for $e^x$, defined using the function $L(x)$ with an input of $x$. The main function used to find roots is `secant_method(f, a, b, tol=1e-6, max_iter=100`, which takes as inputs the function to find roots for `(f)`, two initial guesses for the roots (`a` and `b`), a tolerance level for the root estimate (`tol`), and a maximum number of iterations (`max_iter`).The secant method itself is a numerical method for finding roots of a function. It works by starting with two initial guesses (`a` and `b`) for the root and repeatedly improving the guess using the function values at those points to approximate the root location. At each iteration, the secant method computes a new estimate of the root by finding the x-intercept of the line that connects the two previous function evaluations. This process is repeated until the difference between two consecutive estimates is below the tolerance level or the maximum number of iterations is reached.**"
      ]
    },
    {
      "cell_type": "code",
      "execution_count": null,
      "metadata": {
        "colab": {
          "base_uri": "https://localhost:8080/",
          "height": 715
        },
        "id": "T9JxDiYEGMqM",
        "outputId": "dfc67797-3df0-4912-fa54-85346667aed9"
      },
      "outputs": [
        {
          "data": {
            "image/png": "[encoded data removed]",
            "text/plain": [
              "<Figure size 640x480 with 1 Axes>"
            ]
          },
          "metadata": {},
          "output_type": "display_data"
        },
        {
          "name": "stdout",
          "output_type": "stream",
          "text": [
            "    Root Estimate     Error  Iterations\n",
            "0        0.294612  2.205388           1\n",
            "1        0.367168  0.072556           2\n",
            "2        0.458334  0.091166           3\n",
            "3        0.476135  0.017801           4\n",
            "4        0.478370  0.002236           5\n",
            "..            ...       ...         ...\n",
            "92       0.441986  0.239459           9\n",
            "93       0.485760  0.043774          10\n",
            "94       0.478695  0.007065          11\n",
            "95       0.478416  0.000279          12\n",
            "96       0.478418  0.000002          13\n",
            "\n",
            "[97 rows x 3 columns]\n"
          ]
        }
      ],
      "source": [
        "import numpy as np\n",
        "import matplotlib.pyplot as plt\n",
        "import pandas as pd\n",
        "\n",
        "# Define the function to find roots for\n",
        "def f(x):\n",
        "    return L(x) - y\n",
        "\n",
        "# Define the Lagrange interpolation function for e^x\n",
        "def L(x):\n",
        "    x_vals = np.array([center, center+0.1, center+0.2, 2*center])\n",
        "    y_vals = np.array([np.exp(2*center), np.exp(2*(center+0.1)), np.exp(2*(center+0.2)), np.exp(4*center)])\n",
        "    n = len(x_vals)\n",
        "    L = 0\n",
        "    for i in range(n):\n",
        "        li = 1\n",
        "        for j in range(n):\n",
        "            if j != i:\n",
        "                li *= (x - x_vals[j])/(x_vals[i] - x_vals[j])\n",
        "        L += y_vals[i] * li\n",
        "    return L\n",
        "\n",
        "# Set the center value and target value y\n",
        "center = 1\n",
        "y = 0\n",
        "\n",
        "# Plot the Lagrange interpolation function\n",
        "x_vals = np.linspace(0, 3, 1000)\n",
        "y_vals = L(x_vals)\n",
        "plt.plot(x_vals, y_vals)\n",
        "plt.axhline(y=0, color='black', linestyle='--')\n",
        "plt.xlabel('x')\n",
        "plt.ylabel('y')\n",
        "plt.title('Lagrange Interpolation of e^x')\n",
        "plt.show()\n",
        "\n",
        "# Define the secant method function\n",
        "def secant_method(f, a, b, tol=1e-6, max_iter=100):\n",
        "    root_estimates = []\n",
        "    errors = []\n",
        "    iterations = []\n",
        "    \n",
        "    for i in range(10):\n",
        "        # Initialize the x1 and x2 values\n",
        "        x1, x2 = a, b\n",
        "        \n",
        "        # Perform the secant method\n",
        "        for j in range(max_iter):\n",
        "            # Compute the new estimate\n",
        "            x_new = x2 - f(x2)*(x2-x1)/(f(x2)-f(x1))\n",
        "            \n",
        "            # Compute the error\n",
        "            error = abs(x_new - x2)\n",
        "            \n",
        "            # Store the results\n",
        "            root_estimates.append(x_new)\n",
        "            errors.append(error)\n",
        "            iterations.append(j+1)\n",
        "            \n",
        "            # Check if the error is below the tolerance\n",
        "            if error < tol:\n",
        "                break\n",
        "                \n",
        "            # Update the values\n",
        "            x1 = x2\n",
        "            x2 = x_new\n",
        "        \n",
        "        # Update the endpoints for the next iteration\n",
        "        a += 0.5\n",
        "        b += 0.5\n",
        "        \n",
        "    # Create the results table\n",
        "    results_table = pd.DataFrame({\n",
        "        'Root Estimate': root_estimates,\n",
        "        'Error': errors,\n",
        "        'Iterations': iterations\n",
        "    })\n",
        "    \n",
        "    return results_table\n",
        "\n",
        "# Apply the secant method to the Lagrange interpolation function\n",
        "a = 0.1\n",
        "b = 2.5\n",
        "results_table = secant_method(f, a, b, tol=1e-4, max_iter=1000)\n",
        "\n",
        "# Print the results table\n",
        "print(results_table)\n"
      ]
    },
    {
      "cell_type": "markdown",
      "source": [
        "**The  algorithm we used, is using the secant method to find roots of a function, while the Newton-Raphson method uses the derivative of the function to iteratively improve the root estimate. The secant method requires two initial guesses to start with, whereas the Newton-Raphson method only requires one initial guess. The secant method is a slightly slower converging method compared to the Newton-Raphson method, but it is more robust to some types of functions where the derivative is not easily computable or if the function has a singularity or a sharp bend.**"
      ],
      "metadata": {
        "id": "oMYFemYclnA_"
      }
    },
    {
      "cell_type": "markdown",
      "source": [
        "**In the case of the Lagrange interpolation, we do not know the derivative of the function, so the Newton-Raphson method may not be appropriate. In fact, the Lagrange interpolation is a polynomial approximation method, which uses a set of known data points to interpolate a function. It can be used to estimate the value of the function at any point within the range of the data points. Therefore, the secant method can be used to find roots of the interpolated function. However, it is important to note that the accuracy of the interpolated function depends on the number and distribution of the data points used in the interpolation.**"
      ],
      "metadata": {
        "id": "x5TVE5Ppl77Y"
      }
    }
  ],
  "metadata": {
    "colab": {
      "provenance": [],
      "include_colab_link": true
    },
    "kernelspec": {
      "display_name": "Python 3 (ipykernel)",
      "language": "python",
      "name": "python3"
    },
    "language_info": {
      "codemirror_mode": {
        "name": "ipython",
        "version": 3
      },
      "file_extension": ".py",
      "mimetype": "text/x-python",
      "name": "python",
      "nbconvert_exporter": "python",
      "pygments_lexer": "ipython3",
      "version": "3.9.13"
    }
  },
  "nbformat": 4,
  "nbformat_minor": 0
}