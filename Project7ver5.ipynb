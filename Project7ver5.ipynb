{
  "nbformat": 4,
  "nbformat_minor": 0,
  "metadata": {
    "colab": {
      "provenance": [],
      "include_colab_link": true
    },
    "kernelspec": {
      "name": "python3",
      "display_name": "Python 3"
    },
    "language_info": {
      "name": "python"
    }
  },
  "cells": [
    {
      "cell_type": "markdown",
      "metadata": {
        "id": "view-in-github",
        "colab_type": "text"
      },
      "source": [
        "<a href=\"https://colab.research.google.com/github/kenltho2/Num-Meth23/blob/main/Project7ver5.ipynb\" target=\"_parent\"><img src=\"https://colab.research.google.com/assets/colab-badge.svg\" alt=\"Open In Colab\"/></a>"
      ]
    },
    {
      "cell_type": "code",
      "execution_count": 7,
      "metadata": {
        "id": "bxWHoxF0wCdl"
      },
      "outputs": [],
      "source": [
        "import math\n",
        "import pandas as pd\n",
        "import numpy as np\n",
        "import matplotlib.pyplot as plt\n",
        "import scipy\n",
        "from scipy import integrate"
      ]
    },
    {
      "cell_type": "code",
      "source": [
        "from scipy import integrate\n",
        "\n",
        "def f(x):\n",
        "    return x**2\n",
        "\n",
        "result, error = integrate.quad(f, 0, 1)\n",
        "\n",
        "print(\"Result:\", result)\n",
        "print(\"Error:\", error)\n"
      ],
      "metadata": {
        "id": "aTdC9jQrfxjy",
        "outputId": "29fd754c-6301-47ba-d283-4e8ceaba1754",
        "colab": {
          "base_uri": "https://localhost:8080/"
        }
      },
      "execution_count": 8,
      "outputs": [
        {
          "output_type": "stream",
          "name": "stdout",
          "text": [
            "Result: 0.33333333333333337\n",
            "Error: 3.700743415417189e-15\n"
          ]
        }
      ]
    },
    {
      "cell_type": "code",
      "source": [
        "# create a NumPy array\n",
        "x = np.array([1, 2, 3, 4, 5])\n",
        "\n",
        "# try to pass the entire array to a function that expects a scalar\n",
        "result = 2 * x\n",
        "\n",
        "# modify the code to extract a scalar value from the array\n",
        "result = 2 * x[0]   # use indexing to extract the first element of the array\n",
        "result = 2 * x[-1]  # use negative indexing to extract the last element of the array\n",
        "result = 2 * x[1:3] # use slicing to extract a subset of the array, and then perform the operation"
      ],
      "metadata": {
        "id": "OPhf8KrAgBX3"
      },
      "execution_count": 3,
      "outputs": []
    },
    {
      "cell_type": "code",
      "source": [
        "from scipy.integrate import quad\n",
        "\n",
        "# Define the function\n",
        "def f(x):\n",
        "    return np.exp(x)\n",
        "\n",
        "# Set the interval\n",
        "a = 0\n",
        "b = 2\n",
        "\n",
        "# Calculate the signed area using calculus\n",
        "area = quad(f, a, b)[0]\n",
        "print(\"Signed area under the curve:\", area)\n",
        "\n",
        "# Graph the function over the interval\n",
        "x = np.linspace(a, b, 1000)\n",
        "y = f(x)\n",
        "plt.plot(x, y)\n",
        "plt.fill_between(x, y, 0, where=(x>=a)&(x<=b))\n",
        "plt.show()\n",
        "\n",
        "# Program an algorithm to compute the Riemann sum\n",
        "def riemann_sum(f, a, b, n, method='left'):\n",
        "    dx = (b - a) / n\n",
        "    x = np.linspace(a, b, n+1)\n",
        "    y = f(x)\n",
        "    if method == 'left':\n",
        "        y = y[:-1]\n",
        "    elif method == 'right':\n",
        "        y = y[1:]\n",
        "    elif method == 'center':\n",
        "        y = (y[:-1] + y[1:]) / 2\n",
        "    else:\n",
        "        raise ValueError(\"Invalid method\")\n",
        "    return np.sum(y * dx)\n",
        "\n",
        "# Compute the Riemann sum with various numbers of rectangles and methods\n",
        "methods = ['left', 'right', 'center']\n",
        "ns = [10, 50, 100, 500, 1000]\n",
        "for method in methods:\n",
        "    print(\"Method:\", method)\n",
        "    for n in ns:\n",
        "        riemann = riemann_sum(f, a, b, n, method)\n",
        "        error = abs(riemann - area)\n",
        "        print(\"Rectangles:\", n, \"Riemann sum:\", riemann, \"Error:\", error)\n"
      ],
      "metadata": {
        "id": "g0M-8twjhOgX",
        "outputId": "a90b188d-73fc-444b-cf9f-6a4640ef50e9",
        "colab": {
          "base_uri": "https://localhost:8080/",
          "height": 753
        }
      },
      "execution_count": 9,
      "outputs": [
        {
          "output_type": "stream",
          "name": "stdout",
          "text": [
            "Signed area under the curve: 6.3890560989306495\n"
          ]
        },
        {
          "output_type": "display_data",
          "data": {
            "text/plain": [
              "<Figure size 640x480 with 1 Axes>"
            ],
            "image/png": "[encoded data removed]"
          },
          "metadata": {}
        },
        {
          "output_type": "stream",
          "name": "stdout",
          "text": [
            "Method: left\n",
            "Rectangles: 10 Riemann sum: 5.77143315830655 Error: 0.6176229406240994\n",
            "Rectangles: 50 Riemann sum: 6.262126828382784 Error: 0.1269292705478655\n",
            "Rectangles: 100 Riemann sum: 6.325378505058198 Error: 0.06367759387245187\n",
            "Rectangles: 500 Riemann sum: 6.376286505471983 Error: 0.012769593458666684\n",
            "Rectangles: 1000 Riemann sum: 6.382669172516945 Error: 0.006386926413704863\n",
            "Method: right\n",
            "Rectangles: 10 Riemann sum: 7.049244378092681 Error: 0.660188279162031\n",
            "Rectangles: 50 Riemann sum: 6.517689072340009 Error: 0.12863297340935986\n",
            "Rectangles: 100 Riemann sum: 6.45315962703681 Error: 0.06410352810616082\n",
            "Rectangles: 500 Riemann sum: 6.401842729867705 Error: 0.012786630937055676\n",
            "Rectangles: 1000 Riemann sum: 6.395447284714805 Error: 0.006391185784155873\n",
            "Method: center\n",
            "Rectangles: 10 Riemann sum: 6.410338768199615 Error: 0.021282669268965826\n",
            "Rectangles: 50 Riemann sum: 6.389907950361397 Error: 0.0008518514307471747\n",
            "Rectangles: 100 Riemann sum: 6.389269066047505 Error: 0.00021296711685536707\n",
            "Rectangles: 500 Riemann sum: 6.389064617669844 Error: 8.518739194052216e-06\n",
            "Rectangles: 1000 Riemann sum: 6.389058228615875 Error: 2.1296852255048293e-06\n"
          ]
        }
      ]
    },
    {
      "cell_type": "markdown",
      "source": [
        "**For this portion of the project we will be looking at Simpson's Rule. Simpson's Rule approximates definite integrals by interpolating a polynomial to fit the integrand based on given points and then calculates areas under sections of the integrand based on the interpolation. The formula for Simpson's Rule can be derived from the polynomial to give us an integral estimate of $\n",
        "\\begin{equation*}\n",
        "\\int_{a}^{b}f(x)\\, dx \\approx \\frac{b-a}{3n} \\big[f(a) + 4f(\\sum_{i=1}^{n-1} f(x_{2i-1})) + 2(\\sum_{j=1}^{n-2}f(x_{2j})) + f(b) \\big]\n",
        "\\end{equation*}\n",
        "$.**"
      ],
      "metadata": {
        "id": "4GVoJt8KwLc6"
      }
    },
    {
      "cell_type": "code",
      "source": [
        "def simpson(a,b,n):\n",
        "  h = (b-a)/(n-1)\n",
        "  x = np.linspace(a,b,n)\n",
        "  f = np.exp(x)\n",
        "  est = ((h/3) * (f[0]+ 4*sum(f[i] for i in range(1,n-1,2)) + 2*sum(f[j] for j in range(0,n-2,2)) + f[n-1]))\n",
        "  return est\n",
        "estimate = simpson(1,3,15)\n",
        "estimate"
      ],
      "metadata": {
        "id": "rzSyoOrAwJjz",
        "colab": {
          "base_uri": "https://localhost:8080/"
        },
        "outputId": "3c6a7b35-3cdf-49ac-802e-59b3462a11cf"
      },
      "execution_count": 16,
      "outputs": [
        {
          "output_type": "execute_result",
          "data": {
            "text/plain": [
              "17.62617916620393"
            ]
          },
          "metadata": {},
          "execution_count": 16
        }
      ]
    },
    {
      "cell_type": "code",
      "source": [
        "def F(x):\n",
        "  return math.exp(x)\n",
        "real = scipy.integrate.quad(F,1,3)\n",
        "real[0]"
      ],
      "metadata": {
        "colab": {
          "base_uri": "https://localhost:8080/"
        },
        "id": "NcbK54vwzpPF",
        "outputId": "a57520a5-a424-4386-f312-9cc30a1fcfc9"
      },
      "execution_count": null,
      "outputs": [
        {
          "output_type": "execute_result",
          "data": {
            "text/plain": [
              "17.367255094728623"
            ]
          },
          "metadata": {},
          "execution_count": 7
        }
      ]
    },
    {
      "cell_type": "code",
      "source": [
        "def true_error(true,approx):\n",
        "  return true - approx\n",
        "true_error(real[0],estimate)"
      ],
      "metadata": {
        "colab": {
          "base_uri": "https://localhost:8080/"
        },
        "id": "UmaY7iL8h_h9",
        "outputId": "3c9d34eb-7e92-4a46-f418-3d592e316e00"
      },
      "execution_count": null,
      "outputs": [
        {
          "output_type": "execute_result",
          "data": {
            "text/plain": [
              "-0.25892407147530605"
            ]
          },
          "metadata": {},
          "execution_count": 8
        }
      ]
    },
    {
      "cell_type": "code",
      "source": [
        "def rel_true_error(true, approx):\n",
        " E = ((true - approx) / true) * 100\n",
        " return E\n",
        "rel_true_error(real[0],estimate)"
      ],
      "metadata": {
        "colab": {
          "base_uri": "https://localhost:8080/"
        },
        "id": "ykuagJ8WhhbO",
        "outputId": "59745cbc-44f9-4c73-8ecd-81a2c75a3ee4"
      },
      "execution_count": null,
      "outputs": [
        {
          "output_type": "execute_result",
          "data": {
            "text/plain": [
              "-1.4908750407765685"
            ]
          },
          "metadata": {},
          "execution_count": 9
        }
      ]
    },
    {
      "cell_type": "markdown",
      "source": [
        "**Based on the error calculations, Simpson's Rule slightly underestimates the function $e^x$ by about $-1.49\\%$ at $n=15$. I would use Simpson's Rule to calculate integrals of a function that undulates such as $sin(x)$ and $cos(x)$ because polynomial interpolation mimics functions that undulate more intuitively and not so much functions that strictly increase like $e^x$, however it still produces a fairly accurate estimate.**"
      ],
      "metadata": {
        "id": "9tlJwo5wi1qW"
      }
    },
    {
      "cell_type": "markdown",
      "source": [
        "**Below is a graph of our function and the shaded region we are approximating using the midpoint approximation.**"
      ],
      "metadata": {
        "id": "zzpe8lcfGUzA"
      }
    },
    {
      "cell_type": "code",
      "source": [
        "a = 1\n",
        "b = 3\n",
        "n = 15\n",
        "h = (b-a)/(n-1)\n",
        "xp = np.linspace(a,b,n)\n",
        "fx = np.exp(xp)\n",
        "#xsim =\n",
        "#ysim = \n",
        "plt.plot(xp,fx,'m')\n",
        "plt.bar((xp[1:]+xp[:-1])/2,fx[1:],width=h,alpha=.4,align='edge',edgecolor='b')\n",
        "plt.xlabel('x')\n",
        "plt.ylabel('f(x)')\n",
        "plt.show()"
      ],
      "metadata": {
        "colab": {
          "base_uri": "https://localhost:8080/",
          "height": 449
        },
        "id": "QHg-6ieUByTR",
        "outputId": "494bc8a7-069c-409f-89f2-c205d6a7b9e0"
      },
      "execution_count": 45,
      "outputs": [
        {
          "output_type": "display_data",
          "data": {
            "text/plain": [
              "<Figure size 640x480 with 1 Axes>"
            ],
            "image/png": "[encoded data removed]"
          },
          "metadata": {}
        }
      ]
    }
  ]
}