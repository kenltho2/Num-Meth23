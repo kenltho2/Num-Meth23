{
 "cells": [
  {
   "cell_type": "code",
   "execution_count": 1,
   "id": "6333176a",
   "metadata": {},
   "outputs": [],
   "source": [
    "import math\n",
    "import pandas as pd\n",
    "import numpy as np\n",
    "import matplotlib as plt"
   ]
  },
  {
   "cell_type": "code",
   "execution_count": 144,
   "id": "817dc25e",
   "metadata": {},
   "outputs": [],
   "source": [
    "def f(x):\n",
    "    y = 3*x**4 + 7*x**3 - 17 \n",
    "    return y\n",
    "\n",
    "def fprime(x):\n",
    "    yprime = 12*x**3 + 21*x**2\n",
    "    return yprime\n",
    "\n",
    "def absolute_relative_error(x,x_1):\n",
    "    epsilon = abs((x_1 - x) / x_1) \n",
    "    return epsilon\n",
    "\n",
    "def returnfunc(x):\n",
    "    return x"
   ]
  },
  {
   "cell_type": "code",
   "execution_count": 169,
   "id": "5dba4925",
   "metadata": {},
   "outputs": [
    {
     "data": {
      "text/html": [
       "<div>\n",
       "<style scoped>\n",
       "    .dataframe tbody tr th:only-of-type {\n",
       "        vertical-align: middle;\n",
       "    }\n",
       "\n",
       "    .dataframe tbody tr th {\n",
       "        vertical-align: top;\n",
       "    }\n",
       "\n",
       "    .dataframe thead th {\n",
       "        text-align: right;\n",
       "    }\n",
       "</style>\n",
       "<table border=\"1\" class=\"dataframe\">\n",
       "  <thead>\n",
       "    <tr style=\"text-align: right;\">\n",
       "      <th></th>\n",
       "      <th>x_0</th>\n",
       "      <th>x_i estimate</th>\n",
       "      <th>iteration count</th>\n",
       "    </tr>\n",
       "  </thead>\n",
       "  <tbody>\n",
       "    <tr>\n",
       "      <th>0</th>\n",
       "      <td>-10</td>\n",
       "      <td>-2.64097</td>\n",
       "      <td>9</td>\n",
       "    </tr>\n",
       "    <tr>\n",
       "      <th>1</th>\n",
       "      <td>-9</td>\n",
       "      <td>-2.64097</td>\n",
       "      <td>8</td>\n",
       "    </tr>\n",
       "    <tr>\n",
       "      <th>2</th>\n",
       "      <td>-8</td>\n",
       "      <td>-2.64097</td>\n",
       "      <td>8</td>\n",
       "    </tr>\n",
       "    <tr>\n",
       "      <th>3</th>\n",
       "      <td>-7</td>\n",
       "      <td>-2.64097</td>\n",
       "      <td>7</td>\n",
       "    </tr>\n",
       "    <tr>\n",
       "      <th>4</th>\n",
       "      <td>-6</td>\n",
       "      <td>-2.64097</td>\n",
       "      <td>7</td>\n",
       "    </tr>\n",
       "    <tr>\n",
       "      <th>5</th>\n",
       "      <td>-5</td>\n",
       "      <td>-2.64097</td>\n",
       "      <td>6</td>\n",
       "    </tr>\n",
       "    <tr>\n",
       "      <th>6</th>\n",
       "      <td>-4</td>\n",
       "      <td>-2.64097</td>\n",
       "      <td>5</td>\n",
       "    </tr>\n",
       "    <tr>\n",
       "      <th>7</th>\n",
       "      <td>-3</td>\n",
       "      <td>-2.64097</td>\n",
       "      <td>3</td>\n",
       "    </tr>\n",
       "    <tr>\n",
       "      <th>8</th>\n",
       "      <td>-2</td>\n",
       "      <td>-2.64097</td>\n",
       "      <td>6</td>\n",
       "    </tr>\n",
       "  </tbody>\n",
       "</table>\n",
       "</div>"
      ],
      "text/plain": [
       "   x_0  x_i estimate  iteration count\n",
       "0  -10      -2.64097                9\n",
       "1   -9      -2.64097                8\n",
       "2   -8      -2.64097                8\n",
       "3   -7      -2.64097                7\n",
       "4   -6      -2.64097                7\n",
       "5   -5      -2.64097                6\n",
       "6   -4      -2.64097                5\n",
       "7   -3      -2.64097                3\n",
       "8   -2      -2.64097                6"
      ]
     },
     "execution_count": 169,
     "metadata": {},
     "output_type": "execute_result"
    }
   ],
   "source": [
    "#empty dataframes just in case\n",
    "\n",
    "x = pd.DataFrame({'x_i estimate':[newton_raphson(i,.0001,0) for i in range(-10,-1)]})\n",
    "y = pd.DataFrame({'x_0':[i for i in range(-10,-1)]})\n",
    "iteration = pd.DataFrame({'iteration count': [iterations(i,.0001,0) for i in range(-10,-1)]})\n",
    "pd.concat([y,x,iteration],axis=1)"
   ]
  },
  {
   "cell_type": "code",
   "execution_count": null,
   "id": "a147665b",
   "metadata": {},
   "outputs": [],
   "source": []
  },
  {
   "cell_type": "code",
   "execution_count": null,
   "id": "8656db95",
   "metadata": {},
   "outputs": [],
   "source": []
  },
  {
   "cell_type": "code",
   "execution_count": 68,
   "id": "e7f0976a",
   "metadata": {},
   "outputs": [],
   "source": [
    "def datapoint(x_0):\n",
    "    x_1 = x_0 - (f(x_0) / fprime(x_0))\n",
    "    return x_1"
   ]
  },
  {
   "cell_type": "code",
   "execution_count": 133,
   "id": "f4fb60d5",
   "metadata": {},
   "outputs": [],
   "source": [
    "#newton raphson method; n will always be 0, it is our counter for iterations\n",
    "def newton_raphson(x_0,tol,n):\n",
    "    x_1 = datapoint(x_0)\n",
    "    error = absolute_relative_error(x_0,x_1)\n",
    "    if error <= tol:\n",
    "        return x_1\n",
    "    else:\n",
    "        n+=1\n",
    "        return newton_raphson(datapoint(x_0),tol,n)"
   ]
  },
  {
   "cell_type": "code",
   "execution_count": 154,
   "id": "4ac06114",
   "metadata": {},
   "outputs": [],
   "source": [
    "#returns number of iterations\n",
    "def iterations(x_0,tol,n):\n",
    "    x_1 = datapoint(x_0)\n",
    "    error = absolute_relative_error(x_0,x_1)\n",
    "    if error <= tol:\n",
    "        return n\n",
    "    else:\n",
    "        n+=1\n",
    "        return iterations(datapoint(x_0),tol,n)"
   ]
  },
  {
   "cell_type": "code",
   "execution_count": 156,
   "id": "754d8469",
   "metadata": {},
   "outputs": [
    {
     "data": {
      "text/plain": [
       "8"
      ]
     },
     "execution_count": 156,
     "metadata": {},
     "output_type": "execute_result"
    }
   ],
   "source": [
    "iterations(6,.0001,0)"
   ]
  }
 ],
 "metadata": {
  "kernelspec": {
   "display_name": "Python 3 (ipykernel)",
   "language": "python",
   "name": "python3"
  },
  "language_info": {
   "codemirror_mode": {
    "name": "ipython",
    "version": 3
   },
   "file_extension": ".py",
   "mimetype": "text/x-python",
   "name": "python",
   "nbconvert_exporter": "python",
   "pygments_lexer": "ipython3",
   "version": "3.9.13"
  }
 },
 "nbformat": 4,
 "nbformat_minor": 5
}
