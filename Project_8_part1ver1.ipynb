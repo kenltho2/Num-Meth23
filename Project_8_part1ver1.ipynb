{
  "nbformat": 4,
  "nbformat_minor": 0,
  "metadata": {
    "colab": {
      "provenance": [],
      "authorship_tag": "ABX9TyN2RclHjOVStux58NbDuKau",
      "include_colab_link": true
    },
    "kernelspec": {
      "name": "python3",
      "display_name": "Python 3"
    },
    "language_info": {
      "name": "python"
    }
  },
  "cells": [
    {
      "cell_type": "markdown",
      "metadata": {
        "id": "view-in-github",
        "colab_type": "text"
      },
      "source": [
        "<a href=\"https://colab.research.google.com/github/kenltho2/Num-Meth23/blob/main/Project_8_part1ver1.ipynb\" target=\"_parent\"><img src=\"https://colab.research.google.com/assets/colab-badge.svg\" alt=\"Open In Colab\"/></a>"
      ]
    },
    {
      "cell_type": "code",
      "execution_count": 7,
      "metadata": {
        "id": "n5BYAL45jJJb"
      },
      "outputs": [],
      "source": [
        "import numpy as np\n",
        "import matplotlib.pyplot as plt\n"
      ]
    },
    {
      "cell_type": "code",
      "source": [
        "def f(x, y):\n",
        "    return np.exp(x) * (1 - y)\n",
        "\n",
        "y0 = 2\n"
      ],
      "metadata": {
        "id": "7QtjNySKjWr9"
      },
      "execution_count": 8,
      "outputs": []
    },
    {
      "cell_type": "code",
      "source": [
        "a = 0\n",
        "b = 1\n",
        "h = 0.01\n",
        "\n",
        "n = int((b - a) / h) + 1\n",
        "\n",
        "x = np.linspace(a, b, n)\n",
        "y = np.zeros_like(x)\n",
        "y[0] = y0\n",
        "\n",
        "## Implementing the Euler method algorithm\n",
        "for i in range(1, n):\n",
        "    y[i] = y[i-1] + h * f(x[i-1], y[i-1])\n",
        "c = (y0 - 1) / np.exp(0)\n",
        "ya = 1 + c * np.exp(-x)\n"
      ],
      "metadata": {
        "id": "So9VTPP8jb04"
      },
      "execution_count": 9,
      "outputs": []
    },
    {
      "cell_type": "markdown",
      "source": [
        "Plugging in the retrieved data into a table and plotting onto a graph"
      ],
      "metadata": {
        "id": "87GZV0ygkWB_"
      }
    },
    {
      "cell_type": "code",
      "source": [
        "print(' x    | Numerical | Analytic ')\n",
        "print('------+-----------+----------')\n",
        "for i in range(n):\n",
        "    print('{:.2f} |  {:.6f} | {:.6f}'.format(x[i], y[i], ya[i]))\n",
        "plt.plot(x, ya, label='Analytic')\n",
        "plt.plot(x, y, label='Numerical')\n",
        "plt.legend()\n",
        "plt.show()\n"
      ],
      "metadata": {
        "colab": {
          "base_uri": "https://localhost:8080/",
          "height": 1000
        },
        "id": "GqBXptzNjvm4",
        "outputId": "151b3435-700e-4ccf-8aa9-b421d5796c44"
      },
      "execution_count": 10,
      "outputs": [
        {
          "output_type": "stream",
          "name": "stdout",
          "text": [
            " x    | Numerical | Analytic \n",
            "------+-----------+----------\n",
            "0.00 |  2.000000 | 2.000000\n",
            "0.01 |  1.990000 | 1.990050\n",
            "0.02 |  1.980001 | 1.980199\n",
            "0.03 |  1.970003 | 1.970446\n",
            "0.04 |  1.960007 | 1.960789\n",
            "0.05 |  1.950015 | 1.951229\n",
            "0.06 |  1.940028 | 1.941765\n",
            "0.07 |  1.930046 | 1.932394\n",
            "0.08 |  1.920072 | 1.923116\n",
            "0.09 |  1.910105 | 1.913931\n",
            "0.10 |  1.900146 | 1.904837\n",
            "0.11 |  1.890198 | 1.895834\n",
            "0.12 |  1.880261 | 1.886920\n",
            "0.13 |  1.870336 | 1.878095\n",
            "0.14 |  1.860425 | 1.869358\n",
            "0.15 |  1.850527 | 1.860708\n",
            "0.16 |  1.840646 | 1.852144\n",
            "0.17 |  1.830781 | 1.843665\n",
            "0.18 |  1.820933 | 1.835270\n",
            "0.19 |  1.811105 | 1.826959\n",
            "0.20 |  1.801297 | 1.818731\n",
            "0.21 |  1.791510 | 1.810584\n",
            "0.22 |  1.781745 | 1.802519\n",
            "0.23 |  1.772004 | 1.794534\n",
            "0.24 |  1.762287 | 1.786628\n",
            "0.25 |  1.752597 | 1.778801\n",
            "0.26 |  1.742933 | 1.771052\n",
            "0.27 |  1.733298 | 1.763379\n",
            "0.28 |  1.723692 | 1.755784\n",
            "0.29 |  1.714117 | 1.748264\n",
            "0.30 |  1.704573 | 1.740818\n",
            "0.31 |  1.695062 | 1.733447\n",
            "0.32 |  1.685586 | 1.726149\n",
            "0.33 |  1.676144 | 1.718924\n",
            "0.34 |  1.666739 | 1.711770\n",
            "0.35 |  1.657372 | 1.704688\n",
            "0.36 |  1.648043 | 1.697676\n",
            "0.37 |  1.638755 | 1.690734\n",
            "0.38 |  1.629507 | 1.683861\n",
            "0.39 |  1.620302 | 1.677057\n",
            "0.40 |  1.611140 | 1.670320\n",
            "0.41 |  1.602023 | 1.663650\n",
            "0.42 |  1.592952 | 1.657047\n",
            "0.43 |  1.583927 | 1.650509\n",
            "0.44 |  1.574951 | 1.644036\n",
            "0.45 |  1.566024 | 1.637628\n",
            "0.46 |  1.557147 | 1.631284\n",
            "0.47 |  1.548321 | 1.625002\n",
            "0.48 |  1.539548 | 1.618783\n",
            "0.49 |  1.530828 | 1.612626\n",
            "0.50 |  1.522164 | 1.606531\n",
            "0.51 |  1.513555 | 1.600496\n",
            "0.52 |  1.505002 | 1.594521\n",
            "0.53 |  1.496508 | 1.588605\n",
            "0.54 |  1.488073 | 1.582748\n",
            "0.55 |  1.479697 | 1.576950\n",
            "0.56 |  1.471383 | 1.571209\n",
            "0.57 |  1.463131 | 1.565525\n",
            "0.58 |  1.454941 | 1.559898\n",
            "0.59 |  1.446816 | 1.554327\n",
            "0.60 |  1.438755 | 1.548812\n",
            "0.61 |  1.430761 | 1.543351\n",
            "0.62 |  1.422833 | 1.537944\n",
            "0.63 |  1.414973 | 1.532592\n",
            "0.64 |  1.407181 | 1.527292\n",
            "0.65 |  1.399459 | 1.522046\n",
            "0.66 |  1.391807 | 1.516851\n",
            "0.67 |  1.384227 | 1.511709\n",
            "0.68 |  1.376718 | 1.506617\n",
            "0.69 |  1.369282 | 1.501576\n",
            "0.70 |  1.361919 | 1.496585\n",
            "0.71 |  1.354631 | 1.491644\n",
            "0.72 |  1.347418 | 1.486752\n",
            "0.73 |  1.340281 | 1.481909\n",
            "0.74 |  1.333220 | 1.477114\n",
            "0.75 |  1.326235 | 1.472367\n",
            "0.76 |  1.319329 | 1.467666\n",
            "0.77 |  1.312501 | 1.463013\n",
            "0.78 |  1.305752 | 1.458406\n",
            "0.79 |  1.299082 | 1.453845\n",
            "0.80 |  1.292492 | 1.449329\n",
            "0.81 |  1.285982 | 1.444858\n",
            "0.82 |  1.279554 | 1.440432\n",
            "0.83 |  1.273206 | 1.436049\n",
            "0.84 |  1.266941 | 1.431711\n",
            "0.85 |  1.260758 | 1.427415\n",
            "0.86 |  1.254657 | 1.423162\n",
            "0.87 |  1.248639 | 1.418952\n",
            "0.88 |  1.242704 | 1.414783\n",
            "0.89 |  1.236853 | 1.410656\n",
            "0.90 |  1.231085 | 1.406570\n",
            "0.91 |  1.225401 | 1.402524\n",
            "0.92 |  1.219802 | 1.398519\n",
            "0.93 |  1.214286 | 1.394554\n",
            "0.94 |  1.208855 | 1.390628\n",
            "0.95 |  1.203508 | 1.386741\n",
            "0.96 |  1.198246 | 1.382893\n",
            "0.97 |  1.193069 | 1.379083\n",
            "0.98 |  1.187976 | 1.375311\n",
            "0.99 |  1.182967 | 1.371577\n",
            "1.00 |  1.178043 | 1.367879\n"
          ]
        },
        {
          "output_type": "display_data",
          "data": {
            "text/plain": [
              "<Figure size 640x480 with 1 Axes>"
            ],
            "image/png": "[encoded data removed]"
          },
          "metadata": {}
        }
      ]
    }
  ]
}