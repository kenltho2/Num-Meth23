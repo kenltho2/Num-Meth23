{
  "nbformat": 4,
  "nbformat_minor": 0,
  "metadata": {
    "colab": {
      "provenance": [],
      "authorship_tag": "ABX9TyMLekovR5wf7H9iHclPUFf5",
      "include_colab_link": true
    },
    "kernelspec": {
      "name": "python3",
      "display_name": "Python 3"
    },
    "language_info": {
      "name": "python"
    }
  },
  "cells": [
    {
      "cell_type": "markdown",
      "metadata": {
        "id": "view-in-github",
        "colab_type": "text"
      },
      "source": [
        "<a href=\"https://colab.research.google.com/github/kenltho2/Num-Meth23/blob/main/Project4ver4.ipynb\" target=\"_parent\"><img src=\"https://colab.research.google.com/assets/colab-badge.svg\" alt=\"Open In Colab\"/></a>"
      ]
    },
    {
      "cell_type": "markdown",
      "source": [
        "Project 4 ver2\n",
        "Aaron Arias Vales, Kennedy Thomas\n",
        "We begin our project for creating functions for the elementary row operations on matrices. The swap(a,b) function swaps rows \n",
        " and \n",
        " of our matrix \n",
        ". The k(a,k) function returns \n",
        " for row \n",
        " in \n",
        ". Lastly, the multiple(k,row_to_multiply,new_row) function returns \n",
        " for \n",
        " in \n",
        " where a = row_to_multiply and b = new_row."
      ],
      "metadata": {
        "id": "YHESCaMSURmc"
      }
    },
    {
      "cell_type": "code",
      "source": [
        "import numpy as np\n",
        "#solving systems of equations\n",
        "\n",
        "#function to create an augmented matrix\n",
        "#n = number of unknowns\n",
        "#np.zeros((3,4)) creates a 3 x 4 array of 0s to start out\n",
        "A = np.zeros((3,4))\n",
        "\n",
        "def create_augmented_matrix():\n",
        "    n = len(A)\n",
        "    #loop to input individual values for each unknown coefficient, returning the complete initial augmented matrix\n",
        "    #row count\n",
        "    for i in range (n):\n",
        "        \n",
        "        #column count, 1 extra because this is an augmented matrix; col4 = result\n",
        "        for j in range(n+1):\n",
        "            A[i][j] = float(input('A['+str(i+1)+']['+str(j+1)+'] = '))"
      ],
      "metadata": {
        "id": "MHgN_0POUUWP"
      },
      "execution_count": 4,
      "outputs": []
    },
    {
      "cell_type": "markdown",
      "source": [
        "We then test our EROs with a sample system of equations. I have chosen a homogenous system to perform Gauss-Jordan elimination upon, and will reduce the matrix to Reduced Row Echelon Form. The equations in our system are:\n",
        "\n",
        " \n",
        "\n",
        "We can describe this system with matrices as follows:\n",
        "\n",
        " \n",
        " \n",
        " \n",
        "\n",
        "For Gauss-Jordan elimination, we need to convert these matrices to one augmented matrix. We convert to the augmented matrix below and begin to solve our equation with our ERO functions.\n",
        "\n",
        " \n"
      ],
      "metadata": {
        "id": "FOyWLErPUWt_"
      }
    },
    {
      "cell_type": "code",
      "source": [
        "create_augmented_matrix()"
      ],
      "metadata": {
        "id": "8qIRHZUQUd3W",
        "colab": {
          "base_uri": "https://localhost:8080/"
        },
        "outputId": "d45cc470-bc8b-4a35-b845-f27e0edeedfd"
      },
      "execution_count": 5,
      "outputs": [
        {
          "name": "stdout",
          "output_type": "stream",
          "text": [
            "A[1][1] = 2\n",
            "A[1][2] = -1\n",
            "A[1][3] = -3\n",
            "A[1][4] = 0\n",
            "A[2][1] = -1\n",
            "A[2][2] = 2\n",
            "A[2][3] = -3\n",
            "A[2][4] = 0\n",
            "A[3][1] = 1\n",
            "A[3][2] = 1\n",
            "A[3][3] = 4\n",
            "A[3][4] = 0\n"
          ]
        }
      ]
    },
    {
      "cell_type": "code",
      "source": [
        "#function for swapping rows\n",
        "def swap(a,b):\n",
        "    A[[a-1,b-1]] = A[[b-1,a-1]]\n",
        "    return A"
      ],
      "metadata": {
        "id": "i8IQJArdUg4T"
      },
      "execution_count": 6,
      "outputs": []
    },
    {
      "cell_type": "code",
      "source": [
        "#function for multiplying by a constant\n",
        "def k(a,k):\n",
        "    A[a-1] = k*A[a-1]\n",
        "    return A"
      ],
      "metadata": {
        "id": "AscBXQMmUkgC"
      },
      "execution_count": 7,
      "outputs": []
    },
    {
      "cell_type": "code",
      "source": [
        "#function for adding multiple of other row\n",
        "def multiple(k,row_to_multiply,new_row):\n",
        "    a = row_to_multiply\n",
        "    b = new_row\n",
        "    A[b-1] = k*A[a-1] + A[b-1] \n",
        "    return A"
      ],
      "metadata": {
        "id": "lifLmDfmUmdW"
      },
      "execution_count": 8,
      "outputs": []
    },
    {
      "cell_type": "code",
      "source": [
        "A"
      ],
      "metadata": {
        "id": "O2AdD9d4UoxB",
        "colab": {
          "base_uri": "https://localhost:8080/"
        },
        "outputId": "733d4a98-49ba-4156-8739-2d80f8527994"
      },
      "execution_count": 9,
      "outputs": [
        {
          "output_type": "execute_result",
          "data": {
            "text/plain": [
              "array([[ 2., -1., -3.,  0.],\n",
              "       [-1.,  2., -3.,  0.],\n",
              "       [ 1.,  1.,  4.,  0.]])"
            ]
          },
          "metadata": {},
          "execution_count": 9
        }
      ]
    },
    {
      "cell_type": "code",
      "source": [
        "swap(1,3)"
      ],
      "metadata": {
        "id": "gQZEjuINUrKJ",
        "colab": {
          "base_uri": "https://localhost:8080/"
        },
        "outputId": "c64d58a7-5b37-48ac-b011-83b1d06da4cf"
      },
      "execution_count": 10,
      "outputs": [
        {
          "output_type": "execute_result",
          "data": {
            "text/plain": [
              "array([[ 1.,  1.,  4.,  0.],\n",
              "       [-1.,  2., -3.,  0.],\n",
              "       [ 2., -1., -3.,  0.]])"
            ]
          },
          "metadata": {},
          "execution_count": 10
        }
      ]
    },
    {
      "cell_type": "code",
      "source": [
        "multiple(1,1,2)"
      ],
      "metadata": {
        "id": "oDNMFo0tUvWw",
        "colab": {
          "base_uri": "https://localhost:8080/"
        },
        "outputId": "b8b7079e-5412-467b-8e66-d8f9e86a927f"
      },
      "execution_count": 11,
      "outputs": [
        {
          "output_type": "execute_result",
          "data": {
            "text/plain": [
              "array([[ 1.,  1.,  4.,  0.],\n",
              "       [ 0.,  3.,  1.,  0.],\n",
              "       [ 2., -1., -3.,  0.]])"
            ]
          },
          "metadata": {},
          "execution_count": 11
        }
      ]
    },
    {
      "cell_type": "code",
      "source": [
        "multiple(-2,1,3)"
      ],
      "metadata": {
        "id": "stUxJHXXUwX2",
        "colab": {
          "base_uri": "https://localhost:8080/"
        },
        "outputId": "795895ed-5f9a-4a28-e9a8-679ac32aff79"
      },
      "execution_count": 12,
      "outputs": [
        {
          "output_type": "execute_result",
          "data": {
            "text/plain": [
              "array([[  1.,   1.,   4.,   0.],\n",
              "       [  0.,   3.,   1.,   0.],\n",
              "       [  0.,  -3., -11.,   0.]])"
            ]
          },
          "metadata": {},
          "execution_count": 12
        }
      ]
    },
    {
      "cell_type": "code",
      "source": [
        "multiple(1,2,3)"
      ],
      "metadata": {
        "id": "_c3b0tFnUx5Q",
        "colab": {
          "base_uri": "https://localhost:8080/"
        },
        "outputId": "b48b821d-aa00-4755-c765-a9e6e59aeb2d"
      },
      "execution_count": 13,
      "outputs": [
        {
          "output_type": "execute_result",
          "data": {
            "text/plain": [
              "array([[  1.,   1.,   4.,   0.],\n",
              "       [  0.,   3.,   1.,   0.],\n",
              "       [  0.,   0., -10.,   0.]])"
            ]
          },
          "metadata": {},
          "execution_count": 13
        }
      ]
    },
    {
      "cell_type": "code",
      "source": [
        "k(2,1/3)"
      ],
      "metadata": {
        "id": "UHMeDBeGU1Ks",
        "colab": {
          "base_uri": "https://localhost:8080/"
        },
        "outputId": "e828d25e-f8cd-4361-83f1-95e168a72b1e"
      },
      "execution_count": 14,
      "outputs": [
        {
          "output_type": "execute_result",
          "data": {
            "text/plain": [
              "array([[  1.        ,   1.        ,   4.        ,   0.        ],\n",
              "       [  0.        ,   1.        ,   0.33333333,   0.        ],\n",
              "       [  0.        ,   0.        , -10.        ,   0.        ]])"
            ]
          },
          "metadata": {},
          "execution_count": 14
        }
      ]
    },
    {
      "cell_type": "code",
      "source": [
        "k(3,-1/10)"
      ],
      "metadata": {
        "id": "SxaRLUe5U25Q",
        "colab": {
          "base_uri": "https://localhost:8080/"
        },
        "outputId": "0ce5ef59-3ad0-4b92-8545-e5c8055546f8"
      },
      "execution_count": 15,
      "outputs": [
        {
          "output_type": "execute_result",
          "data": {
            "text/plain": [
              "array([[ 1.        ,  1.        ,  4.        ,  0.        ],\n",
              "       [ 0.        ,  1.        ,  0.33333333,  0.        ],\n",
              "       [-0.        , -0.        ,  1.        , -0.        ]])"
            ]
          },
          "metadata": {},
          "execution_count": 15
        }
      ]
    },
    {
      "cell_type": "code",
      "source": [
        "multiple(-1/3,3,2)"
      ],
      "metadata": {
        "id": "OuDMlE-dU4w2",
        "colab": {
          "base_uri": "https://localhost:8080/"
        },
        "outputId": "5e85174c-068d-4c53-96a2-693cec40e8e0"
      },
      "execution_count": 16,
      "outputs": [
        {
          "output_type": "execute_result",
          "data": {
            "text/plain": [
              "array([[ 1.,  1.,  4.,  0.],\n",
              "       [ 0.,  1.,  0.,  0.],\n",
              "       [-0., -0.,  1., -0.]])"
            ]
          },
          "metadata": {},
          "execution_count": 16
        }
      ]
    },
    {
      "cell_type": "code",
      "source": [
        "multiple(-4,3,1)"
      ],
      "metadata": {
        "id": "0vzW4zHcU5hD",
        "colab": {
          "base_uri": "https://localhost:8080/"
        },
        "outputId": "d5a4a0da-e81e-4879-f01e-608369116309"
      },
      "execution_count": 17,
      "outputs": [
        {
          "output_type": "execute_result",
          "data": {
            "text/plain": [
              "array([[ 1.,  1.,  0.,  0.],\n",
              "       [ 0.,  1.,  0.,  0.],\n",
              "       [-0., -0.,  1., -0.]])"
            ]
          },
          "metadata": {},
          "execution_count": 17
        }
      ]
    },
    {
      "cell_type": "code",
      "source": [
        "multiple(-1,2,1)"
      ],
      "metadata": {
        "id": "gSXRXvvEU7ju",
        "colab": {
          "base_uri": "https://localhost:8080/"
        },
        "outputId": "0e134236-ea6e-4971-bdd2-a88dca4d5b58"
      },
      "execution_count": 18,
      "outputs": [
        {
          "output_type": "execute_result",
          "data": {
            "text/plain": [
              "array([[ 1.,  0.,  0.,  0.],\n",
              "       [ 0.,  1.,  0.,  0.],\n",
              "       [-0., -0.,  1., -0.]])"
            ]
          },
          "metadata": {},
          "execution_count": 18
        }
      ]
    },
    {
      "cell_type": "markdown",
      "source": [
        " Here is an algorithm for solving systems of equations using the Gauss-Jordan elimination method"
      ],
      "metadata": {
        "id": "IHmpf4rGK_75"
      }
    },
    {
      "cell_type": "code",
      "source": [
        "import numpy as np\n",
        "\n",
        "# Define the Gauss-Jordan elimination function\n",
        "def gauss_jordan_elimination(A):\n",
        "    n = A.shape[0]\n",
        "    for i in range(n):\n",
        "        # Find the row with the maximum absolute value in the current column\n",
        "        max_row = i\n",
        "        for j in range(i+1, n):\n",
        "            if abs(A[j,i]) > abs(A[max_row,i]):\n",
        "                max_row = j\n",
        "        \n",
        "        # Swap the current row with the row with maximum absolute value\n",
        "        A[[i,max_row]] = A[[max_row,i]]\n",
        "        \n",
        "        # Normalize the current row\n",
        "        A[i] = A[i] / A[i,i]\n",
        "        \n",
        "        # Eliminate the current column in the other rows\n",
        "        for j in range(n):\n",
        "            if j != i:\n",
        "                A[j] = A[j] - A[j,i] * A[i]\n",
        "    \n",
        "    # Extract the solution\n",
        "    solution = A[:,n]\n",
        "    \n",
        "    return solution\n",
        "\n",
        "# Define the matrix A\n",
        "A = np.array([[2, -1, -3, 0], [-1, 2, -3, 0], [1, 1, 4, 0]])\n",
        "\n",
        "# Apply the operations to the matrix A\n",
        "operations = [(\"swap\", 1, 3), (\"multiple\", -2, 1, 3), (\"multiple\", 1, 2, 3), \n",
        "              (\"k\", 2, 1//3), (\"k\", 3, -1//10), (\"multiple\", -1/3, 3, 2), \n",
        "              (\"multiple\", -4, 3, 1), (\"multiple\", -1, 2, 1)]\n",
        "for op, *args in operations:\n",
        "    if op == \"swap\":\n",
        "        i, j = args\n",
        "        A[[i-1, j-1]] = A[[j-1, i-1]]\n",
        "    elif op == \"multiple\":\n",
        "        k, i, j = args\n",
        "        A[i-1] = k * A[j-1] + A[i-1]\n",
        "    elif op == \"k\":\n",
        "        k, i = args\n",
        "        A[i-1] = k * A[i-1]\n",
        "\n",
        "# Print the result\n",
        "print(A)\n",
        "\n",
        "# Solve the system of equations using Gauss-Jordan elimination\n",
        "solution = gauss_jordan_elimination(np.hstack((A, np.array([[4], [0], [0]]))))\n",
        "print(solution)\n"
      ],
      "metadata": {
        "colab": {
          "base_uri": "https://localhost:8080/"
        },
        "id": "hSnWClZYW5xA",
        "outputId": "53bb0319-16ca-4836-8bb0-fdf955cd5cad"
      },
      "execution_count": 22,
      "outputs": [
        {
          "output_type": "stream",
          "name": "stdout",
          "text": [
            "[[ -3   3  10   0]\n",
            " [  6   0 -28   0]\n",
            " [ 15 -15 -40   0]]\n",
            "[0 0 0]\n"
          ]
        }
      ]
    },
    {
      "cell_type": "markdown",
      "source": [
        "##2 The Explanations\n",
        "##a)\n",
        " The Gauss-Jordan elimination method is a powerful technique for solving systems of equations. It works by transforming the augmented matrix representing the system into its reduced row echelon form, which makes it easy to read off the solutions. In this report, we defined functions for swapping rows, adding rows, and multiplying by a constant, and used these functions to perform the Gauss-Jordan process on a system of equations. We also created an algorithm that can be used to solve systems of equations using the Gauss-Jordan method.\n",
        "\n",
        "##b)\n",
        "The Gauss-Jordan elimination method can be computationallyh expensive for very large system of equations. The fault lies when a when a matrix contains a row of zeros. One way to fix this is when you locate a row of zeros is to swap them with non-zero rows below them. In closing the Gauss-Jordan elimination method is a poweerful technique for solving systems of equations it does have limitations that should be taken into account, and additional steps may be needed to ensure it's applicability. "
      ],
      "metadata": {
        "id": "_nNCNLibLECy"
      }
    }
  ]
}