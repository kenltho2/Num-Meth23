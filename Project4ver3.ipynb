{
  "nbformat": 4,
  "nbformat_minor": 0,
  "metadata": {
    "colab": {
      "provenance": [],
      "authorship_tag": "ABX9TyPlCFWcmyCia6FVE4EtFt4p",
      "include_colab_link": true
    },
    "kernelspec": {
      "name": "python3",
      "display_name": "Python 3"
    },
    "language_info": {
      "name": "python"
    }
  },
  "cells": [
    {
      "cell_type": "markdown",
      "metadata": {
        "id": "view-in-github",
        "colab_type": "text"
      },
      "source": [
        "<a href=\"https://colab.research.google.com/github/kenltho2/Num-Meth23/blob/main/Project4ver3.ipynb\" target=\"_parent\"><img src=\"https://colab.research.google.com/assets/colab-badge.svg\" alt=\"Open In Colab\"/></a>"
      ]
    },
    {
      "cell_type": "markdown",
      "source": [
        "Project 4 ver2\n",
        "Aaron Arias Vales, Kennedy Thomas\n",
        "We begin our project for creating functions for the elementary row operations on matrices. The swap(a,b) function swaps rows \n",
        " and \n",
        " of our matrix \n",
        ". The k(a,k) function returns \n",
        " for row \n",
        " in \n",
        ". Lastly, the multiple(k,row_to_multiply,new_row) function returns \n",
        " for \n",
        " in \n",
        " where a = row_to_multiply and b = new_row."
      ],
      "metadata": {
        "id": "YHESCaMSURmc"
      }
    },
    {
      "cell_type": "code",
      "source": [
        "import numpy as np\n",
        "#solving systems of equations\n",
        "\n",
        "#function to create an augmented matrix\n",
        "#n = number of unknowns\n",
        "#np.zeros((3,4)) creates a 3 x 4 array of 0s to start out\n",
        "A = np.zeros((3,4))\n",
        "\n",
        "def create_augmented_matrix():\n",
        "    n = len(A)\n",
        "    #loop to input individual values for each unknown coefficient, returning the complete initial augmented matrix\n",
        "    #row count\n",
        "    for i in range (n):\n",
        "        \n",
        "        #column count, 1 extra because this is an augmented matrix; col4 = result\n",
        "        for j in range(n+1):\n",
        "            A[i][j] = float(input('A['+str(i+1)+']['+str(j+1)+'] = '))"
      ],
      "metadata": {
        "id": "MHgN_0POUUWP"
      },
      "execution_count": 33,
      "outputs": []
    },
    {
      "cell_type": "markdown",
      "source": [
        "We then test our EROs with a sample system of equations. I have chosen a homogenous system to perform Gauss-Jordan elimination upon, and will reduce the matrix to Reduced Row Echelon Form. The equations in our system are:\n",
        "\n",
        " \n",
        "\n",
        "We can describe this system with matrices as follows:\n",
        "\n",
        " \n",
        " \n",
        " \n",
        "\n",
        "For Gauss-Jordan elimination, we need to convert these matrices to one augmented matrix. We convert to the augmented matrix below and begin to solve our equation with our ERO functions.\n",
        "\n",
        " \n"
      ],
      "metadata": {
        "id": "FOyWLErPUWt_"
      }
    },
    {
      "cell_type": "code",
      "source": [
        "create_augmented_matrix()"
      ],
      "metadata": {
        "id": "8qIRHZUQUd3W",
        "colab": {
          "base_uri": "https://localhost:8080/"
        },
        "outputId": "174cf77e-f215-46af-88f8-d5729f6a85ff"
      },
      "execution_count": 34,
      "outputs": [
        {
          "name": "stdout",
          "output_type": "stream",
          "text": [
            "A[1][1] = 2\n",
            "A[1][2] = -1\n",
            "A[1][3] = -3\n",
            "A[1][4] = 0\n",
            "A[2][1] = -1\n",
            "A[2][2] = 2\n",
            "A[2][3] = -3\n",
            "A[2][4] = 0\n",
            "A[3][1] = 1\n",
            "A[3][2] = 1\n",
            "A[3][3] = 4\n",
            "A[3][4] = 0\n"
          ]
        }
      ]
    },
    {
      "cell_type": "code",
      "source": [
        "#function for swapping rows\n",
        "def swap(a,b):\n",
        "    A[[a-1,b-1]] = A[[b-1,a-1]]\n",
        "    return A"
      ],
      "metadata": {
        "id": "i8IQJArdUg4T"
      },
      "execution_count": 35,
      "outputs": []
    },
    {
      "cell_type": "code",
      "source": [
        "#function for multiplying by a constant\n",
        "def k(a,k):\n",
        "    A[a-1] = k*A[a-1]\n",
        "    return A"
      ],
      "metadata": {
        "id": "AscBXQMmUkgC"
      },
      "execution_count": 36,
      "outputs": []
    },
    {
      "cell_type": "code",
      "source": [
        "#function for adding multiple of other row\n",
        "def multiple(k,row_to_multiply,new_row):\n",
        "    a = row_to_multiply\n",
        "    b = new_row\n",
        "    A[b-1] = k*A[a-1] + A[b-1] \n",
        "    return A"
      ],
      "metadata": {
        "id": "lifLmDfmUmdW"
      },
      "execution_count": 37,
      "outputs": []
    },
    {
      "cell_type": "code",
      "source": [
        "A"
      ],
      "metadata": {
        "id": "O2AdD9d4UoxB",
        "colab": {
          "base_uri": "https://localhost:8080/"
        },
        "outputId": "a5834f3d-48e4-45c5-8a7a-d4d687905ec6"
      },
      "execution_count": 38,
      "outputs": [
        {
          "output_type": "execute_result",
          "data": {
            "text/plain": [
              "array([[ 2., -1., -3.,  0.],\n",
              "       [-1.,  2., -3.,  0.],\n",
              "       [ 1.,  1.,  4.,  0.]])"
            ]
          },
          "metadata": {},
          "execution_count": 38
        }
      ]
    },
    {
      "cell_type": "code",
      "source": [
        "swap(1,3)"
      ],
      "metadata": {
        "id": "gQZEjuINUrKJ",
        "colab": {
          "base_uri": "https://localhost:8080/"
        },
        "outputId": "c8a76eb3-0bc4-4f20-a400-323af9f7115b"
      },
      "execution_count": 39,
      "outputs": [
        {
          "output_type": "execute_result",
          "data": {
            "text/plain": [
              "array([[ 1.,  1.,  4.,  0.],\n",
              "       [-1.,  2., -3.,  0.],\n",
              "       [ 2., -1., -3.,  0.]])"
            ]
          },
          "metadata": {},
          "execution_count": 39
        }
      ]
    },
    {
      "cell_type": "code",
      "source": [
        "multiple(1,1,2)"
      ],
      "metadata": {
        "id": "oDNMFo0tUvWw",
        "colab": {
          "base_uri": "https://localhost:8080/"
        },
        "outputId": "4968c61e-702d-487f-aa69-345bb5dc25bc"
      },
      "execution_count": 40,
      "outputs": [
        {
          "output_type": "execute_result",
          "data": {
            "text/plain": [
              "array([[ 1.,  1.,  4.,  0.],\n",
              "       [ 0.,  3.,  1.,  0.],\n",
              "       [ 2., -1., -3.,  0.]])"
            ]
          },
          "metadata": {},
          "execution_count": 40
        }
      ]
    },
    {
      "cell_type": "code",
      "source": [
        "multiple(-2,1,3)"
      ],
      "metadata": {
        "id": "stUxJHXXUwX2",
        "colab": {
          "base_uri": "https://localhost:8080/"
        },
        "outputId": "78f25ca3-fadd-4f84-952e-5f9a3c132323"
      },
      "execution_count": 41,
      "outputs": [
        {
          "output_type": "execute_result",
          "data": {
            "text/plain": [
              "array([[  1.,   1.,   4.,   0.],\n",
              "       [  0.,   3.,   1.,   0.],\n",
              "       [  0.,  -3., -11.,   0.]])"
            ]
          },
          "metadata": {},
          "execution_count": 41
        }
      ]
    },
    {
      "cell_type": "code",
      "source": [
        "multiple(1,2,3)"
      ],
      "metadata": {
        "id": "_c3b0tFnUx5Q",
        "colab": {
          "base_uri": "https://localhost:8080/"
        },
        "outputId": "5d478ef5-d3b4-4a70-fdab-8f80f463f597"
      },
      "execution_count": 42,
      "outputs": [
        {
          "output_type": "execute_result",
          "data": {
            "text/plain": [
              "array([[  1.,   1.,   4.,   0.],\n",
              "       [  0.,   3.,   1.,   0.],\n",
              "       [  0.,   0., -10.,   0.]])"
            ]
          },
          "metadata": {},
          "execution_count": 42
        }
      ]
    },
    {
      "cell_type": "code",
      "source": [
        "k(2,1/3)"
      ],
      "metadata": {
        "id": "UHMeDBeGU1Ks",
        "colab": {
          "base_uri": "https://localhost:8080/"
        },
        "outputId": "dab3a92d-ac8b-4b18-c55d-d858cef98490"
      },
      "execution_count": 43,
      "outputs": [
        {
          "output_type": "execute_result",
          "data": {
            "text/plain": [
              "array([[  1.        ,   1.        ,   4.        ,   0.        ],\n",
              "       [  0.        ,   1.        ,   0.33333333,   0.        ],\n",
              "       [  0.        ,   0.        , -10.        ,   0.        ]])"
            ]
          },
          "metadata": {},
          "execution_count": 43
        }
      ]
    },
    {
      "cell_type": "code",
      "source": [
        "k(3,-1/10)"
      ],
      "metadata": {
        "id": "SxaRLUe5U25Q",
        "colab": {
          "base_uri": "https://localhost:8080/"
        },
        "outputId": "1470e794-98dc-4b5d-a46c-84363d689784"
      },
      "execution_count": 44,
      "outputs": [
        {
          "output_type": "execute_result",
          "data": {
            "text/plain": [
              "array([[ 1.        ,  1.        ,  4.        ,  0.        ],\n",
              "       [ 0.        ,  1.        ,  0.33333333,  0.        ],\n",
              "       [-0.        , -0.        ,  1.        , -0.        ]])"
            ]
          },
          "metadata": {},
          "execution_count": 44
        }
      ]
    },
    {
      "cell_type": "code",
      "source": [
        "multiple(-1/3,3,2)"
      ],
      "metadata": {
        "id": "OuDMlE-dU4w2",
        "colab": {
          "base_uri": "https://localhost:8080/"
        },
        "outputId": "d84ddc80-4c0b-4c6c-e63a-20e43f967441"
      },
      "execution_count": 45,
      "outputs": [
        {
          "output_type": "execute_result",
          "data": {
            "text/plain": [
              "array([[ 1.,  1.,  4.,  0.],\n",
              "       [ 0.,  1.,  0.,  0.],\n",
              "       [-0., -0.,  1., -0.]])"
            ]
          },
          "metadata": {},
          "execution_count": 45
        }
      ]
    },
    {
      "cell_type": "code",
      "source": [
        "multiple(-4,3,1)"
      ],
      "metadata": {
        "id": "0vzW4zHcU5hD",
        "colab": {
          "base_uri": "https://localhost:8080/"
        },
        "outputId": "a854391f-9f9d-4044-eee5-1d335564c19f"
      },
      "execution_count": 46,
      "outputs": [
        {
          "output_type": "execute_result",
          "data": {
            "text/plain": [
              "array([[ 1.,  1.,  0.,  0.],\n",
              "       [ 0.,  1.,  0.,  0.],\n",
              "       [-0., -0.,  1., -0.]])"
            ]
          },
          "metadata": {},
          "execution_count": 46
        }
      ]
    },
    {
      "cell_type": "code",
      "source": [
        "multiple(-1,2,1)"
      ],
      "metadata": {
        "id": "gSXRXvvEU7ju",
        "colab": {
          "base_uri": "https://localhost:8080/"
        },
        "outputId": "801ae0fd-4a00-489e-b3fa-fd40b47b644a"
      },
      "execution_count": 47,
      "outputs": [
        {
          "output_type": "execute_result",
          "data": {
            "text/plain": [
              "array([[ 1.,  0.,  0.,  0.],\n",
              "       [ 0.,  1.,  0.,  0.],\n",
              "       [-0., -0.,  1., -0.]])"
            ]
          },
          "metadata": {},
          "execution_count": 47
        }
      ]
    },
    {
      "cell_type": "markdown",
      "source": [
        " Here is an algorithm for solving systems of equations using the Gauss-Jordan elimination method"
      ],
      "metadata": {
        "id": "IHmpf4rGK_75"
      }
    },
    {
      "cell_type": "code",
      "source": [
        "# INPUT: augmented matrix A representing a system of equations\n",
        "# OUTPUT: the reduced row echelon form of A\n",
        "\n",
        "for i in range(len(A)):\n",
        "    # Divide row i by the pivot element A[i][i]:\n",
        "    multiply_row(A, i, 1/A[i][i])\n",
        "    \n",
        "    # Eliminate all entries below the pivot element:\n",
        "    for j in range(i+1, len(A)):\n",
        "        add_rows(A, j, i, -A[j][i])\n",
        "    \n",
        "    # Eliminate all entries above the pivot element:\n",
        "    for j in range(i):\n",
        "        add_rows(A, j, i, -A[j][i])\n",
        "        \n",
        "    # If the pivot element is 0, swap with a row below that has a non-zero entry in that column:\n",
        "    if A[i][i] == 0:\n",
        "        for j in range(i+1, len(A)):\n",
        "            if A[j][i] != 0:\n",
        "                swap_rows(A, i, j)\n",
        "                break\n",
        "\n",
        "print(A)\n"
      ],
      "metadata": {
        "colab": {
          "base_uri": "https://localhost:8080/"
        },
        "id": "wV_BF0JwIss3",
        "outputId": "6902300f-9efc-460e-c643-da202a8ba867"
      },
      "execution_count": 50,
      "outputs": [
        {
          "output_type": "stream",
          "name": "stdout",
          "text": [
            "[[ 1.  0.  0.  0.]\n",
            " [ 0.  1.  0.  0.]\n",
            " [-0. -0.  1. -0.]]\n"
          ]
        }
      ]
    },
    {
      "cell_type": "markdown",
      "source": [
        "##2 The Explanations\n",
        "##a)\n",
        " The Gauss-Jordan elimination method is a powerful technique for solving systems of equations. It works by transforming the augmented matrix representing the system into its reduced row echelon form, which makes it easy to read off the solutions. In this report, we defined functions for swapping rows, adding rows, and multiplying by a constant, and used these functions to perform the Gauss-Jordan process on a system of equations. We also created an algorithm that can be used to solve systems of equations using the Gauss-Jordan method.\n",
        "\n",
        "##b)\n",
        "The Gauss-Jordan elimination method can be computationallyh expensive for very large system of equations. The fault lies when a when a matrix contains a row of zeros. One way to fix this is when you locate a row of zeros is to swap them with non-zero rows below them. In closing the Gauss-Jordan elimination method is a poweerful technique for solving systems of equations it does have limitations that should be taken into account, and additional steps may be needed to ensure it's applicability. "
      ],
      "metadata": {
        "id": "_nNCNLibLECy"
      }
    }
  ]
}