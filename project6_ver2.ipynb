{
  "cells": [
    {
      "cell_type": "markdown",
      "metadata": {
        "id": "view-in-github",
        "colab_type": "text"
      },
      "source": [
        "<a href=\"https://colab.research.google.com/github/kenltho2/Num-Meth23/blob/main/project6_ver2.ipynb\" target=\"_parent\"><img src=\"https://colab.research.google.com/assets/colab-badge.svg\" alt=\"Open In Colab\"/></a>"
      ]
    },
    {
      "cell_type": "code",
      "execution_count": null,
      "id": "3fb82cdb",
      "metadata": {
        "id": "3fb82cdb"
      },
      "outputs": [],
      "source": [
        "import math\n",
        "import pandas as pd\n",
        "import numpy as np\n",
        "import matplotlib.pyplot as plt"
      ]
    },
    {
      "cell_type": "code",
      "execution_count": null,
      "id": "3a595e35",
      "metadata": {
        "id": "3a595e35"
      },
      "outputs": [],
      "source": [
        "df = pd.read_csv('/Users/kenny/downloads/filmdeathcounts.csv')"
      ]
    },
    {
      "cell_type": "code",
      "execution_count": null,
      "id": "f02e6bc2",
      "metadata": {
        "id": "f02e6bc2",
        "outputId": "4574cf95-70d5-4e5a-da4b-8fe7903c79ea"
      },
      "outputs": [
        {
          "data": {
            "text/html": [
              "<div>\n",
              "<style scoped>\n",
              "    .dataframe tbody tr th:only-of-type {\n",
              "        vertical-align: middle;\n",
              "    }\n",
              "\n",
              "    .dataframe tbody tr th {\n",
              "        vertical-align: top;\n",
              "    }\n",
              "\n",
              "    .dataframe thead th {\n",
              "        text-align: right;\n",
              "    }\n",
              "</style>\n",
              "<table border=\"1\" class=\"dataframe\">\n",
              "  <thead>\n",
              "    <tr style=\"text-align: right;\">\n",
              "      <th></th>\n",
              "      <th>Film</th>\n",
              "      <th>Year</th>\n",
              "      <th>Body_Count</th>\n",
              "      <th>MPAA_Rating</th>\n",
              "      <th>Genre</th>\n",
              "      <th>Director</th>\n",
              "      <th>Length_Minutes</th>\n",
              "      <th>IMDB_Rating</th>\n",
              "    </tr>\n",
              "  </thead>\n",
              "  <tbody>\n",
              "    <tr>\n",
              "      <th>0</th>\n",
              "      <td>24 Hour Party People</td>\n",
              "      <td>2002</td>\n",
              "      <td>7</td>\n",
              "      <td>R</td>\n",
              "      <td>Biography|Comedy|Drama|Music</td>\n",
              "      <td>Michael Winterbottom</td>\n",
              "      <td>117</td>\n",
              "      <td>7.3</td>\n",
              "    </tr>\n",
              "    <tr>\n",
              "      <th>1</th>\n",
              "      <td>28 Days Later</td>\n",
              "      <td>2002</td>\n",
              "      <td>53</td>\n",
              "      <td>R</td>\n",
              "      <td>Horror|Sci-Fi|Thriller</td>\n",
              "      <td>Danny Boyle</td>\n",
              "      <td>113</td>\n",
              "      <td>7.6</td>\n",
              "    </tr>\n",
              "    <tr>\n",
              "      <th>2</th>\n",
              "      <td>28 Weeks Later</td>\n",
              "      <td>2007</td>\n",
              "      <td>212</td>\n",
              "      <td>R</td>\n",
              "      <td>Horror|Sci-Fi|Thriller</td>\n",
              "      <td>Juan Carlos Fresnadillo</td>\n",
              "      <td>100</td>\n",
              "      <td>7.0</td>\n",
              "    </tr>\n",
              "    <tr>\n",
              "      <th>3</th>\n",
              "      <td>30 Days of Night</td>\n",
              "      <td>2007</td>\n",
              "      <td>67</td>\n",
              "      <td>R</td>\n",
              "      <td>Horror|Thriller</td>\n",
              "      <td>David Slade</td>\n",
              "      <td>113</td>\n",
              "      <td>6.6</td>\n",
              "    </tr>\n",
              "    <tr>\n",
              "      <th>4</th>\n",
              "      <td>300</td>\n",
              "      <td>2007</td>\n",
              "      <td>600</td>\n",
              "      <td>R</td>\n",
              "      <td>Action|Fantasy|History|War</td>\n",
              "      <td>Zack Snyder</td>\n",
              "      <td>117</td>\n",
              "      <td>7.7</td>\n",
              "    </tr>\n",
              "    <tr>\n",
              "      <th>...</th>\n",
              "      <td>...</td>\n",
              "      <td>...</td>\n",
              "      <td>...</td>\n",
              "      <td>...</td>\n",
              "      <td>...</td>\n",
              "      <td>...</td>\n",
              "      <td>...</td>\n",
              "      <td>...</td>\n",
              "    </tr>\n",
              "    <tr>\n",
              "      <th>540</th>\n",
              "      <td>Zatoichi</td>\n",
              "      <td>2003</td>\n",
              "      <td>81</td>\n",
              "      <td>R</td>\n",
              "      <td>Action|Comedy|Crime</td>\n",
              "      <td>Takeshi Kitano</td>\n",
              "      <td>116</td>\n",
              "      <td>7.6</td>\n",
              "    </tr>\n",
              "    <tr>\n",
              "      <th>541</th>\n",
              "      <td>Zodiac</td>\n",
              "      <td>2007</td>\n",
              "      <td>3</td>\n",
              "      <td>R</td>\n",
              "      <td>Crime|Drama|Mystery|Thriller</td>\n",
              "      <td>David Fincher</td>\n",
              "      <td>157</td>\n",
              "      <td>7.7</td>\n",
              "    </tr>\n",
              "    <tr>\n",
              "      <th>542</th>\n",
              "      <td>Zombieland</td>\n",
              "      <td>2009</td>\n",
              "      <td>109</td>\n",
              "      <td>R</td>\n",
              "      <td>Comedy|Horror</td>\n",
              "      <td>Ruben Fleischer</td>\n",
              "      <td>88</td>\n",
              "      <td>7.7</td>\n",
              "    </tr>\n",
              "    <tr>\n",
              "      <th>543</th>\n",
              "      <td>Zoolander</td>\n",
              "      <td>2001</td>\n",
              "      <td>4</td>\n",
              "      <td>PG-13</td>\n",
              "      <td>Comedy</td>\n",
              "      <td>Ben Stiller</td>\n",
              "      <td>89</td>\n",
              "      <td>6.5</td>\n",
              "    </tr>\n",
              "    <tr>\n",
              "      <th>544</th>\n",
              "      <td>Zulu</td>\n",
              "      <td>1964</td>\n",
              "      <td>140</td>\n",
              "      <td>Unrated</td>\n",
              "      <td>Drama|History|War</td>\n",
              "      <td>Cy Endfield</td>\n",
              "      <td>138</td>\n",
              "      <td>7.8</td>\n",
              "    </tr>\n",
              "  </tbody>\n",
              "</table>\n",
              "<p>545 rows × 8 columns</p>\n",
              "</div>"
            ],
            "text/plain": [
              "                     Film  Year  Body_Count MPAA_Rating  \\\n",
              "0    24 Hour Party People  2002           7           R   \n",
              "1           28 Days Later  2002          53           R   \n",
              "2          28 Weeks Later  2007         212           R   \n",
              "3        30 Days of Night  2007          67           R   \n",
              "4                     300  2007         600           R   \n",
              "..                    ...   ...         ...         ...   \n",
              "540              Zatoichi  2003          81           R   \n",
              "541                Zodiac  2007           3           R   \n",
              "542            Zombieland  2009         109           R   \n",
              "543             Zoolander  2001           4       PG-13   \n",
              "544                  Zulu  1964         140     Unrated   \n",
              "\n",
              "                            Genre                 Director  Length_Minutes  \\\n",
              "0    Biography|Comedy|Drama|Music     Michael Winterbottom             117   \n",
              "1          Horror|Sci-Fi|Thriller              Danny Boyle             113   \n",
              "2          Horror|Sci-Fi|Thriller  Juan Carlos Fresnadillo             100   \n",
              "3                 Horror|Thriller              David Slade             113   \n",
              "4      Action|Fantasy|History|War              Zack Snyder             117   \n",
              "..                            ...                      ...             ...   \n",
              "540           Action|Comedy|Crime           Takeshi Kitano             116   \n",
              "541  Crime|Drama|Mystery|Thriller            David Fincher             157   \n",
              "542                 Comedy|Horror          Ruben Fleischer              88   \n",
              "543                        Comedy              Ben Stiller              89   \n",
              "544             Drama|History|War              Cy Endfield             138   \n",
              "\n",
              "     IMDB_Rating  \n",
              "0            7.3  \n",
              "1            7.6  \n",
              "2            7.0  \n",
              "3            6.6  \n",
              "4            7.7  \n",
              "..           ...  \n",
              "540          7.6  \n",
              "541          7.7  \n",
              "542          7.7  \n",
              "543          6.5  \n",
              "544          7.8  \n",
              "\n",
              "[545 rows x 8 columns]"
            ]
          },
          "execution_count": 3,
          "metadata": {},
          "output_type": "execute_result"
        }
      ],
      "source": [
        "df"
      ]
    },
    {
      "cell_type": "code",
      "execution_count": null,
      "id": "4f256903",
      "metadata": {
        "id": "4f256903"
      },
      "outputs": [],
      "source": [
        "x = df[[\"Body_Count\"]]"
      ]
    },
    {
      "cell_type": "code",
      "execution_count": null,
      "id": "08ea4121",
      "metadata": {
        "id": "08ea4121"
      },
      "outputs": [],
      "source": [
        "y = df[[\"IMDB_Rating\"]]"
      ]
    },
    {
      "cell_type": "code",
      "execution_count": null,
      "id": "d16d2150",
      "metadata": {
        "id": "d16d2150"
      },
      "outputs": [],
      "source": [
        "table = pd.concat([x,y],axis=1)"
      ]
    },
    {
      "cell_type": "code",
      "execution_count": null,
      "id": "750cf62e",
      "metadata": {
        "id": "750cf62e",
        "outputId": "382b8ffa-fa23-40ee-a608-00c8b77a047d"
      },
      "outputs": [
        {
          "data": {
            "text/html": [
              "<div>\n",
              "<style scoped>\n",
              "    .dataframe tbody tr th:only-of-type {\n",
              "        vertical-align: middle;\n",
              "    }\n",
              "\n",
              "    .dataframe tbody tr th {\n",
              "        vertical-align: top;\n",
              "    }\n",
              "\n",
              "    .dataframe thead th {\n",
              "        text-align: right;\n",
              "    }\n",
              "</style>\n",
              "<table border=\"1\" class=\"dataframe\">\n",
              "  <thead>\n",
              "    <tr style=\"text-align: right;\">\n",
              "      <th></th>\n",
              "      <th>Body_Count</th>\n",
              "      <th>IMDB_Rating</th>\n",
              "      <th>product</th>\n",
              "      <th>x squared</th>\n",
              "    </tr>\n",
              "  </thead>\n",
              "  <tbody>\n",
              "    <tr>\n",
              "      <th>0</th>\n",
              "      <td>7</td>\n",
              "      <td>7.3</td>\n",
              "      <td>51.1</td>\n",
              "      <td>49</td>\n",
              "    </tr>\n",
              "    <tr>\n",
              "      <th>1</th>\n",
              "      <td>53</td>\n",
              "      <td>7.6</td>\n",
              "      <td>402.8</td>\n",
              "      <td>2809</td>\n",
              "    </tr>\n",
              "    <tr>\n",
              "      <th>2</th>\n",
              "      <td>212</td>\n",
              "      <td>7.0</td>\n",
              "      <td>1484.0</td>\n",
              "      <td>44944</td>\n",
              "    </tr>\n",
              "    <tr>\n",
              "      <th>3</th>\n",
              "      <td>67</td>\n",
              "      <td>6.6</td>\n",
              "      <td>442.2</td>\n",
              "      <td>4489</td>\n",
              "    </tr>\n",
              "    <tr>\n",
              "      <th>4</th>\n",
              "      <td>600</td>\n",
              "      <td>7.7</td>\n",
              "      <td>4620.0</td>\n",
              "      <td>360000</td>\n",
              "    </tr>\n",
              "    <tr>\n",
              "      <th>...</th>\n",
              "      <td>...</td>\n",
              "      <td>...</td>\n",
              "      <td>...</td>\n",
              "      <td>...</td>\n",
              "    </tr>\n",
              "    <tr>\n",
              "      <th>540</th>\n",
              "      <td>81</td>\n",
              "      <td>7.6</td>\n",
              "      <td>615.6</td>\n",
              "      <td>6561</td>\n",
              "    </tr>\n",
              "    <tr>\n",
              "      <th>541</th>\n",
              "      <td>3</td>\n",
              "      <td>7.7</td>\n",
              "      <td>23.1</td>\n",
              "      <td>9</td>\n",
              "    </tr>\n",
              "    <tr>\n",
              "      <th>542</th>\n",
              "      <td>109</td>\n",
              "      <td>7.7</td>\n",
              "      <td>839.3</td>\n",
              "      <td>11881</td>\n",
              "    </tr>\n",
              "    <tr>\n",
              "      <th>543</th>\n",
              "      <td>4</td>\n",
              "      <td>6.5</td>\n",
              "      <td>26.0</td>\n",
              "      <td>16</td>\n",
              "    </tr>\n",
              "    <tr>\n",
              "      <th>544</th>\n",
              "      <td>140</td>\n",
              "      <td>7.8</td>\n",
              "      <td>1092.0</td>\n",
              "      <td>19600</td>\n",
              "    </tr>\n",
              "  </tbody>\n",
              "</table>\n",
              "<p>545 rows × 4 columns</p>\n",
              "</div>"
            ],
            "text/plain": [
              "     Body_Count  IMDB_Rating  product  x squared\n",
              "0             7          7.3     51.1         49\n",
              "1            53          7.6    402.8       2809\n",
              "2           212          7.0   1484.0      44944\n",
              "3            67          6.6    442.2       4489\n",
              "4           600          7.7   4620.0     360000\n",
              "..          ...          ...      ...        ...\n",
              "540          81          7.6    615.6       6561\n",
              "541           3          7.7     23.1          9\n",
              "542         109          7.7    839.3      11881\n",
              "543           4          6.5     26.0         16\n",
              "544         140          7.8   1092.0      19600\n",
              "\n",
              "[545 rows x 4 columns]"
            ]
          },
          "execution_count": 8,
          "metadata": {},
          "output_type": "execute_result"
        }
      ],
      "source": [
        "table['product'] = table.Body_Count * table.IMDB_Rating\n",
        "table['x squared'] = table.Body_Count * table.Body_Count\n",
        "table"
      ]
    },
    {
      "cell_type": "code",
      "execution_count": null,
      "id": "9facd522",
      "metadata": {
        "id": "9facd522",
        "outputId": "32d4d89a-091b-47a7-a9cb-a08c5c0cac1c"
      },
      "outputs": [
        {
          "data": {
            "text/plain": [
              "-8552452.486051874"
            ]
          },
          "execution_count": 9,
          "metadata": {},
          "output_type": "execute_result"
        }
      ],
      "source": [
        "# formula for our coefficient a_1 \n",
        "#(n (sum of products) - product of sums )/ n(sum of xsquares) - square of xsums\n",
        "\n",
        "n = len(table)\n",
        "sum_x = table['Body_Count'].sum()\n",
        "sum_y = table['IMDB_Rating'].sum()\n",
        "sum_xy = table['product'].sum()\n",
        "sum_xsquared = table['x squared'].sum()\n",
        "\n",
        "a_1 = ((n * sum_xy) * - sum_x * sum_y) / ((n * sum_xsquared) - (sum_x)**2)\n",
        "a_1"
      ]
    },
    {
      "cell_type": "code",
      "execution_count": null,
      "id": "1c3c79e5",
      "metadata": {
        "id": "1c3c79e5",
        "outputId": "53b00428-a294-4730-ad36-c110f19bc492"
      },
      "outputs": [
        {
          "data": {
            "text/plain": [
              "616765217.953939"
            ]
          },
          "execution_count": 10,
          "metadata": {},
          "output_type": "execute_result"
        }
      ],
      "source": [
        "# formula for our coefficient a_0\n",
        "# sum of y / n - a_1 (sum of x / n)\n",
        "a_0 = (sum_y / n) - a_1 * (sum_x / n)\n",
        "a_0 "
      ]
    },
    {
      "cell_type": "markdown",
      "id": "6da268dc",
      "metadata": {
        "id": "6da268dc"
      },
      "source": [
        "**We have found our linear function modeling the regression between the amount of people perishing in a movie and its subsequent IMDB rating. $y = 6.168 \\times 10^9 - (8.552 \\times 10^7)x$ is our regression function (up to 4 significant digits).**"
      ]
    },
    {
      "cell_type": "code",
      "execution_count": null,
      "id": "4d0b3aaf",
      "metadata": {
        "id": "4d0b3aaf"
      },
      "outputs": [],
      "source": [
        "#regression function\n",
        "def linear_prediction(x_val):\n",
        "    y_val = 616765217.953939 -8552452.486051874 * x_val\n",
        "    return y_val"
      ]
    },
    {
      "cell_type": "code",
      "execution_count": null,
      "id": "50ea31a1",
      "metadata": {
        "id": "50ea31a1",
        "outputId": "9d8c4d4e-fb9e-4b4d-fea9-b32801fcc894"
      },
      "outputs": [
        {
          "data": {
            "text/html": [
              "<div>\n",
              "<style scoped>\n",
              "    .dataframe tbody tr th:only-of-type {\n",
              "        vertical-align: middle;\n",
              "    }\n",
              "\n",
              "    .dataframe tbody tr th {\n",
              "        vertical-align: top;\n",
              "    }\n",
              "\n",
              "    .dataframe thead th {\n",
              "        text-align: right;\n",
              "    }\n",
              "</style>\n",
              "<table border=\"1\" class=\"dataframe\">\n",
              "  <thead>\n",
              "    <tr style=\"text-align: right;\">\n",
              "      <th></th>\n",
              "      <th>Body_Count</th>\n",
              "      <th>IMDB_Rating</th>\n",
              "      <th>product</th>\n",
              "      <th>x squared</th>\n",
              "      <th>error</th>\n",
              "      <th>error^2</th>\n",
              "    </tr>\n",
              "  </thead>\n",
              "  <tbody>\n",
              "    <tr>\n",
              "      <th>0</th>\n",
              "      <td>7</td>\n",
              "      <td>7.3</td>\n",
              "      <td>51.1</td>\n",
              "      <td>49</td>\n",
              "      <td>-5.568980e+08</td>\n",
              "      <td>3.101354e+17</td>\n",
              "    </tr>\n",
              "    <tr>\n",
              "      <th>1</th>\n",
              "      <td>53</td>\n",
              "      <td>7.6</td>\n",
              "      <td>402.8</td>\n",
              "      <td>2809</td>\n",
              "      <td>-1.634852e+08</td>\n",
              "      <td>2.672741e+16</td>\n",
              "    </tr>\n",
              "    <tr>\n",
              "      <th>2</th>\n",
              "      <td>212</td>\n",
              "      <td>7.0</td>\n",
              "      <td>1484.0</td>\n",
              "      <td>44944</td>\n",
              "      <td>1.196355e+09</td>\n",
              "      <td>1.431265e+18</td>\n",
              "    </tr>\n",
              "    <tr>\n",
              "      <th>3</th>\n",
              "      <td>67</td>\n",
              "      <td>6.6</td>\n",
              "      <td>442.2</td>\n",
              "      <td>4489</td>\n",
              "      <td>-4.375083e+07</td>\n",
              "      <td>1.914136e+15</td>\n",
              "    </tr>\n",
              "    <tr>\n",
              "      <th>4</th>\n",
              "      <td>600</td>\n",
              "      <td>7.7</td>\n",
              "      <td>4620.0</td>\n",
              "      <td>360000</td>\n",
              "      <td>4.514707e+09</td>\n",
              "      <td>2.038258e+19</td>\n",
              "    </tr>\n",
              "    <tr>\n",
              "      <th>...</th>\n",
              "      <td>...</td>\n",
              "      <td>...</td>\n",
              "      <td>...</td>\n",
              "      <td>...</td>\n",
              "      <td>...</td>\n",
              "      <td>...</td>\n",
              "    </tr>\n",
              "    <tr>\n",
              "      <th>540</th>\n",
              "      <td>81</td>\n",
              "      <td>7.6</td>\n",
              "      <td>615.6</td>\n",
              "      <td>6561</td>\n",
              "      <td>7.598351e+07</td>\n",
              "      <td>5.773494e+15</td>\n",
              "    </tr>\n",
              "    <tr>\n",
              "      <th>541</th>\n",
              "      <td>3</td>\n",
              "      <td>7.7</td>\n",
              "      <td>23.1</td>\n",
              "      <td>9</td>\n",
              "      <td>-5.911079e+08</td>\n",
              "      <td>3.494085e+17</td>\n",
              "    </tr>\n",
              "    <tr>\n",
              "      <th>542</th>\n",
              "      <td>109</td>\n",
              "      <td>7.7</td>\n",
              "      <td>839.3</td>\n",
              "      <td>11881</td>\n",
              "      <td>3.154522e+08</td>\n",
              "      <td>9.951010e+16</td>\n",
              "    </tr>\n",
              "    <tr>\n",
              "      <th>543</th>\n",
              "      <td>4</td>\n",
              "      <td>6.5</td>\n",
              "      <td>26.0</td>\n",
              "      <td>16</td>\n",
              "      <td>-5.825554e+08</td>\n",
              "      <td>3.393708e+17</td>\n",
              "    </tr>\n",
              "    <tr>\n",
              "      <th>544</th>\n",
              "      <td>140</td>\n",
              "      <td>7.8</td>\n",
              "      <td>1092.0</td>\n",
              "      <td>19600</td>\n",
              "      <td>5.805783e+08</td>\n",
              "      <td>3.370711e+17</td>\n",
              "    </tr>\n",
              "  </tbody>\n",
              "</table>\n",
              "<p>545 rows × 6 columns</p>\n",
              "</div>"
            ],
            "text/plain": [
              "     Body_Count  IMDB_Rating  product  x squared         error       error^2\n",
              "0             7          7.3     51.1         49 -5.568980e+08  3.101354e+17\n",
              "1            53          7.6    402.8       2809 -1.634852e+08  2.672741e+16\n",
              "2           212          7.0   1484.0      44944  1.196355e+09  1.431265e+18\n",
              "3            67          6.6    442.2       4489 -4.375083e+07  1.914136e+15\n",
              "4           600          7.7   4620.0     360000  4.514707e+09  2.038258e+19\n",
              "..          ...          ...      ...        ...           ...           ...\n",
              "540          81          7.6    615.6       6561  7.598351e+07  5.773494e+15\n",
              "541           3          7.7     23.1          9 -5.911079e+08  3.494085e+17\n",
              "542         109          7.7    839.3      11881  3.154522e+08  9.951010e+16\n",
              "543           4          6.5     26.0         16 -5.825554e+08  3.393708e+17\n",
              "544         140          7.8   1092.0      19600  5.805783e+08  3.370711e+17\n",
              "\n",
              "[545 rows x 6 columns]"
            ]
          },
          "execution_count": 12,
          "metadata": {},
          "output_type": "execute_result"
        }
      ],
      "source": [
        "table['error']= table.Body_Count - linear_prediction(table.Body_Count)\n",
        "table['error^2'] = table.error * table.error\n",
        "table"
      ]
    },
    {
      "cell_type": "code",
      "execution_count": null,
      "id": "0d95956b",
      "metadata": {
        "id": "0d95956b",
        "outputId": "70a9c87c-3081-4e09-c9fb-2ed76846afaf"
      },
      "outputs": [
        {
          "data": {
            "text/plain": [
              "3.4141593935259166e+20"
            ]
          },
          "execution_count": 13,
          "metadata": {},
          "output_type": "execute_result"
        }
      ],
      "source": [
        "table['error^2'].sum()"
      ]
    },
    {
      "cell_type": "markdown",
      "id": "09c27ad4",
      "metadata": {
        "id": "09c27ad4"
      },
      "source": [
        "**We find our sum of the squared residual to be $\\sum_{i=1}^{n} E_{i}^2 = 3.414 \\times 10^{20} $.**"
      ]
    },
    {
      "cell_type": "code",
      "execution_count": null,
      "id": "b7eba1c9",
      "metadata": {
        "id": "b7eba1c9",
        "outputId": "aa21f224-9213-4a30-b562-ef5aa2f326ef"
      },
      "outputs": [
        {
          "data": {
            "image/png": "[encoded data removed]",
            "text/plain": [
              "<Figure size 640x480 with 1 Axes>"
            ]
          },
          "metadata": {},
          "output_type": "display_data"
        }
      ],
      "source": [
        "x_space = np.arange(0,836)\n",
        "y_space = linear_prediction(x_space)\n",
        "plt.ylim(0,10)\n",
        "plt.xlabel('Number of On Screen Deaths')\n",
        "plt.ylabel('IMDB Rating')\n",
        "plt.plot(x_space,y_space,'m',label=\"Regression Line\")\n",
        "plt.scatter(x,y,label='Movies')\n",
        "plt.legend()\n",
        "plt.show()"
      ]
    },
    {
      "cell_type": "markdown",
      "id": "293884c3",
      "metadata": {
        "id": "293884c3"
      },
      "source": [
        "**For part two we are going to compare the number of deaths to the runtime of the movie. We will model this relationship using a growth model, under the assumption that the longer a movie is, the higher the death toll. Of course, there will be outliers, but the growth model most accurately describes how the quantities relate to one another. We will try to find a line of best fit using the model $\\frac{1}{y} = \\frac{b+x}{ax}$, where $b$ and $a$ are unknown parameters, $x$ is the runtime of the movie, and $y$ is the number of deaths.**"
      ]
    },
    {
      "cell_type": "markdown",
      "id": "404edcbf",
      "metadata": {
        "id": "404edcbf"
      },
      "source": [
        "**Using the method from the text, we set up a linear regression model using the function\n",
        "$\\begin{equation*} \n",
        "z = a_{0} + a_{1}w\n",
        "\\end{equation*}$,\n",
        "where $ z = \\frac{1}{y}$, $a_{0} = \\frac{1}{a}$, $a_{1} = \\frac{b}{a}$, and $w = \\frac{1}{x}$. Note that $a$ and $b$ can be rewritten in terms of $a_{0}$ and $a_{1}$, such that $a = \\frac{1}{a_{0}}$ and $b= \\frac{a_{1}}{a_{0}}$. We set up our table and begin to solve for $a$ and $b$ (really $a_{0}$ and $a_{1}$).**"
      ]
    },
    {
      "cell_type": "code",
      "execution_count": null,
      "id": "4f8f1483",
      "metadata": {
        "id": "4f8f1483",
        "outputId": "fe2da178-7ba2-4c00-a9d0-1f22e7bf1f78"
      },
      "outputs": [
        {
          "data": {
            "text/html": [
              "<div>\n",
              "<style scoped>\n",
              "    .dataframe tbody tr th:only-of-type {\n",
              "        vertical-align: middle;\n",
              "    }\n",
              "\n",
              "    .dataframe tbody tr th {\n",
              "        vertical-align: top;\n",
              "    }\n",
              "\n",
              "    .dataframe thead th {\n",
              "        text-align: right;\n",
              "    }\n",
              "</style>\n",
              "<table border=\"1\" class=\"dataframe\">\n",
              "  <thead>\n",
              "    <tr style=\"text-align: right;\">\n",
              "      <th></th>\n",
              "      <th>Length_Minutes</th>\n",
              "      <th>Body_Count</th>\n",
              "      <th>w</th>\n",
              "      <th>z</th>\n",
              "      <th>wz</th>\n",
              "      <th>w^2</th>\n",
              "    </tr>\n",
              "  </thead>\n",
              "  <tbody>\n",
              "    <tr>\n",
              "      <th>0</th>\n",
              "      <td>117</td>\n",
              "      <td>7</td>\n",
              "      <td>0.008547</td>\n",
              "      <td>0.142857</td>\n",
              "      <td>0.001221</td>\n",
              "      <td>0.000073</td>\n",
              "    </tr>\n",
              "    <tr>\n",
              "      <th>1</th>\n",
              "      <td>113</td>\n",
              "      <td>53</td>\n",
              "      <td>0.008850</td>\n",
              "      <td>0.018868</td>\n",
              "      <td>0.000167</td>\n",
              "      <td>0.000078</td>\n",
              "    </tr>\n",
              "    <tr>\n",
              "      <th>2</th>\n",
              "      <td>100</td>\n",
              "      <td>212</td>\n",
              "      <td>0.010000</td>\n",
              "      <td>0.004717</td>\n",
              "      <td>0.000047</td>\n",
              "      <td>0.000100</td>\n",
              "    </tr>\n",
              "    <tr>\n",
              "      <th>3</th>\n",
              "      <td>113</td>\n",
              "      <td>67</td>\n",
              "      <td>0.008850</td>\n",
              "      <td>0.014925</td>\n",
              "      <td>0.000132</td>\n",
              "      <td>0.000078</td>\n",
              "    </tr>\n",
              "    <tr>\n",
              "      <th>4</th>\n",
              "      <td>117</td>\n",
              "      <td>600</td>\n",
              "      <td>0.008547</td>\n",
              "      <td>0.001667</td>\n",
              "      <td>0.000014</td>\n",
              "      <td>0.000073</td>\n",
              "    </tr>\n",
              "    <tr>\n",
              "      <th>...</th>\n",
              "      <td>...</td>\n",
              "      <td>...</td>\n",
              "      <td>...</td>\n",
              "      <td>...</td>\n",
              "      <td>...</td>\n",
              "      <td>...</td>\n",
              "    </tr>\n",
              "    <tr>\n",
              "      <th>540</th>\n",
              "      <td>116</td>\n",
              "      <td>81</td>\n",
              "      <td>0.008621</td>\n",
              "      <td>0.012346</td>\n",
              "      <td>0.000106</td>\n",
              "      <td>0.000074</td>\n",
              "    </tr>\n",
              "    <tr>\n",
              "      <th>541</th>\n",
              "      <td>157</td>\n",
              "      <td>3</td>\n",
              "      <td>0.006369</td>\n",
              "      <td>0.333333</td>\n",
              "      <td>0.002123</td>\n",
              "      <td>0.000041</td>\n",
              "    </tr>\n",
              "    <tr>\n",
              "      <th>542</th>\n",
              "      <td>88</td>\n",
              "      <td>109</td>\n",
              "      <td>0.011364</td>\n",
              "      <td>0.009174</td>\n",
              "      <td>0.000104</td>\n",
              "      <td>0.000129</td>\n",
              "    </tr>\n",
              "    <tr>\n",
              "      <th>543</th>\n",
              "      <td>89</td>\n",
              "      <td>4</td>\n",
              "      <td>0.011236</td>\n",
              "      <td>0.250000</td>\n",
              "      <td>0.002809</td>\n",
              "      <td>0.000126</td>\n",
              "    </tr>\n",
              "    <tr>\n",
              "      <th>544</th>\n",
              "      <td>138</td>\n",
              "      <td>140</td>\n",
              "      <td>0.007246</td>\n",
              "      <td>0.007143</td>\n",
              "      <td>0.000052</td>\n",
              "      <td>0.000053</td>\n",
              "    </tr>\n",
              "  </tbody>\n",
              "</table>\n",
              "<p>545 rows × 6 columns</p>\n",
              "</div>"
            ],
            "text/plain": [
              "     Length_Minutes  Body_Count         w         z        wz       w^2\n",
              "0               117           7  0.008547  0.142857  0.001221  0.000073\n",
              "1               113          53  0.008850  0.018868  0.000167  0.000078\n",
              "2               100         212  0.010000  0.004717  0.000047  0.000100\n",
              "3               113          67  0.008850  0.014925  0.000132  0.000078\n",
              "4               117         600  0.008547  0.001667  0.000014  0.000073\n",
              "..              ...         ...       ...       ...       ...       ...\n",
              "540             116          81  0.008621  0.012346  0.000106  0.000074\n",
              "541             157           3  0.006369  0.333333  0.002123  0.000041\n",
              "542              88         109  0.011364  0.009174  0.000104  0.000129\n",
              "543              89           4  0.011236  0.250000  0.002809  0.000126\n",
              "544             138         140  0.007246  0.007143  0.000052  0.000053\n",
              "\n",
              "[545 rows x 6 columns]"
            ]
          },
          "execution_count": 22,
          "metadata": {},
          "output_type": "execute_result"
        }
      ],
      "source": [
        "#setting up separate table to manipulate data\n",
        "x1 = df[['Length_Minutes']]\n",
        "y1 = df[['Body_Count']]\n",
        "table1 = pd.concat([x1,y1],axis=1)\n",
        "\n",
        "table1['w']= 1 / table1.Length_Minutes\n",
        "table1['z']= 1 / table1.Body_Count\n",
        "table1['wz'] = table1.w * table1.z\n",
        "table1['w^2'] = table1.w * table1.w\n",
        "table1"
      ]
    },
    {
      "cell_type": "markdown",
      "id": "0c64c0e4",
      "metadata": {
        "id": "0c64c0e4"
      },
      "source": [
        "**Using the same formula from Part 1, we find $a_{0}$ and $a_{1}$ using our values for $w$ and $z$.**"
      ]
    },
    {
      "cell_type": "code",
      "execution_count": null,
      "id": "cc84b384",
      "metadata": {
        "id": "cc84b384"
      },
      "outputs": [],
      "source": [
        "n = len(table1)\n",
        "sum_w = table1['w'].sum()\n",
        "sum_z = table1['z'].sum()\n",
        "sum_wz = table1['wz'].sum()\n",
        "sum_ww = table1['w^2'].sum()\n",
        "square_sum_w = table1['w'].sum() * table1['w'].sum()\n",
        "\n",
        "A_1 = ((n * sum_wz) - sum_w * sum_z) / ((n * sum_ww) - square_sum_w)\n",
        "\n",
        "A_0 = (sum_z / n) - A_1 * (sum_w / n)"
      ]
    },
    {
      "cell_type": "markdown",
      "id": "f5ff65b4",
      "metadata": {
        "id": "f5ff65b4"
      },
      "source": [
        "**Now that we have found our values for $a_{0}$ and $a_{1}$, we can substitute those in to find a value for a and b.**"
      ]
    },
    {
      "cell_type": "code",
      "execution_count": null,
      "id": "67dcf7fd",
      "metadata": {
        "id": "67dcf7fd",
        "outputId": "f34be1f3-f6c1-445b-c404-53864bcafea0"
      },
      "outputs": [
        {
          "data": {
            "text/plain": [
              "39.106811364904914"
            ]
          },
          "execution_count": 32,
          "metadata": {},
          "output_type": "execute_result"
        }
      ],
      "source": [
        "a = 1 / A_0\n",
        "b = A_1 / A_0\n",
        "b"
      ]
    },
    {
      "cell_type": "markdown",
      "id": "043c33f1",
      "metadata": {
        "id": "043c33f1"
      },
      "source": [
        "**The equation modeling our regression is $\\frac{1}{y} = \\frac{39.107 + x}{23.103x}$.**"
      ]
    },
    {
      "cell_type": "code",
      "execution_count": null,
      "id": "fdf2adb3",
      "metadata": {
        "id": "fdf2adb3"
      },
      "outputs": [],
      "source": [
        "#note that function calculates the reciprocal of our real model\n",
        "def nonlinear_prediction(x):\n",
        "    y = (a*x) / (b+x)\n",
        "    return y"
      ]
    },
    {
      "cell_type": "code",
      "execution_count": null,
      "id": "602ed353",
      "metadata": {
        "id": "602ed353",
        "outputId": "29c26b7c-93d9-45b3-97f7-04b0f4f6ffbf"
      },
      "outputs": [
        {
          "data": {
            "image/png": "[encoded data removed]",
            "text/plain": [
              "<Figure size 640x480 with 1 Axes>"
            ]
          },
          "metadata": {},
          "output_type": "display_data"
        }
      ],
      "source": [
        "x_ = np.arange(70,216)\n",
        "y_ = nonlinear_prediction(x_)\n",
        "plt.ylim(0,836)\n",
        "plt.plot(x_,y_,'g',label = 'Regression Line')\n",
        "plt.scatter(x1,y1,label = 'Movies')\n",
        "plt.xlabel('Runtime in Minutes')\n",
        "plt.ylabel('On-Screen Death Count')\n",
        "plt.legend()\n",
        "plt.show()"
      ]
    },
    {
      "cell_type": "markdown",
      "id": "03064e03",
      "metadata": {
        "id": "03064e03"
      },
      "source": [
        "**We can see that the chosen regression model was not a wonderful fit for the data. It does not appear as though there is a nonlinear relationship between the runtime of a movie and the number of on-screen deaths. Perhaps a saturation growth model would have befit the data better, but it does not appear as though there is any correlation in the data points here.**"
      ]
    }
  ],
  "metadata": {
    "kernelspec": {
      "display_name": "Python 3 (ipykernel)",
      "language": "python",
      "name": "python3"
    },
    "language_info": {
      "codemirror_mode": {
        "name": "ipython",
        "version": 3
      },
      "file_extension": ".py",
      "mimetype": "text/x-python",
      "name": "python",
      "nbconvert_exporter": "python",
      "pygments_lexer": "ipython3",
      "version": "3.9.13"
    },
    "colab": {
      "provenance": [],
      "include_colab_link": true
    }
  },
  "nbformat": 4,
  "nbformat_minor": 5
}