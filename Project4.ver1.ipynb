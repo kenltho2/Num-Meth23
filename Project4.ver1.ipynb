{
 "cells": [
  {
   "cell_type": "code",
   "execution_count": 131,
   "id": "5b98f747",
   "metadata": {},
   "outputs": [],
   "source": [
    "import numpy as np\n",
    "#solving systems of equations\n",
    "\n",
    "#function to create an augmented matrix\n",
    "#n = number of unknowns\n",
    "#np.zeros((3,4)) creates a 3 x 4 array of 0s to start out\n",
    "A = np.zeros((3,4))\n",
    "\n",
    "def create_augmented_matrix():\n",
    "    n = len(A)\n",
    "    #loop to input individual values for each unknown coefficient, returning the complete initial augmented matrix\n",
    "    #row count\n",
    "    for i in range (n):\n",
    "        \n",
    "        #column count, 1 extra because this is an augmented matrix; col4 = result\n",
    "        for j in range(n+1):\n",
    "            A[i][j] = float(input('A['+str(i+1)+']['+str(j+1)+'] = '))"
   ]
  },
  {
   "cell_type": "code",
   "execution_count": 141,
   "id": "f99538b2",
   "metadata": {},
   "outputs": [
    {
     "name": "stdout",
     "output_type": "stream",
     "text": [
      "A[1][1] = 2\n",
      "A[1][2] = -1\n",
      "A[1][3] = -3\n",
      "A[1][4] = 0\n",
      "A[2][1] = -1\n",
      "A[2][2] = 2\n",
      "A[2][3] = -3\n",
      "A[2][4] = 0\n",
      "A[3][1] = 1\n",
      "A[3][2] = 1\n",
      "A[3][3] = 4\n",
      "A[3][4] = 0\n"
     ]
    }
   ],
   "source": [
    "create_augmented_matrix()"
   ]
  },
  {
   "cell_type": "code",
   "execution_count": 100,
   "id": "3c4b94c0",
   "metadata": {},
   "outputs": [],
   "source": [
    "#function for swapping rows\n",
    "def swap(a,b):\n",
    "    A[[a-1,b-1]] = A[[b-1,a-1]]\n",
    "    return A"
   ]
  },
  {
   "cell_type": "code",
   "execution_count": 108,
   "id": "dcfe4499",
   "metadata": {},
   "outputs": [],
   "source": [
    "#function for multiplying by a constant\n",
    "def k(a,k):\n",
    "    A[a-1] = k*A[a-1]\n",
    "    return A"
   ]
  },
  {
   "cell_type": "code",
   "execution_count": 138,
   "id": "a40fe3da",
   "metadata": {},
   "outputs": [],
   "source": [
    "#function for adding multiple of other row\n",
    "def multiple(k,row_to_multiply,new_row):\n",
    "    a = row_to_multiply\n",
    "    b = new_row\n",
    "    A[b-1] = k*A[a-1] + A[b-1] \n",
    "    return A"
   ]
  },
  {
   "cell_type": "code",
   "execution_count": 142,
   "id": "c0983b57",
   "metadata": {},
   "outputs": [
    {
     "data": {
      "text/plain": [
       "array([[ 2., -1., -3.,  0.],\n",
       "       [-1.,  2., -3.,  0.],\n",
       "       [ 1.,  1.,  4.,  0.]])"
      ]
     },
     "execution_count": 142,
     "metadata": {},
     "output_type": "execute_result"
    }
   ],
   "source": [
    "A"
   ]
  },
  {
   "cell_type": "markdown",
   "id": "a9c8b42d",
   "metadata": {},
   "source": [
    "**$R_{1} \\leftrightarrow R_{3}$**"
   ]
  },
  {
   "cell_type": "code",
   "execution_count": 143,
   "id": "90414820",
   "metadata": {},
   "outputs": [
    {
     "data": {
      "text/plain": [
       "array([[ 1.,  1.,  4.,  0.],\n",
       "       [-1.,  2., -3.,  0.],\n",
       "       [ 2., -1., -3.,  0.]])"
      ]
     },
     "execution_count": 143,
     "metadata": {},
     "output_type": "execute_result"
    }
   ],
   "source": [
    "swap(1,3)"
   ]
  },
  {
   "cell_type": "markdown",
   "id": "ced01bf9",
   "metadata": {},
   "source": [
    "**$R_{2} + R_{1}$**"
   ]
  },
  {
   "cell_type": "code",
   "execution_count": 144,
   "id": "8bc1f50f",
   "metadata": {},
   "outputs": [
    {
     "data": {
      "text/plain": [
       "array([[ 1.,  1.,  4.,  0.],\n",
       "       [ 0.,  3.,  1.,  0.],\n",
       "       [ 2., -1., -3.,  0.]])"
      ]
     },
     "execution_count": 144,
     "metadata": {},
     "output_type": "execute_result"
    }
   ],
   "source": [
    "multiple(1,1,2)"
   ]
  },
  {
   "cell_type": "markdown",
   "id": "c19caa01",
   "metadata": {},
   "source": [
    "**$-2R_{1} + R_{3}$**"
   ]
  },
  {
   "cell_type": "code",
   "execution_count": 145,
   "id": "7a1ca6a9",
   "metadata": {},
   "outputs": [
    {
     "data": {
      "text/plain": [
       "array([[  1.,   1.,   4.,   0.],\n",
       "       [  0.,   3.,   1.,   0.],\n",
       "       [  0.,  -3., -11.,   0.]])"
      ]
     },
     "execution_count": 145,
     "metadata": {},
     "output_type": "execute_result"
    }
   ],
   "source": [
    "multiple(-2,1,3)"
   ]
  },
  {
   "cell_type": "markdown",
   "id": "cf5e7a8d",
   "metadata": {},
   "source": [
    "**$R_{2} + R_{3}$**"
   ]
  },
  {
   "cell_type": "code",
   "execution_count": 146,
   "id": "3272de26",
   "metadata": {},
   "outputs": [
    {
     "data": {
      "text/plain": [
       "array([[  1.,   1.,   4.,   0.],\n",
       "       [  0.,   3.,   1.,   0.],\n",
       "       [  0.,   0., -10.,   0.]])"
      ]
     },
     "execution_count": 146,
     "metadata": {},
     "output_type": "execute_result"
    }
   ],
   "source": [
    "multiple(1,2,3)"
   ]
  },
  {
   "cell_type": "code",
   "execution_count": 147,
   "id": "898ed265",
   "metadata": {},
   "outputs": [
    {
     "data": {
      "text/plain": [
       "array([[  1.        ,   1.        ,   4.        ,   0.        ],\n",
       "       [  0.        ,   1.        ,   0.33333333,   0.        ],\n",
       "       [  0.        ,   0.        , -10.        ,   0.        ]])"
      ]
     },
     "execution_count": 147,
     "metadata": {},
     "output_type": "execute_result"
    }
   ],
   "source": [
    "k(2,1/3)"
   ]
  },
  {
   "cell_type": "code",
   "execution_count": 151,
   "id": "b61d17ff",
   "metadata": {},
   "outputs": [
    {
     "data": {
      "text/plain": [
       "array([[ 1.        ,  1.        ,  4.        ,  0.        ],\n",
       "       [ 0.        ,  1.        ,  0.33333333,  0.        ],\n",
       "       [-0.        , -0.        ,  1.        , -0.        ]])"
      ]
     },
     "execution_count": 151,
     "metadata": {},
     "output_type": "execute_result"
    }
   ],
   "source": [
    "k(3,-1)"
   ]
  },
  {
   "cell_type": "code",
   "execution_count": 153,
   "id": "ad49584a",
   "metadata": {},
   "outputs": [
    {
     "data": {
      "text/plain": [
       "array([[ 1.,  1.,  4.,  0.],\n",
       "       [ 0.,  1.,  0.,  0.],\n",
       "       [-0., -0.,  1., -0.]])"
      ]
     },
     "execution_count": 153,
     "metadata": {},
     "output_type": "execute_result"
    }
   ],
   "source": [
    "multiple(-2/3,3,2)"
   ]
  },
  {
   "cell_type": "code",
   "execution_count": 154,
   "id": "64326e0c",
   "metadata": {},
   "outputs": [
    {
     "data": {
      "text/plain": [
       "array([[ 1.,  1.,  0.,  0.],\n",
       "       [ 0.,  1.,  0.,  0.],\n",
       "       [-0., -0.,  1., -0.]])"
      ]
     },
     "execution_count": 154,
     "metadata": {},
     "output_type": "execute_result"
    }
   ],
   "source": [
    "multiple(-4,3,1)"
   ]
  },
  {
   "cell_type": "code",
   "execution_count": 155,
   "id": "667cf1e7",
   "metadata": {},
   "outputs": [
    {
     "data": {
      "text/plain": [
       "array([[ 1.,  0.,  0.,  0.],\n",
       "       [ 0.,  1.,  0.,  0.],\n",
       "       [-0., -0.,  1., -0.]])"
      ]
     },
     "execution_count": 155,
     "metadata": {},
     "output_type": "execute_result"
    }
   ],
   "source": [
    "multiple(-1,2,1)"
   ]
  },
  {
   "cell_type": "markdown",
   "id": "2c0a10ba",
   "metadata": {},
   "source": [
    "**This homogenous linear system is accurate for all $x,y,z \\in \\mathbb{R}.$**"
   ]
  }
 ],
 "metadata": {
  "kernelspec": {
   "display_name": "Python 3 (ipykernel)",
   "language": "python",
   "name": "python3"
  },
  "language_info": {
   "codemirror_mode": {
    "name": "ipython",
    "version": 3
   },
   "file_extension": ".py",
   "mimetype": "text/x-python",
   "name": "python",
   "nbconvert_exporter": "python",
   "pygments_lexer": "ipython3",
   "version": "3.9.13"
  }
 },
 "nbformat": 4,
 "nbformat_minor": 5
}
