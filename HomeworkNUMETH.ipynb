{
  "nbformat": 4,
  "nbformat_minor": 0,
  "metadata": {
    "colab": {
      "provenance": [],
      "authorship_tag": "ABX9TyNIf4Ymr2aLWkDs/RknTpC/",
      "include_colab_link": true
    },
    "kernelspec": {
      "name": "python3",
      "display_name": "Python 3"
    },
    "language_info": {
      "name": "python"
    }
  },
  "cells": [
    {
      "cell_type": "markdown",
      "metadata": {
        "id": "view-in-github",
        "colab_type": "text"
      },
      "source": [
        "<a href=\"https://colab.research.google.com/github/kenltho2/Num-Meth23/blob/main/HomeworkNUMETH.ipynb\" target=\"_parent\"><img src=\"https://colab.research.google.com/assets/colab-badge.svg\" alt=\"Open In Colab\"/></a>"
      ]
    },
    {
      "cell_type": "code",
      "source": [
        "import math"
      ],
      "metadata": {
        "id": "KHd9UwD-x5zn"
      },
      "execution_count": null,
      "outputs": []
    },
    {
      "cell_type": "code",
      "execution_count": null,
      "metadata": {
        "id": "BsR8lh-1wcsM"
      },
      "outputs": [],
      "source": [
        "# homework file for webwork 1\n",
        "def sin_taylor(x,n):\n",
        "  sin_x = 0\n",
        "  for i in range(0,n):\n",
        "    sin_x += (-1)**(i) * (x**(2*i+1))/(math.factorial(2*i+1))\n",
        "  return sin_x"
      ]
    },
    {
      "cell_type": "code",
      "source": [
        "sin_taylor(0,3)"
      ],
      "metadata": {
        "colab": {
          "base_uri": "https://localhost:8080/"
        },
        "id": "MMjD7snl53H-",
        "outputId": "8cb8d782-4daa-4754-bcee-f4128114f6b9"
      },
      "execution_count": null,
      "outputs": [
        {
          "output_type": "execute_result",
          "data": {
            "text/plain": [
              "0.0"
            ]
          },
          "metadata": {},
          "execution_count": 3
        }
      ]
    },
    {
      "cell_type": "code",
      "source": [
        "def e_taylor(x,n):\n",
        "  e = 1 + x + ((x**2)/2) + ((x**3)/6)\n",
        "  return e\n",
        "print(math.exp(.1) - e_taylor(.1,3))\n",
        "print(math.exp(.5) - e_taylor(.5,3))\n",
        "print(math.exp(1) - e_taylor(1,3))\n",
        "print(math.exp(2) - e_taylor(2,3))"
      ],
      "metadata": {
        "colab": {
          "base_uri": "https://localhost:8080/"
        },
        "id": "tkQCYsXN96Bf",
        "outputId": "33be91bc-3fe4-4555-d389-3fb815bf0be9"
      },
      "execution_count": null,
      "outputs": [
        {
          "output_type": "stream",
          "name": "stdout",
          "text": [
            "4.2514089810818945e-06\n",
            "0.002887937366794935\n",
            "0.05161516179237857\n",
            "1.0557227655973174\n"
          ]
        }
      ]
    },
    {
      "cell_type": "code",
      "source": [
        "def sum(n):\n",
        "  tsum = 0\n",
        "  for i in range(1,n+1):\n",
        "    tsum+= 5/(i+5)\n",
        "  return tsum\n",
        "sum(8)"
      ],
      "metadata": {
        "colab": {
          "base_uri": "https://localhost:8080/"
        },
        "id": "GcLKixCoAA95",
        "outputId": "271de174-9782-4f2d-abd5-475bc845a40b"
      },
      "execution_count": null,
      "outputs": [
        {
          "output_type": "execute_result",
          "data": {
            "text/plain": [
              "4.484002109002109"
            ]
          },
          "metadata": {},
          "execution_count": 5
        }
      ]
    },
    {
      "cell_type": "code",
      "source": [
        "def sum2(n):\n",
        "  ssum = 0\n",
        "  for i in range(1,n+1):\n",
        "    ssum+= (2)/((i)*(i+1))\n",
        "  return ssum\n",
        "\n",
        "sum2(6)"
      ],
      "metadata": {
        "colab": {
          "base_uri": "https://localhost:8080/"
        },
        "id": "-1KxkFr8BHKg",
        "outputId": "aaff2304-8df1-482f-e64a-d1c7aea1e15c"
      },
      "execution_count": null,
      "outputs": [
        {
          "output_type": "execute_result",
          "data": {
            "text/plain": [
              "1.7142857142857144"
            ]
          },
          "metadata": {},
          "execution_count": 6
        }
      ]
    },
    {
      "cell_type": "code",
      "source": [
        "def S(N):\n",
        "  return 7-(4/N**2)\n",
        "S(16)-S(3)"
      ],
      "metadata": {
        "colab": {
          "base_uri": "https://localhost:8080/"
        },
        "id": "lrhpNj2_5cjS",
        "outputId": "451d2c62-c5c2-44d1-b8ea-b939a2f3dd35"
      },
      "execution_count": null,
      "outputs": [
        {
          "output_type": "execute_result",
          "data": {
            "text/plain": [
              "0.42881944444444464"
            ]
          },
          "metadata": {},
          "execution_count": 7
        }
      ]
    },
    {
      "cell_type": "code",
      "source": [
        "3* 4.9**2"
      ],
      "metadata": {
        "id": "lendWcdeZuxn",
        "colab": {
          "base_uri": "https://localhost:8080/"
        },
        "outputId": "efa34f91-2122-497e-dfdc-6af134bca76b"
      },
      "execution_count": null,
      "outputs": [
        {
          "output_type": "execute_result",
          "data": {
            "text/plain": [
              "72.03000000000002"
            ]
          },
          "metadata": {},
          "execution_count": 20
        }
      ]
    },
    {
      "cell_type": "code",
      "source": [
        "75*5-4.9**3"
      ],
      "metadata": {
        "id": "0qVM5GPpaDG_",
        "colab": {
          "base_uri": "https://localhost:8080/"
        },
        "outputId": "b1238591-7a42-4c76-8bad-339a87cba921"
      },
      "execution_count": null,
      "outputs": [
        {
          "output_type": "execute_result",
          "data": {
            "text/plain": [
              "257.351"
            ]
          },
          "metadata": {},
          "execution_count": 19
        }
      ]
    },
    {
      "cell_type": "code",
      "source": [
        "def sin(x):\n",
        "  return math.sin(x/360 *math.pi)\n",
        "\n",
        "def cos(x):\n",
        "  return math.cos(x)\n",
        "\n",
        "sin(60)"
      ],
      "metadata": {
        "colab": {
          "base_uri": "https://localhost:8080/"
        },
        "id": "OXUfen6cbzmq",
        "outputId": "4ae657e3-1fe3-4d55-9113-307f13957d78"
      },
      "execution_count": null,
      "outputs": [
        {
          "output_type": "execute_result",
          "data": {
            "text/plain": [
              "0.49999999999999994"
            ]
          },
          "metadata": {},
          "execution_count": 26
        }
      ]
    },
    {
      "cell_type": "code",
      "source": [
        "def k(h):\n",
        "  kh = (5**h - 1) / h\n",
        "  return kh\n",
        "k(.0000001)"
      ],
      "metadata": {
        "colab": {
          "base_uri": "https://localhost:8080/"
        },
        "id": "Wygo_pmJIppv",
        "outputId": "b32a0e77-0f6e-4a08-c463-0e68cc46248f"
      },
      "execution_count": null,
      "outputs": [
        {
          "output_type": "execute_result",
          "data": {
            "text/plain": [
              "1.609438042837752"
            ]
          },
          "metadata": {},
          "execution_count": 3
        }
      ]
    },
    {
      "cell_type": "code",
      "source": [
        "# HOME WORK 2\n",
        "def f(x):\n",
        "  dx = math.sin(deg_to_rad(x))\n",
        "  return dx\n",
        "\n",
        "def deg_to_rad(deg):\n",
        "  rad = deg * (math.pi / 180)\n",
        "  return rad\n",
        "\n",
        "def center(x,h):\n",
        "  centerx = ((f(x+h) - f(x-h))) / (2*h)\n",
        "  return centerx\n",
        "\n",
        "\n",
        "def forward(x,h):\n",
        "  forx = ((f(x+h) - f(x))) / h\n",
        "  return forx\n",
        "print(str(forward(8,.1)))\n",
        "print(str(forward(8,.01)))\n",
        "print(str(forward(8,-.01)))\n",
        "print(str(forward(8,-.1)))"
      ],
      "metadata": {
        "colab": {
          "base_uri": "https://localhost:8080/"
        },
        "id": "ReSYhIOGJVJ5",
        "outputId": "8815d187-6d36-4b5f-e374-2132cc8d6f19"
      },
      "execution_count": null,
      "outputs": [
        {
          "output_type": "stream",
          "name": "stdout",
          "text": [
            "0.017281309775172282\n",
            "0.017283226216405212\n",
            "0.01728365016191169\n",
            "0.017285549229187902\n"
          ]
        }
      ]
    },
    {
      "cell_type": "code",
      "source": [
        "forward(f(56),.01)"
      ],
      "metadata": {
        "colab": {
          "base_uri": "https://localhost:8080/"
        },
        "id": "6VmFyIkiiW-Z",
        "outputId": "d2f19bd3-8668-4a0b-aeaa-7b86b237b641"
      },
      "execution_count": null,
      "outputs": [
        {
          "output_type": "execute_result",
          "data": {
            "text/plain": [
              "0.017451443375351115"
            ]
          },
          "metadata": {},
          "execution_count": 37
        }
      ]
    },
    {
      "cell_type": "code",
      "source": [
        "forward(1,.4)"
      ],
      "metadata": {
        "colab": {
          "base_uri": "https://localhost:8080/"
        },
        "id": "d9xTP7W7VK7y",
        "outputId": "84133e9e-b28c-4edb-c68c-644b68a42fbc"
      },
      "execution_count": null,
      "outputs": [
        {
          "output_type": "execute_result",
          "data": {
            "text/plain": [
              "-0.7142857142857142"
            ]
          },
          "metadata": {},
          "execution_count": 17
        }
      ]
    },
    {
      "cell_type": "code",
      "source": [
        "def g(x,y):\n",
        "  gxy = math.exp(x*math.log(y))\n",
        "  return gxy\n",
        "def gdx(x,y,h):\n",
        "  Gdx = ((g(x+h,y) - g(x,y))) / h\n",
        "  return Gdx\n",
        "def gdy(x,y,h):\n",
        "  Gdy = ((g(x,y+h) - g(x,y))) / h\n",
        "  return Gdy\n",
        "print(str(gdx(3,4,.02)))\n",
        "print(str(gdy(3,4,.02)))"
      ],
      "metadata": {
        "colab": {
          "base_uri": "https://localhost:8080/"
        },
        "id": "dPp-JCp6XKOE",
        "outputId": "21896800-73a4-48f1-96a7-7b78e4bedf4a"
      },
      "execution_count": null,
      "outputs": [
        {
          "output_type": "stream",
          "name": "stdout",
          "text": [
            "89.96424529941329\n",
            "48.240400000000605\n"
          ]
        }
      ]
    }
  ]
}